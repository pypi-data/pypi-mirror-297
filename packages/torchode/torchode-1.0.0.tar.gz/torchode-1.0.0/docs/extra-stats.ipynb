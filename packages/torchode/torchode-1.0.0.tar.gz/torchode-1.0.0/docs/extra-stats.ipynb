{
 "cells": [
  {
   "cell_type": "markdown",
   "id": "46327300-b000-4a93-b42a-7caef72e0a59",
   "metadata": {},
   "source": [
    "# Logging Solver Information"
   ]
  },
  {
   "cell_type": "markdown",
   "id": "45feb98e-1972-4600-a3a8-13cc1661a277",
   "metadata": {},
   "source": [
    "One of the key features of torchode is that all components are replaceable and any components can log its own outputs (captured in a dictionary called `stats`). This means that you can inject your own code and log anything information that is relevant for your usecase. In this example, we will create a step size controller wrapper that logs the step times `t` and all accept decisions, i.e. if each step was accepted or rejected by the step size controller."
   ]
  },
  {
   "cell_type": "markdown",
   "id": "5f35a722-6c14-49cb-9768-954e2ef5eb61",
   "metadata": {},
   "source": [
    "We begin by importing relevant modules and defining a generic model class."
   ]
  },
  {
   "cell_type": "code",
   "execution_count": 1,
   "id": "c717d8d2-0564-424b-8b63-0bf74395c5fc",
   "metadata": {},
   "outputs": [],
   "source": [
    "import torch\n",
    "import torch.nn as nn\n",
    "import torchode as to\n",
    "from torchode.step_size_controllers import StepSizeController\n",
    "\n",
    "torch.random.manual_seed(180819023);"
   ]
  },
  {
   "cell_type": "code",
   "execution_count": 2,
   "id": "98820150-ecf4-4ab4-88b7-fa1dcee681c5",
   "metadata": {},
   "outputs": [],
   "source": [
    "class Model(nn.Module):\n",
    "    def __init__(self, n_features, n_hidden):\n",
    "        super().__init__()\n",
    "        self.layers = nn.Sequential(\n",
    "            nn.Linear(n_features, n_hidden),\n",
    "            nn.Softplus(),\n",
    "            nn.Linear(n_hidden, n_hidden),\n",
    "            nn.Softplus(),\n",
    "            nn.Linear(n_hidden, n_features)\n",
    "        )\n",
    "    \n",
    "    def forward(self, t, y):\n",
    "        return self.layers(y)"
   ]
  },
  {
   "cell_type": "markdown",
   "id": "9bd96be4-0a78-4e5f-9815-afda3953aa11",
   "metadata": {},
   "source": [
    "Now we define the wrapper that will track the step size data. By deferring the actual functionality to another controller, we can re-use the existing controller implementations and focus on collecting the information that we care about, in this case the integration time points `t`, the step size `dt` and whether each step was accepted.\n",
    "\n",
    "To define this custom controller, we just have to satisfy the `StepSizeController` interface. For the actual functionality we defer to another controller instance. In `init` we additionally initialize fields in the statistics dictionary for the current solve to capture `t` and so on. The `adapt_step_size` method then records the information into those fields.\n",
    "\n",
    "Note that you could proceed in a similar way to track information about the stepping methods, e.g. dopri5, by defining a `SingleStepMethod`."
   ]
  },
  {
   "cell_type": "code",
   "execution_count": 3,
   "id": "b8aed13a-a135-4ad7-aa37-f28a9837ded6",
   "metadata": {},
   "outputs": [],
   "source": [
    "class StepSizeControllerTracker(StepSizeController):\n",
    "    \"\"\"A wrapper that collects time step and step acceptance information.\"\"\"\n",
    "\n",
    "    def __init__(self, controller: StepSizeController):\n",
    "        super().__init__()\n",
    "\n",
    "        self.controller = controller\n",
    "\n",
    "    def init(self, term, problem, method_order: int, dt0, *, stats, args):\n",
    "        stats[\"all_t\"] = []\n",
    "        stats[\"all_dt\"] = []\n",
    "        stats[\"all_accept\"] = []\n",
    "\n",
    "        return self.controller.init(\n",
    "            term, problem, method_order, dt0, stats=stats, args=args\n",
    "        )\n",
    "\n",
    "    def adapt_step_size(self, t0, dt, y0, step, state, stats):\n",
    "        accept, dt_next, state, status = self.controller.adapt_step_size(\n",
    "            t0, dt, y0, step, state, stats\n",
    "        )\n",
    "\n",
    "        stats[\"all_t\"].append(t0)\n",
    "        stats[\"all_dt\"].append(dt)\n",
    "        stats[\"all_accept\"].append(accept)\n",
    "\n",
    "        return accept, dt_next, state, status\n",
    "\n",
    "    def merge_states(self, running, current, previous):\n",
    "        return self.controller.merge_states(running, current, previous)"
   ]
  },
  {
   "cell_type": "markdown",
   "id": "ebda2a83-81ee-48c8-93a4-dd6c8c73aa06",
   "metadata": {},
   "source": [
    "Next, we construct a solver and wrap the step size controller with our tracker."
   ]
  },
  {
   "cell_type": "code",
   "execution_count": 4,
   "id": "3720e3bf-dc2a-4d91-a56f-b9ca93d77392",
   "metadata": {},
   "outputs": [],
   "source": [
    "n_features = 5\n",
    "batch_size = 3\n",
    "\n",
    "model = Model(n_features=n_features, n_hidden=32)"
   ]
  },
  {
   "cell_type": "code",
   "execution_count": 5,
   "id": "d8a40685-5df1-4f56-b317-cd2e419cbee9",
   "metadata": {},
   "outputs": [],
   "source": [
    "dev = torch.device(\"cpu\")\n",
    "term = to.ODETerm(model)\n",
    "step_method = to.Dopri5(term=term)\n",
    "step_size_controller = to.IntegralController(atol=1e-6, rtol=1e-3, term=term)\n",
    "step_size_controller = StepSizeControllerTracker(step_size_controller)\n",
    "adjoint = to.AutoDiffAdjoint(step_method, step_size_controller).to(dev)"
   ]
  },
  {
   "cell_type": "markdown",
   "id": "fe6e8b4e-331e-405a-8757-91d179e9da75",
   "metadata": {},
   "source": [
    "Finally, we generate some example data and evaluate the ODE defined by a randomly initialized model."
   ]
  },
  {
   "cell_type": "code",
   "execution_count": 6,
   "id": "b6a004e0-4327-4d6f-b19e-fb44b21c9584",
   "metadata": {},
   "outputs": [],
   "source": [
    "t_eval = torch.tile(torch.linspace(0.0, 3.0, 10), (batch_size, 1))\n",
    "problem = to.InitialValueProblem(y0=torch.zeros((batch_size, n_features)).to(dev), t_eval=t_eval.to(dev))\n",
    "\n",
    "sol = adjoint.solve(problem)"
   ]
  },
  {
   "cell_type": "markdown",
   "id": "dacffa2b-fed5-4a60-a41b-1c5027b2854f",
   "metadata": {},
   "source": [
    "In the end, we can inspect the statistics recorded in the solution object and see that our custom step size controller collected the data."
   ]
  },
  {
   "cell_type": "code",
   "execution_count": 7,
   "id": "960abf1b-16c0-497d-bf89-ad999734039e",
   "metadata": {},
   "outputs": [
    {
     "name": "stdout",
     "output_type": "stream",
     "text": [
      "tensor([[0.0000e+00, 0.0000e+00, 0.0000e+00],\n",
      "        [1.0000e-04, 1.0000e-04, 1.0000e-04],\n",
      "        [1.1000e-03, 1.1000e-03, 1.1000e-03],\n",
      "        [1.1100e-02, 1.1100e-02, 1.1100e-02],\n",
      "        [1.1110e-01, 1.1110e-01, 1.1110e-01],\n",
      "        [9.3798e-01, 9.3798e-01, 9.3798e-01]], grad_fn=<StackBackward0>)\n"
     ]
    }
   ],
   "source": [
    "print(torch.stack(sol.stats[\"all_t\"]))"
   ]
  },
  {
   "cell_type": "code",
   "execution_count": 8,
   "id": "6994ebb9-85e3-460f-8542-b0a00722c820",
   "metadata": {},
   "outputs": [
    {
     "name": "stdout",
     "output_type": "stream",
     "text": [
      "tensor([[1.0000e-04, 1.0000e-04, 1.0000e-04],\n",
      "        [1.0000e-03, 1.0000e-03, 1.0000e-03],\n",
      "        [1.0000e-02, 1.0000e-02, 1.0000e-02],\n",
      "        [1.0000e-01, 1.0000e-01, 1.0000e-01],\n",
      "        [8.2688e-01, 8.2688e-01, 8.2688e-01],\n",
      "        [2.0620e+00, 2.0620e+00, 2.0620e+00]], grad_fn=<StackBackward0>)\n"
     ]
    }
   ],
   "source": [
    "print(torch.stack(sol.stats[\"all_dt\"]))"
   ]
  },
  {
   "cell_type": "code",
   "execution_count": 9,
   "id": "7d19d776-d44e-4e8f-b370-2deceb8d1020",
   "metadata": {},
   "outputs": [
    {
     "name": "stdout",
     "output_type": "stream",
     "text": [
      "tensor([[True, True, True],\n",
      "        [True, True, True],\n",
      "        [True, True, True],\n",
      "        [True, True, True],\n",
      "        [True, True, True],\n",
      "        [True, True, True]])\n"
     ]
    }
   ],
   "source": [
    "print(torch.stack(sol.stats[\"all_accept\"]))"
   ]
  }
 ],
 "metadata": {
  "kernelspec": {
   "display_name": "Python 3 (ipykernel)",
   "language": "python",
   "name": "python3"
  },
  "language_info": {
   "codemirror_mode": {
    "name": "ipython",
    "version": 3
   },
   "file_extension": ".py",
   "mimetype": "text/x-python",
   "name": "python",
   "nbconvert_exporter": "python",
   "pygments_lexer": "ipython3",
   "version": "3.10.10"
  }
 },
 "nbformat": 4,
 "nbformat_minor": 5
}
