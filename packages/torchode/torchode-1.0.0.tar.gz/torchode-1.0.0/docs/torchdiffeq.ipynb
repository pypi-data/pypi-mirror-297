{
 "cells": [
  {
   "cell_type": "markdown",
   "id": "8f540e7a-06f2-4bff-90de-53165fd49ffc",
   "metadata": {},
   "source": [
    "# Recreate torchdiffeq's defaults in torchode"
   ]
  },
  {
   "cell_type": "code",
   "execution_count": 1,
   "id": "5124d19f-2375-48c8-8842-c09cdb172197",
   "metadata": {},
   "outputs": [],
   "source": [
    "import torch\n",
    "import torch.nn as nn\n",
    "import torchode as to\n",
    "import torchdiffeq as tde\n",
    "\n",
    "torch.random.manual_seed(180819023);"
   ]
  },
  {
   "cell_type": "markdown",
   "id": "d55ee38b-e9f5-4100-9279-4c2d1f8d8209",
   "metadata": {},
   "source": [
    "Consider a two-layer, randomly initialized MLP."
   ]
  },
  {
   "cell_type": "code",
   "execution_count": 2,
   "id": "86385546-682f-4602-aca5-98266efd725f",
   "metadata": {},
   "outputs": [],
   "source": [
    "class Model(nn.Module):\n",
    "    def __init__(self, n_features, n_hidden):\n",
    "        super().__init__()\n",
    "        self.layers = nn.Sequential(\n",
    "            nn.Linear(n_features, n_hidden),\n",
    "            nn.Softplus(),\n",
    "            nn.Linear(n_hidden, n_hidden),\n",
    "            nn.Softplus(),\n",
    "            nn.Linear(n_hidden, n_features)\n",
    "        )\n",
    "    \n",
    "    def forward(self, t, y):\n",
    "        return self.layers(y)\n",
    "    \n",
    "n_features = 5\n",
    "model = Model(n_features, 16)"
   ]
  },
  {
   "cell_type": "markdown",
   "id": "39d89552-c195-45ee-8b0f-a699621772e1",
   "metadata": {},
   "source": [
    "We would like to evaluate this model on the following initial data `y0` and time points `t_eval`."
   ]
  },
  {
   "cell_type": "code",
   "execution_count": 3,
   "id": "b41c8780-87cb-4d33-ae22-5c8f21fe37ed",
   "metadata": {},
   "outputs": [],
   "source": [
    "batch_size = 16\n",
    "n_steps = 10\n",
    "y0 = torch.randn((batch_size, n_features))\n",
    "t_eval = torch.linspace(0.0, 1.0, n_steps)"
   ]
  },
  {
   "cell_type": "markdown",
   "id": "e8bee6b6-c16d-47f9-a124-39e4ab923ba2",
   "metadata": {},
   "source": [
    "With torchdiffeq that looks as follows."
   ]
  },
  {
   "cell_type": "code",
   "execution_count": 4,
   "id": "e16c714e-bd32-45fa-a23c-9aaee5793ffb",
   "metadata": {},
   "outputs": [],
   "source": [
    "sol_tde = tde.odeint(model, y0, t_eval)"
   ]
  },
  {
   "cell_type": "markdown",
   "id": "5a1d1e7b-89cc-42d0-983a-66dc60597fa6",
   "metadata": {},
   "source": [
    "In torchode, we set up the components and then put them together to create a solver from them that backpropagates by autodiffing through the solver operations (discretize-then-optimize)."
   ]
  },
  {
   "cell_type": "code",
   "execution_count": 5,
   "id": "f0920884-8519-45ef-bb11-89060ceef3ed",
   "metadata": {},
   "outputs": [],
   "source": [
    "term = to.ODETerm(model)\n",
    "step_method = to.Dopri5(term=term)\n",
    "step_size_controller = to.IntegralController(atol=1e-9, rtol=1e-7, term=term)\n",
    "adjoint = to.AutoDiffAdjoint(step_method, step_size_controller)"
   ]
  },
  {
   "cell_type": "markdown",
   "id": "9fd6146e-2460-45bb-b7c7-ebee88d22484",
   "metadata": {},
   "source": [
    "Now we can reuse the solver in `adjoint` for any problem we want to solve, for example the one from above. For that we create a problem instance and pass it to the solver. Note that we have to repeat the evaluation time points for each sample in the batch because torchode solves a separate ODE for each sample."
   ]
  },
  {
   "cell_type": "code",
   "execution_count": 6,
   "id": "aeaa535e-bd43-437c-9496-b13fbd381ddc",
   "metadata": {},
   "outputs": [],
   "source": [
    "problem = to.InitialValueProblem(y0=y0, t_eval=t_eval.repeat((batch_size, 1)))\n",
    "sol = adjoint.solve(problem)"
   ]
  },
  {
   "cell_type": "markdown",
   "id": "68a678ed-f8e8-434a-9890-3abb75170ced",
   "metadata": {},
   "source": [
    "Comparing the two solutions shows that they are very close."
   ]
  },
  {
   "cell_type": "code",
   "execution_count": 7,
   "id": "72a50651-e6be-491d-b7ca-e154c72cf0b3",
   "metadata": {},
   "outputs": [
    {
     "data": {
      "text/plain": [
       "(3.3444638347646105e-07, 6.198883056640625e-06)"
      ]
     },
     "execution_count": 7,
     "metadata": {},
     "output_type": "execute_result"
    }
   ],
   "source": [
    "abs_err = (sol.ys - sol_tde.transpose(0, 1)).abs()\n",
    "\n",
    "abs_err.mean().item(), abs_err.max().item()"
   ]
  },
  {
   "cell_type": "markdown",
   "id": "2564fa98-b026-41f8-a336-907cef6e1914",
   "metadata": {},
   "source": [
    "Finally, let's look at the solution statistics that torchode gives us."
   ]
  },
  {
   "cell_type": "code",
   "execution_count": 8,
   "id": "5bf4de32-1052-4144-92c3-6045c8c93c5a",
   "metadata": {},
   "outputs": [
    {
     "data": {
      "text/plain": [
       "{'n_f_evals': tensor([50, 50, 50, 50, 50, 50, 50, 50, 50, 50, 50, 50, 50, 50, 50, 50]),\n",
       " 'n_steps': tensor([5, 5, 6, 8, 5, 6, 6, 5, 6, 7, 5, 5, 5, 5, 5, 7]),\n",
       " 'n_accepted': tensor([5, 5, 6, 7, 5, 6, 5, 5, 5, 7, 5, 5, 5, 5, 5, 7]),\n",
       " 'n_initialized': tensor([10, 10, 10, 10, 10, 10, 10, 10, 10, 10, 10, 10, 10, 10, 10, 10])}"
      ]
     },
     "execution_count": 8,
     "metadata": {},
     "output_type": "execute_result"
    }
   ],
   "source": [
    "sol.stats"
   ]
  }
 ],
 "metadata": {
  "kernelspec": {
   "display_name": "Python 3 (ipykernel)",
   "language": "python",
   "name": "python3"
  },
  "language_info": {
   "codemirror_mode": {
    "name": "ipython",
    "version": 3
   },
   "file_extension": ".py",
   "mimetype": "text/x-python",
   "name": "python",
   "nbconvert_exporter": "python",
   "pygments_lexer": "ipython3",
   "version": "3.10.8"
  }
 },
 "nbformat": 4,
 "nbformat_minor": 5
}
