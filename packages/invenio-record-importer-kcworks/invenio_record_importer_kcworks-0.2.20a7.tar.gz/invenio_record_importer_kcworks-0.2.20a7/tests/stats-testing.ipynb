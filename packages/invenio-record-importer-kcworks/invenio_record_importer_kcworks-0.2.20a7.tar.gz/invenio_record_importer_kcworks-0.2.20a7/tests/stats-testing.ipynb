{
 "cells": [
  {
   "cell_type": "code",
   "execution_count": 69,
   "metadata": {},
   "outputs": [
    {
     "name": "stdout",
     "output_type": "stream",
     "text": [
      "108\n",
      "{'country': 'imported',\n",
      " 'is_robot': False,\n",
      " 'parent_recid': 'hwq2e-mwz96',\n",
      " 'recid': 'hse7q-t5221',\n",
      " 'timestamp': '2024-09-06T09:19:42',\n",
      " 'unique_id': 'ui_hse7q-t5221',\n",
      " 'unique_session_id': '4c36cfac62f8637aa556841d2f3d0276f1aa121eeb77751fce34168d',\n",
      " 'updated_timestamp': '2024-09-18T22:52:24.638910',\n",
      " 'via_api': False,\n",
      " 'visitor_id': 'a93f5ad8f20015e667df5e3339dfd5477b70b164746135c054d516f7'}\n",
      "108\n",
      "[{'doc_count': 108, 'key': 'ui_hse7q-t5221', 'unique_count': {'value': 108}}]\n"
     ]
    }
   ],
   "source": [
    "from flask import current_app as app\n",
    "from opensearchpy.client import OpenSearch\n",
    "from opensearchpy.helpers.search import Search\n",
    "from pprint import pprint\n",
    "\n",
    "client = OpenSearch(\n",
    "    hosts=[{\"host\": \"localhost\", \"port\": 9200}],\n",
    "    http_auth=(\"admin\", \"admin\"),\n",
    "    scheme=\"http\",\n",
    ")\n",
    "search = Search(\n",
    "    using=client,\n",
    "    index=\"events-stats-record-view\",\n",
    ")\n",
    "search._params[\"size\"] = 10000\n",
    "search = search.filter(\"term\", country=\"imported\").filter(\"term\", recid=\"hse7q-t5221\")\n",
    "# search = search.filter(\"term\", unique_session_id=\"0a0c3bb63269a28073c7d5e9265040f906121264526599c4a1f60e6b\")\n",
    "# search = search.filter(\"range\", timestamp={\"gte\": \"2024-01-01T00:00:00\", \"lte\": \"2025-01-01T00:00:00\"})\n",
    "terms = search.aggs.bucket(\"terms\", \"terms\", field=\"unique_id\")\n",
    "terms.metric(\n",
    "    \"top_hit\", \"top_hits\", size=10, sort={\"timestamp\": \"desc\"}\n",
    ")\n",
    "terms.metric(\n",
    "    \"unique_count\",\n",
    "    \"cardinality\",\n",
    "    field=\"unique_session_id\",\n",
    "    precision_threshold=2000,\n",
    ")\n",
    "# one bucket per document with all that document's events,\n",
    "# each bucket has\n",
    "# - \"doc_count\" with the total number of events\n",
    "# - \"unique_count\" with the number of unique unique_session_id values\n",
    "\n",
    "response = list(search.scan())\n",
    "print(len(response))\n",
    "ids = []\n",
    "if len(response) > 0:\n",
    "    pprint(response[0].to_dict())\n",
    "for r in response:\n",
    "    if r.to_dict()[\"unique_session_id\"] not in ids:\n",
    "        ids.append(r.to_dict()[\"unique_session_id\"])\n",
    "    else:\n",
    "        print(\"DUPLICATE unique_session_id\")\n",
    "        print(r.to_dict()[\"unique_session_id\"])\n",
    "        print(r.to_dict())\n",
    "\n",
    "response = search.execute()\n",
    "print(response.hits.total.value)\n",
    "pprint([{k: v for k, v in b.items() if k in [\"key\", \"doc_count\", \"unique_count\"]} for b in response.to_dict()['aggregations']['terms']['buckets']])"
   ]
  },
  {
   "cell_type": "code",
   "execution_count": 70,
   "metadata": {},
   "outputs": [
    {
     "name": "stdout",
     "output_type": "stream",
     "text": [
      "0\n",
      "0\n",
      "0\n",
      "0\n",
      "[]\n",
      "{'_shards': {'failed': 0, 'skipped': 0, 'successful': 45, 'total': 45},\n",
      " 'hits': {'hits': [],\n",
      "          'max_score': None,\n",
      "          'total': {'relation': 'eq', 'value': 0}},\n",
      " 'timed_out': False,\n",
      " 'took': 2}\n"
     ]
    }
   ],
   "source": [
    "from flask import current_app as app\n",
    "from opensearchpy.client import OpenSearch\n",
    "from opensearchpy.helpers.search import Search\n",
    "from pprint import pprint\n",
    "\n",
    "client = OpenSearch(\n",
    "    hosts=[{\"host\": \"localhost\", \"port\": 9200}],\n",
    "    http_auth=(\"admin\", \"admin\"),\n",
    "    scheme=\"http\",\n",
    ")\n",
    "search = Search(\n",
    "    using=client,\n",
    "    index=\"stats-record-view\",\n",
    ")\n",
    "search = search.filter(\"term\", recid=\"hse7q-t5221\")\n",
    "print(search.count())\n",
    "# search = search.filter(\"term\", timestamp=\"2024-01-01T00:00:00\")\n",
    "\n",
    "search._params[\"size\"] = 10000\n",
    "response = search.execute()\n",
    "print(response.hits.total.value)\n",
    "print(sum([h[\"_source\"][\"count\"] for h in response.to_dict()[\"hits\"][\"hits\"]]))\n",
    "print(sum([h[\"_source\"][\"unique_count\"] for h in response.to_dict()[\"hits\"][\"hits\"]]))\n",
    "print([h for h in response.to_dict()[\"hits\"][\"hits\"] if h[\"_source\"][\"unique_count\"] != h[\"_source\"][\"count\"]])\n",
    "pprint(response.to_dict())\n"
   ]
  },
  {
   "cell_type": "code",
   "execution_count": 60,
   "metadata": {},
   "outputs": [
    {
     "name": "stdout",
     "output_type": "stream",
     "text": [
      "{'_shards': {'failed': 0, 'skipped': 0, 'successful': 69, 'total': 69},\n",
      " 'hits': {'hits': [],\n",
      "          'max_score': None,\n",
      "          'total': {'relation': 'eq', 'value': 0}},\n",
      " 'timed_out': False,\n",
      " 'took': 8}\n"
     ]
    }
   ],
   "source": [
    "from flask import current_app as app\n",
    "from opensearchpy.client import OpenSearch\n",
    "from opensearchpy.helpers.search import Search\n",
    "from pprint import pprint\n",
    "\n",
    "client = OpenSearch(\n",
    "    hosts=[{\"host\": \"localhost\", \"port\": 9200}],\n",
    "    http_auth=(\"admin\", \"admin\"),\n",
    "    scheme=\"http\",\n",
    ")\n",
    "aggs_query = Search(\n",
    "            using=client,\n",
    "            index=\"stats-record-view\",\n",
    "        ).extra(_source=False)\n",
    "aggs_query = aggs_query.filter(\"term\", recid=\"b6td4-wpw6\")\n",
    "aggs_query = aggs_query.filter(\"range\", timestamp={\"gte\": \"2024-06-01T00:00:00\", \"lte\": \"2025-01-01T00:00:00\"})\n",
    "\n",
    "result = aggs_query.execute()\n",
    "pprint(result.to_dict())"
   ]
  }
 ],
 "metadata": {
  "kernelspec": {
   "display_name": "invenio-record-importer-5MKTutCr",
   "language": "python",
   "name": "python3"
  },
  "language_info": {
   "codemirror_mode": {
    "name": "ipython",
    "version": 3
   },
   "file_extension": ".py",
   "mimetype": "text/x-python",
   "name": "python",
   "nbconvert_exporter": "python",
   "pygments_lexer": "ipython3",
   "version": "3.9.16"
  }
 },
 "nbformat": 4,
 "nbformat_minor": 2
}
