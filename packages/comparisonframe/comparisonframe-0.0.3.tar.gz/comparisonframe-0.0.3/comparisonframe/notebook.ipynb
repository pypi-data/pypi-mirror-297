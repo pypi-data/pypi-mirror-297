{
 "cells": [
  {
   "cell_type": "code",
   "execution_count": 9,
   "metadata": {},
   "outputs": [],
   "source": [
    "from comparisonframe import ComparisonFrame"
   ]
  },
  {
   "cell_type": "markdown",
   "metadata": {},
   "source": [
    "### 1. Creating validation set"
   ]
  },
  {
   "cell_type": "markdown",
   "metadata": {},
   "source": [
    "#### 1.1 Initialize comparison class"
   ]
  },
  {
   "cell_type": "code",
   "execution_count": 11,
   "metadata": {},
   "outputs": [],
   "source": [
    "comparer = ComparisonFrame(\n",
    "    # optionally\n",
    "    ## mocker default parameters\n",
    "    mocker_params = {\n",
    "        'file_path' : \"./comparisonframe_storage\",\n",
    "         'persist' : True},\n",
    "\n",
    "    ## scores to calculate\n",
    "    compare_scores = ['word_count_diff','semantic_similarity'],\n",
    "    aggr_scores = ['median']\n",
    ")"
   ]
  },
  {
   "cell_type": "markdown",
   "metadata": {},
   "source": [
    "#### 1.2 Recording queries and expected responses (validation set)"
   ]
  },
  {
   "cell_type": "code",
   "execution_count": 12,
   "metadata": {},
   "outputs": [],
   "source": [
    "comparer.record_queries(\n",
    "    queries = [\"Black metal\", \n",
    "               \"Tribulation\"],\n",
    "    expected_texts = [\"Black metal is an extreme subgenre of heavy metal music.\",\n",
    "    \"Tribulation are a Swedish heavy metal band from Arvika that formed in 2005.\"],\n",
    "    metadata = {'name' : 'metal_bands'})"
   ]
  },
  {
   "cell_type": "markdown",
   "metadata": {},
   "source": [
    "### 2. Comparing newly generated data with expected results "
   ]
  },
  {
   "cell_type": "markdown",
   "metadata": {},
   "source": [
    "#### 2.1 Initialize new comparison class"
   ]
  },
  {
   "cell_type": "code",
   "execution_count": 13,
   "metadata": {},
   "outputs": [],
   "source": [
    "comparer = ComparisonFrame(\n",
    "    # optionally\n",
    "    ## mocker default parameters\n",
    "    mocker_params = {\n",
    "        'file_path' : \"./comparisonframe_storage\",\n",
    "         'persist' : True},\n",
    "\n",
    "    ## scores to calculate\n",
    "    compare_scores = ['word_count_diff','semantic_similarity'],\n",
    "    aggr_scores = ['median']\n",
    ")"
   ]
  },
  {
   "cell_type": "markdown",
   "metadata": {},
   "source": [
    "### 2.2 Show validation set"
   ]
  },
  {
   "cell_type": "code",
   "execution_count": 14,
   "metadata": {},
   "outputs": [
    {
     "name": "stdout",
     "output_type": "stream",
     "text": [
      "['Black metal', 'Tribulation']\n"
     ]
    }
   ],
   "source": [
    "untested_queries = comparer.get_all_queries(\n",
    "    ## optional\n",
    "    metadata_filters={'name' : 'metal_bands'})\n",
    "print(untested_queries)"
   ]
  },
  {
   "cell_type": "code",
   "execution_count": 15,
   "metadata": {},
   "outputs": [
    {
     "data": {
      "text/plain": [
       "[{'record_id': '0cc157453395b440f36d1a1aee24aa76a03f5f9ab0a7a8bd7b663c92f2f16e87',\n",
       "  'query': 'Black metal',\n",
       "  'expected_text': 'Black metal is an extreme subgenre of heavy metal music.'},\n",
       " {'record_id': 'eecd9c2a5b25ee6053891b894157fa30372ed694763385e1ada1dc9ad8e41625',\n",
       "  'query': 'Tribulation',\n",
       "  'expected_text': 'Tribulation are a Swedish heavy metal band from Arvika that formed in 2005.'}]"
      ]
     },
     "execution_count": 15,
     "metadata": {},
     "output_type": "execute_result"
    }
   ],
   "source": [
    "comparer.get_all_records()"
   ]
  },
  {
   "cell_type": "code",
   "execution_count": 16,
   "metadata": {},
   "outputs": [
    {
     "data": {
      "text/html": [
       "<div>\n",
       "<style scoped>\n",
       "    .dataframe tbody tr th:only-of-type {\n",
       "        vertical-align: middle;\n",
       "    }\n",
       "\n",
       "    .dataframe tbody tr th {\n",
       "        vertical-align: top;\n",
       "    }\n",
       "\n",
       "    .dataframe thead th {\n",
       "        text-align: right;\n",
       "    }\n",
       "</style>\n",
       "<table border=\"1\" class=\"dataframe\">\n",
       "  <thead>\n",
       "    <tr style=\"text-align: right;\">\n",
       "      <th></th>\n",
       "      <th>record_id</th>\n",
       "      <th>query</th>\n",
       "      <th>expected_text</th>\n",
       "    </tr>\n",
       "  </thead>\n",
       "  <tbody>\n",
       "    <tr>\n",
       "      <th>0</th>\n",
       "      <td>0cc157453395b440f36d1a1aee24aa76a03f5f9ab0a7a8...</td>\n",
       "      <td>Black metal</td>\n",
       "      <td>Black metal is an extreme subgenre of heavy me...</td>\n",
       "    </tr>\n",
       "    <tr>\n",
       "      <th>1</th>\n",
       "      <td>eecd9c2a5b25ee6053891b894157fa30372ed694763385...</td>\n",
       "      <td>Tribulation</td>\n",
       "      <td>Tribulation are a Swedish heavy metal band fro...</td>\n",
       "    </tr>\n",
       "  </tbody>\n",
       "</table>\n",
       "</div>"
      ],
      "text/plain": [
       "                                           record_id        query  \\\n",
       "0  0cc157453395b440f36d1a1aee24aa76a03f5f9ab0a7a8...  Black metal   \n",
       "1  eecd9c2a5b25ee6053891b894157fa30372ed694763385...  Tribulation   \n",
       "\n",
       "                                       expected_text  \n",
       "0  Black metal is an extreme subgenre of heavy me...  \n",
       "1  Tribulation are a Swedish heavy metal band fro...  "
      ]
     },
     "execution_count": 16,
     "metadata": {},
     "output_type": "execute_result"
    }
   ],
   "source": [
    "comparer.get_all_records_df()"
   ]
  },
  {
   "cell_type": "markdown",
   "metadata": {},
   "source": [
    "#### 2.3 Insert newly generated with records"
   ]
  },
  {
   "cell_type": "code",
   "execution_count": 17,
   "metadata": {},
   "outputs": [],
   "source": [
    "valid_answer_query_1 = \"Black metal is an extreme subgenre of heavy metal music.\"\n",
    "very_similar_answer_query_1 = \"Black metal is a subgenre of heavy metal music.\"\n",
    "unexpected_answer_query_1 = \"Black metals are beautiful and are often used in jewelry design.\""
   ]
  },
  {
   "cell_type": "code",
   "execution_count": 18,
   "metadata": {},
   "outputs": [],
   "source": [
    "comparer.record_runs(queries = [\"Black metal\"],\n",
    "                     provided_texts = [valid_answer_query_1,\n",
    "                                      very_similar_answer_query_1,\n",
    "                                      unexpected_answer_query_1],\n",
    "                    metadata={'desc' : 'definitions'})"
   ]
  },
  {
   "cell_type": "code",
   "execution_count": 19,
   "metadata": {},
   "outputs": [
    {
     "data": {
      "text/plain": [
       "[{'timestamp': '2024-09-24 03:43:48',\n",
       "  'run_id': 'e8f5f87186ac81a38896e602c7d8a4e1b973aa00973b68cbfdc983e6c1762d6e',\n",
       "  'query': 'Black metal',\n",
       "  'provided_text': 'Black metal is an extreme subgenre of heavy metal music.'},\n",
       " {'timestamp': '2024-09-24 03:43:48',\n",
       "  'run_id': 'e0e4dfaff0b16227dbfde7a75eb9f060ccd2b1b5acc8b4b48aa9d305a3591353',\n",
       "  'query': 'Black metal',\n",
       "  'provided_text': 'Black metal is a subgenre of heavy metal music.'},\n",
       " {'timestamp': '2024-09-24 03:43:48',\n",
       "  'run_id': '4e806f8cf2bd2184e63d41c85322e129b14c8d5206472c7668077452386257af',\n",
       "  'query': 'Black metal',\n",
       "  'provided_text': 'Black metals are beautiful and are often used in jewelry design.'}]"
      ]
     },
     "execution_count": 19,
     "metadata": {},
     "output_type": "execute_result"
    }
   ],
   "source": [
    "comparer.get_all_runs()"
   ]
  },
  {
   "cell_type": "code",
   "execution_count": 20,
   "metadata": {},
   "outputs": [
    {
     "data": {
      "text/html": [
       "<div>\n",
       "<style scoped>\n",
       "    .dataframe tbody tr th:only-of-type {\n",
       "        vertical-align: middle;\n",
       "    }\n",
       "\n",
       "    .dataframe tbody tr th {\n",
       "        vertical-align: top;\n",
       "    }\n",
       "\n",
       "    .dataframe thead th {\n",
       "        text-align: right;\n",
       "    }\n",
       "</style>\n",
       "<table border=\"1\" class=\"dataframe\">\n",
       "  <thead>\n",
       "    <tr style=\"text-align: right;\">\n",
       "      <th></th>\n",
       "      <th>timestamp</th>\n",
       "      <th>run_id</th>\n",
       "      <th>query</th>\n",
       "      <th>provided_text</th>\n",
       "    </tr>\n",
       "  </thead>\n",
       "  <tbody>\n",
       "    <tr>\n",
       "      <th>0</th>\n",
       "      <td>2024-09-24 03:43:48</td>\n",
       "      <td>e8f5f87186ac81a38896e602c7d8a4e1b973aa00973b68...</td>\n",
       "      <td>Black metal</td>\n",
       "      <td>Black metal is an extreme subgenre of heavy me...</td>\n",
       "    </tr>\n",
       "    <tr>\n",
       "      <th>1</th>\n",
       "      <td>2024-09-24 03:43:48</td>\n",
       "      <td>e0e4dfaff0b16227dbfde7a75eb9f060ccd2b1b5acc8b4...</td>\n",
       "      <td>Black metal</td>\n",
       "      <td>Black metal is a subgenre of heavy metal music.</td>\n",
       "    </tr>\n",
       "    <tr>\n",
       "      <th>2</th>\n",
       "      <td>2024-09-24 03:43:48</td>\n",
       "      <td>4e806f8cf2bd2184e63d41c85322e129b14c8d5206472c...</td>\n",
       "      <td>Black metal</td>\n",
       "      <td>Black metals are beautiful and are often used ...</td>\n",
       "    </tr>\n",
       "  </tbody>\n",
       "</table>\n",
       "</div>"
      ],
      "text/plain": [
       "             timestamp                                             run_id  \\\n",
       "0  2024-09-24 03:43:48  e8f5f87186ac81a38896e602c7d8a4e1b973aa00973b68...   \n",
       "1  2024-09-24 03:43:48  e0e4dfaff0b16227dbfde7a75eb9f060ccd2b1b5acc8b4...   \n",
       "2  2024-09-24 03:43:48  4e806f8cf2bd2184e63d41c85322e129b14c8d5206472c...   \n",
       "\n",
       "         query                                      provided_text  \n",
       "0  Black metal  Black metal is an extreme subgenre of heavy me...  \n",
       "1  Black metal    Black metal is a subgenre of heavy metal music.  \n",
       "2  Black metal  Black metals are beautiful and are often used ...  "
      ]
     },
     "execution_count": 20,
     "metadata": {},
     "output_type": "execute_result"
    }
   ],
   "source": [
    "df = comparer.get_all_runs_df()\n",
    "df"
   ]
  },
  {
   "cell_type": "markdown",
   "metadata": {},
   "source": [
    "#### 2.4 Comparing runs with records"
   ]
  },
  {
   "cell_type": "code",
   "execution_count": 21,
   "metadata": {},
   "outputs": [
    {
     "name": "stderr",
     "output_type": "stream",
     "text": [
      "WARNING:ComparisonFrame:No data was found with applied filters!\n"
     ]
    }
   ],
   "source": [
    "comparer.compare_runs_with_records()"
   ]
  },
  {
   "cell_type": "code",
   "execution_count": 22,
   "metadata": {},
   "outputs": [
    {
     "data": {
      "text/plain": [
       "[{'timestamp': '2024-09-24 03:43:57',\n",
       "  'run_id': 'e8f5f87186ac81a38896e602c7d8a4e1b973aa00973b68cbfdc983e6c1762d6e',\n",
       "  'query': 'Black metal',\n",
       "  'provided_text': 'Black metal is an extreme subgenre of heavy metal music.',\n",
       "  'record_id': '0cc157453395b440f36d1a1aee24aa76a03f5f9ab0a7a8bd7b663c92f2f16e87',\n",
       "  'word_count_diff': 0,\n",
       "  'semantic_similarity': 1.0000001192092896,\n",
       "  'comparison_id': '9376f9245bf3a237ef1eb4920cc2c86918fdba5e5934014058b14286fbd31f32'},\n",
       " {'timestamp': '2024-09-24 03:43:57',\n",
       "  'run_id': 'e0e4dfaff0b16227dbfde7a75eb9f060ccd2b1b5acc8b4b48aa9d305a3591353',\n",
       "  'query': 'Black metal',\n",
       "  'provided_text': 'Black metal is a subgenre of heavy metal music.',\n",
       "  'record_id': '0cc157453395b440f36d1a1aee24aa76a03f5f9ab0a7a8bd7b663c92f2f16e87',\n",
       "  'word_count_diff': 1,\n",
       "  'semantic_similarity': 0.9859851002693176,\n",
       "  'comparison_id': '756abbce6c86dea26ce9f3d0cc11668b76df40120faf2fbee1dad5daa1e201ec'},\n",
       " {'timestamp': '2024-09-24 03:43:57',\n",
       "  'run_id': '4e806f8cf2bd2184e63d41c85322e129b14c8d5206472c7668077452386257af',\n",
       "  'query': 'Black metal',\n",
       "  'provided_text': 'Black metals are beautiful and are often used in jewelry design.',\n",
       "  'record_id': '0cc157453395b440f36d1a1aee24aa76a03f5f9ab0a7a8bd7b663c92f2f16e87',\n",
       "  'word_count_diff': 1,\n",
       "  'semantic_similarity': 0.4940534234046936,\n",
       "  'comparison_id': 'f6ab2967695a560f4ff208e03c2804b09f26b9356ab5da592186e503a900ab56'}]"
      ]
     },
     "execution_count": 22,
     "metadata": {},
     "output_type": "execute_result"
    }
   ],
   "source": [
    "comparer.get_all_run_scores()"
   ]
  },
  {
   "cell_type": "code",
   "execution_count": 23,
   "metadata": {},
   "outputs": [
    {
     "data": {
      "text/html": [
       "<div>\n",
       "<style scoped>\n",
       "    .dataframe tbody tr th:only-of-type {\n",
       "        vertical-align: middle;\n",
       "    }\n",
       "\n",
       "    .dataframe tbody tr th {\n",
       "        vertical-align: top;\n",
       "    }\n",
       "\n",
       "    .dataframe thead th {\n",
       "        text-align: right;\n",
       "    }\n",
       "</style>\n",
       "<table border=\"1\" class=\"dataframe\">\n",
       "  <thead>\n",
       "    <tr style=\"text-align: right;\">\n",
       "      <th></th>\n",
       "      <th>timestamp</th>\n",
       "      <th>run_id</th>\n",
       "      <th>query</th>\n",
       "      <th>provided_text</th>\n",
       "      <th>record_id</th>\n",
       "      <th>word_count_diff</th>\n",
       "      <th>semantic_similarity</th>\n",
       "      <th>comparison_id</th>\n",
       "    </tr>\n",
       "  </thead>\n",
       "  <tbody>\n",
       "    <tr>\n",
       "      <th>0</th>\n",
       "      <td>2024-09-24 03:43:57</td>\n",
       "      <td>e8f5f87186ac81a38896e602c7d8a4e1b973aa00973b68...</td>\n",
       "      <td>Black metal</td>\n",
       "      <td>Black metal is an extreme subgenre of heavy me...</td>\n",
       "      <td>0cc157453395b440f36d1a1aee24aa76a03f5f9ab0a7a8...</td>\n",
       "      <td>0</td>\n",
       "      <td>1.000000</td>\n",
       "      <td>9376f9245bf3a237ef1eb4920cc2c86918fdba5e593401...</td>\n",
       "    </tr>\n",
       "    <tr>\n",
       "      <th>1</th>\n",
       "      <td>2024-09-24 03:43:57</td>\n",
       "      <td>e0e4dfaff0b16227dbfde7a75eb9f060ccd2b1b5acc8b4...</td>\n",
       "      <td>Black metal</td>\n",
       "      <td>Black metal is a subgenre of heavy metal music.</td>\n",
       "      <td>0cc157453395b440f36d1a1aee24aa76a03f5f9ab0a7a8...</td>\n",
       "      <td>1</td>\n",
       "      <td>0.985985</td>\n",
       "      <td>756abbce6c86dea26ce9f3d0cc11668b76df40120faf2f...</td>\n",
       "    </tr>\n",
       "    <tr>\n",
       "      <th>2</th>\n",
       "      <td>2024-09-24 03:43:57</td>\n",
       "      <td>4e806f8cf2bd2184e63d41c85322e129b14c8d5206472c...</td>\n",
       "      <td>Black metal</td>\n",
       "      <td>Black metals are beautiful and are often used ...</td>\n",
       "      <td>0cc157453395b440f36d1a1aee24aa76a03f5f9ab0a7a8...</td>\n",
       "      <td>1</td>\n",
       "      <td>0.494053</td>\n",
       "      <td>f6ab2967695a560f4ff208e03c2804b09f26b9356ab5da...</td>\n",
       "    </tr>\n",
       "  </tbody>\n",
       "</table>\n",
       "</div>"
      ],
      "text/plain": [
       "             timestamp                                             run_id  \\\n",
       "0  2024-09-24 03:43:57  e8f5f87186ac81a38896e602c7d8a4e1b973aa00973b68...   \n",
       "1  2024-09-24 03:43:57  e0e4dfaff0b16227dbfde7a75eb9f060ccd2b1b5acc8b4...   \n",
       "2  2024-09-24 03:43:57  4e806f8cf2bd2184e63d41c85322e129b14c8d5206472c...   \n",
       "\n",
       "         query                                      provided_text  \\\n",
       "0  Black metal  Black metal is an extreme subgenre of heavy me...   \n",
       "1  Black metal    Black metal is a subgenre of heavy metal music.   \n",
       "2  Black metal  Black metals are beautiful and are often used ...   \n",
       "\n",
       "                                           record_id  word_count_diff  \\\n",
       "0  0cc157453395b440f36d1a1aee24aa76a03f5f9ab0a7a8...                0   \n",
       "1  0cc157453395b440f36d1a1aee24aa76a03f5f9ab0a7a8...                1   \n",
       "2  0cc157453395b440f36d1a1aee24aa76a03f5f9ab0a7a8...                1   \n",
       "\n",
       "   semantic_similarity                                      comparison_id  \n",
       "0             1.000000  9376f9245bf3a237ef1eb4920cc2c86918fdba5e593401...  \n",
       "1             0.985985  756abbce6c86dea26ce9f3d0cc11668b76df40120faf2f...  \n",
       "2             0.494053  f6ab2967695a560f4ff208e03c2804b09f26b9356ab5da...  "
      ]
     },
     "execution_count": 23,
     "metadata": {},
     "output_type": "execute_result"
    }
   ],
   "source": [
    "comparer.get_all_run_scores_df()"
   ]
  },
  {
   "cell_type": "markdown",
   "metadata": {},
   "source": [
    "### 3 Calculating aggregate comparison scores"
   ]
  },
  {
   "cell_type": "code",
   "execution_count": 24,
   "metadata": {},
   "outputs": [
    {
     "name": "stderr",
     "output_type": "stream",
     "text": [
      "WARNING:ComparisonFrame:No data was found with applied filters!\n"
     ]
    }
   ],
   "source": [
    "comparer.calculate_aggr_scores()"
   ]
  },
  {
   "cell_type": "code",
   "execution_count": 25,
   "metadata": {},
   "outputs": [
    {
     "data": {
      "text/plain": [
       "[{'timestamp': '2024-09-24 03:44:07',\n",
       "  'comparison_id': ['9376f9245bf3a237ef1eb4920cc2c86918fdba5e5934014058b14286fbd31f32',\n",
       "   '756abbce6c86dea26ce9f3d0cc11668b76df40120faf2fbee1dad5daa1e201ec',\n",
       "   'f6ab2967695a560f4ff208e03c2804b09f26b9356ab5da592186e503a900ab56'],\n",
       "  'query': 'Black metal',\n",
       "  'median_word_count_diff': 1.0,\n",
       "  'median_semantic_similarity': 0.9859851002693176,\n",
       "  'record_status_id': '2723311824179b0f89b65a513368bfe05298a625b7c73b5a06ff33702689d56a'}]"
      ]
     },
     "execution_count": 25,
     "metadata": {},
     "output_type": "execute_result"
    }
   ],
   "source": [
    "comparer.get_all_aggr_scores()"
   ]
  },
  {
   "cell_type": "code",
   "execution_count": 26,
   "metadata": {},
   "outputs": [
    {
     "data": {
      "text/html": [
       "<div>\n",
       "<style scoped>\n",
       "    .dataframe tbody tr th:only-of-type {\n",
       "        vertical-align: middle;\n",
       "    }\n",
       "\n",
       "    .dataframe tbody tr th {\n",
       "        vertical-align: top;\n",
       "    }\n",
       "\n",
       "    .dataframe thead th {\n",
       "        text-align: right;\n",
       "    }\n",
       "</style>\n",
       "<table border=\"1\" class=\"dataframe\">\n",
       "  <thead>\n",
       "    <tr style=\"text-align: right;\">\n",
       "      <th></th>\n",
       "      <th>timestamp</th>\n",
       "      <th>comparison_id</th>\n",
       "      <th>query</th>\n",
       "      <th>median_word_count_diff</th>\n",
       "      <th>median_semantic_similarity</th>\n",
       "      <th>record_status_id</th>\n",
       "    </tr>\n",
       "  </thead>\n",
       "  <tbody>\n",
       "    <tr>\n",
       "      <th>0</th>\n",
       "      <td>2024-09-24 03:44:07</td>\n",
       "      <td>[9376f9245bf3a237ef1eb4920cc2c86918fdba5e59340...</td>\n",
       "      <td>Black metal</td>\n",
       "      <td>1.0</td>\n",
       "      <td>0.985985</td>\n",
       "      <td>2723311824179b0f89b65a513368bfe05298a625b7c73b...</td>\n",
       "    </tr>\n",
       "  </tbody>\n",
       "</table>\n",
       "</div>"
      ],
      "text/plain": [
       "             timestamp                                      comparison_id  \\\n",
       "0  2024-09-24 03:44:07  [9376f9245bf3a237ef1eb4920cc2c86918fdba5e59340...   \n",
       "\n",
       "         query  median_word_count_diff  median_semantic_similarity  \\\n",
       "0  Black metal                     1.0                    0.985985   \n",
       "\n",
       "                                    record_status_id  \n",
       "0  2723311824179b0f89b65a513368bfe05298a625b7c73b...  "
      ]
     },
     "execution_count": 26,
     "metadata": {},
     "output_type": "execute_result"
    }
   ],
   "source": [
    "comparer.get_all_aggr_scores_df()"
   ]
  },
  {
   "cell_type": "markdown",
   "metadata": {},
   "source": [
    "### 4. Recording test statuses"
   ]
  },
  {
   "cell_type": "code",
   "execution_count": 27,
   "metadata": {},
   "outputs": [],
   "source": [
    "comparer.calculate_test_statuses(test_query = \"median_semantic_similarity > 0.9\")\n"
   ]
  },
  {
   "cell_type": "code",
   "execution_count": 28,
   "metadata": {},
   "outputs": [
    {
     "data": {
      "text/plain": [
       "[{'timestamp': '2024-09-24 03:44:13',\n",
       "  'record_id': '0cc157453395b440f36d1a1aee24aa76a03f5f9ab0a7a8bd7b663c92f2f16e87',\n",
       "  'record_status_id': '2723311824179b0f89b65a513368bfe05298a625b7c73b5a06ff33702689d56a',\n",
       "  'query': 'Black metal',\n",
       "  'test': 'median_semantic_similarity > 0.9',\n",
       "  'valid': True}]"
      ]
     },
     "execution_count": 28,
     "metadata": {},
     "output_type": "execute_result"
    }
   ],
   "source": [
    "comparer.get_test_statuses()"
   ]
  },
  {
   "cell_type": "code",
   "execution_count": 29,
   "metadata": {},
   "outputs": [
    {
     "data": {
      "text/html": [
       "<div>\n",
       "<style scoped>\n",
       "    .dataframe tbody tr th:only-of-type {\n",
       "        vertical-align: middle;\n",
       "    }\n",
       "\n",
       "    .dataframe tbody tr th {\n",
       "        vertical-align: top;\n",
       "    }\n",
       "\n",
       "    .dataframe thead th {\n",
       "        text-align: right;\n",
       "    }\n",
       "</style>\n",
       "<table border=\"1\" class=\"dataframe\">\n",
       "  <thead>\n",
       "    <tr style=\"text-align: right;\">\n",
       "      <th></th>\n",
       "      <th>timestamp</th>\n",
       "      <th>record_id</th>\n",
       "      <th>record_status_id</th>\n",
       "      <th>query</th>\n",
       "      <th>test</th>\n",
       "      <th>valid</th>\n",
       "    </tr>\n",
       "  </thead>\n",
       "  <tbody>\n",
       "    <tr>\n",
       "      <th>0</th>\n",
       "      <td>2024-09-24 03:44:13</td>\n",
       "      <td>0cc157453395b440f36d1a1aee24aa76a03f5f9ab0a7a8...</td>\n",
       "      <td>2723311824179b0f89b65a513368bfe05298a625b7c73b...</td>\n",
       "      <td>Black metal</td>\n",
       "      <td>median_semantic_similarity &gt; 0.9</td>\n",
       "      <td>True</td>\n",
       "    </tr>\n",
       "  </tbody>\n",
       "</table>\n",
       "</div>"
      ],
      "text/plain": [
       "             timestamp                                          record_id  \\\n",
       "0  2024-09-24 03:44:13  0cc157453395b440f36d1a1aee24aa76a03f5f9ab0a7a8...   \n",
       "\n",
       "                                    record_status_id        query  \\\n",
       "0  2723311824179b0f89b65a513368bfe05298a625b7c73b...  Black metal   \n",
       "\n",
       "                               test  valid  \n",
       "0  median_semantic_similarity > 0.9   True  "
      ]
     },
     "execution_count": 29,
     "metadata": {},
     "output_type": "execute_result"
    }
   ],
   "source": [
    "comparer.get_test_statuses_df()"
   ]
  },
  {
   "cell_type": "markdown",
   "metadata": {},
   "source": [
    "### 5. Reseting statuses, flushing records and comparison results"
   ]
  },
  {
   "cell_type": "code",
   "execution_count": null,
   "metadata": {},
   "outputs": [],
   "source": [
    "comparer.flush_records()"
   ]
  },
  {
   "cell_type": "code",
   "execution_count": null,
   "metadata": {},
   "outputs": [],
   "source": [
    "comparer.flush_runs()"
   ]
  },
  {
   "cell_type": "code",
   "execution_count": null,
   "metadata": {},
   "outputs": [],
   "source": [
    "comparer.flush_comparison_scores()"
   ]
  },
  {
   "cell_type": "code",
   "execution_count": null,
   "metadata": {},
   "outputs": [],
   "source": [
    "comparer.flush_aggregate_scores()"
   ]
  },
  {
   "cell_type": "code",
   "execution_count": null,
   "metadata": {},
   "outputs": [],
   "source": [
    "comparer.flush_test_statuses()"
   ]
  }
 ],
 "metadata": {
  "kernelspec": {
   "display_name": "msearch",
   "language": "python",
   "name": "python3"
  },
  "language_info": {
   "codemirror_mode": {
    "name": "ipython",
    "version": 3
   },
   "file_extension": ".py",
   "mimetype": "text/x-python",
   "name": "python",
   "nbconvert_exporter": "python",
   "pygments_lexer": "ipython3",
   "version": "3.10.14"
  },
  "orig_nbformat": 4
 },
 "nbformat": 4,
 "nbformat_minor": 2
}
