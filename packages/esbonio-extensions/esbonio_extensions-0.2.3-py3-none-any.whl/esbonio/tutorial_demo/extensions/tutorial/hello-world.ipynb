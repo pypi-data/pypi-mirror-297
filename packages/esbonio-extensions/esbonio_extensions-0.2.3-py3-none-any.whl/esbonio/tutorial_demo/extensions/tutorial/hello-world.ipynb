{
  "metadata": {},
  "nbformat": 4,
  "nbformat_minor": 4,
  "cells": [
    {
      "cell_type": "markdown",
      "metadata": {},
      "source": [
        "\n",
        "# Hello World\n",
        "\n",
        "Here is how you print the string `Hello, World!` in Python:\n"
      ]
    },
    {
      "cell_type": "code",
      "metadata": {},
      "execution_count": null,
      "source": [
        "print(\"Hello, World!\")"
      ],
      "outputs": []
    }
  ]
}