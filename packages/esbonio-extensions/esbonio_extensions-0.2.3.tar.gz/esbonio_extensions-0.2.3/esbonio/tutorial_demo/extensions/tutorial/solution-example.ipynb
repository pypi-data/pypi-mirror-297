{
  "metadata": {},
  "nbformat": 4,
  "nbformat_minor": 4,
  "cells": [
    {
      "cell_type": "markdown",
      "metadata": {},
      "source": [
        "\n",
        "# Solution Example\n",
        "\n",
        "This is an example of how to write a tutorial that includes solutions\n",
        "\n",
        "[`sorted()`](https://docs.python.org/3/library/functions.html#sorted) is a function that can be used to sort a list of items:\n"
      ]
    },
    {
      "cell_type": "code",
      "metadata": {},
      "execution_count": null,
      "source": [
        "nums = [5, 3, 8, -23, 11, 2, 1]\n",
        "sorted(nums)"
      ],
      "outputs": []
    },
    {
      "cell_type": "markdown",
      "metadata": {},
      "source": [
        "\n",
        "The `reverse` flag can be used to sort the items in descending order:\n"
      ]
    },
    {
      "cell_type": "code",
      "metadata": {},
      "execution_count": null,
      "source": [
        "sorted(nums, reverse=True)"
      ],
      "outputs": []
    },
    {
      "cell_type": "markdown",
      "metadata": {},
      "source": [
        "\n",
        "Of course this function can be used to sort more than just numbers:\n"
      ]
    },
    {
      "cell_type": "code",
      "metadata": {},
      "execution_count": null,
      "source": [
        "fruit = [\"cherry\", \"apple\", \"kiwi\", \"orange\", \"strawberry\", \"banana\"]\n",
        "sorted(fruit)"
      ],
      "outputs": []
    },
    {
      "cell_type": "markdown",
      "metadata": {},
      "source": [
        "\n",
        "It\u2019s even possible to provide a custom function to specify the criteria by which\n",
        "you want the items sorted. For example, instead of sorting fruit alphabetically,\n",
        "we can sort them by the number of characters in their name:\n"
      ]
    },
    {
      "cell_type": "code",
      "metadata": {},
      "execution_count": null,
      "source": [
        "sorted(fruit, key=len)"
      ],
      "outputs": []
    },
    {
      "cell_type": "markdown",
      "metadata": {},
      "source": [
        "\n",
        "## Exercises\n",
        "\n",
        "Test your understanding with the following excercises\n",
        "\n",
        "### Exercise 1\n",
        "\n",
        "Sort the list of fruit, by the number of characters in their name in descending\n",
        "order\n"
      ]
    },
    {
      "cell_type": "code",
      "metadata": {},
      "execution_count": null,
      "source": [
        "# Write your solution here...\n"
      ],
      "outputs": []
    },
    {
      "cell_type": "code",
      "metadata": {},
      "execution_count": null,
      "source": [
        "# Execute this cell to load the example solution\n",
        "%load ../../resources/extensions/tutorial/solution-example/solution-example-soln-01.py\n"
      ],
      "outputs": []
    },
    {
      "cell_type": "markdown",
      "metadata": {},
      "source": [
        "\n",
        "### Exercise 2\n",
        "\n",
        "Sort the list of fruit, by the number of vowels in their name in ascending order\n"
      ]
    },
    {
      "cell_type": "code",
      "metadata": {},
      "execution_count": null,
      "source": [
        "# Write your solution here...\n"
      ],
      "outputs": []
    },
    {
      "cell_type": "code",
      "metadata": {},
      "execution_count": null,
      "source": [
        "# Execute this cell to load the example solution\n",
        "%load ../../resources/extensions/tutorial/solution-example/solution-example-soln-02.py\n"
      ],
      "outputs": []
    },
    {
      "cell_type": "markdown",
      "metadata": {},
      "source": [
        "\n",
        "### Exercise 3\n",
        "\n",
        "Given the following list of tuples, representing fruit and their corresponding\n",
        "cost, sort them from most to least expensive:\n"
      ]
    },
    {
      "cell_type": "code",
      "metadata": {},
      "execution_count": null,
      "source": [
        "fruit = [(\"cherry\", 0.2), (\"apple\", 1.2), (\"kiwi\", 2.5), (\"orange\", 2), (\"strawberry\", 0.5), (\"banana\", 1.8)]"
      ],
      "outputs": []
    },
    {
      "cell_type": "code",
      "metadata": {},
      "execution_count": null,
      "source": [
        "# Write your solution here...\n"
      ],
      "outputs": []
    },
    {
      "cell_type": "code",
      "metadata": {},
      "execution_count": null,
      "source": [
        "# Execute this cell to load the example solution\n",
        "%load ../../resources/extensions/tutorial/solution-example/solution-example-soln-03.py\n"
      ],
      "outputs": []
    }
  ]
}