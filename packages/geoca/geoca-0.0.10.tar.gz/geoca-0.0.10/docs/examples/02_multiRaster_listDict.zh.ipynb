{
 "cells": [
  {
   "cell_type": "markdown",
   "metadata": {},
   "source": [
    "[![Open In Colab](https://colab.research.google.com/assets/colab-badge.svg)](https://colab.research.google.com/drive/1a9Dqe9TNSwVXbw1zqUfOk0M8bwODYcBh)\n",
    "\n",
    "如有需要，请取消下行注释，以安装 [geoca](https://pypi.org/project/geoca/)、[tqdm](https://pypi.org/project/tqdm/) 和 [pymannkendall](https://pypi.org/project/pymannkendall/)。"
   ]
  },
  {
   "cell_type": "code",
   "execution_count": null,
   "metadata": {},
   "outputs": [],
   "source": [
    "# !pip install geoca tqdm pymannkendall"
   ]
  },
  {
   "cell_type": "markdown",
   "metadata": {},
   "source": [
    "导入模块：**rasterconvert**、**tqdm** 和 **pymannkendall**。\n",
    "\n",
    "使用 **rasterconvert** 转换栅格数据格式，使用 **tqdm** 在运行程序时创建进度条，使用 **pymannkendall** 执行 MK 趋势检验。"
   ]
  },
  {
   "cell_type": "code",
   "execution_count": null,
   "metadata": {},
   "outputs": [],
   "source": [
    "from geoca import rasterconvert\n",
    "from tqdm import tqdm\n",
    "import pymannkendall as mk"
   ]
  },
  {
   "cell_type": "markdown",
   "metadata": {},
   "source": [
    "**rasterconvert.multiRaster_listDict(folder_path, index_list)**：\n",
    "\n",
    "- 从文件夹中读取多个 tif 格式栅格数据，并根据特定的索引值将其存储到字典中。\n",
    "\n",
    "示例数据为某地区 1961-2022 年的降水量栅格数据，通过 multiRaster_listDict 函数读取每年的数据，并以列表形式将栅格输入数据字典。"
   ]
  },
  {
   "cell_type": "code",
   "execution_count": null,
   "metadata": {},
   "outputs": [],
   "source": [
    "index_list = list(range(1961, 2022 + 1))\n",
    "data_dict = rasterconvert.multiRaster_listDict(\"../Pre_Year\", index_list)"
   ]
  },
  {
   "cell_type": "code",
   "execution_count": null,
   "metadata": {},
   "outputs": [],
   "source": [
    "# 在结果字典中逐行输出 2011 年数据列表\n",
    "# 2011 年数据列表示例：[[None, 1, 2],[4, 5, 3],[7, 6, None]]\n",
    "for row in data_dict[2011]:\n",
    "    print(row)"
   ]
  },
  {
   "cell_type": "markdown",
   "metadata": {},
   "source": [
    "**rasterconvert.reorganize_multiRaster_listDict(data_dict, index_list)**：\n",
    "\n",
    "- 以 multiRaster_listDict 函数为基础，对输入的字典数据进行重构，以便于后续处理。"
   ]
  },
  {
   "cell_type": "code",
   "execution_count": null,
   "metadata": {},
   "outputs": [],
   "source": [
    "data_index_list, data_value_dict = rasterconvert.reorganize_multiRaster_listDict(data_dict, index_list)"
   ]
  },
  {
   "cell_type": "code",
   "execution_count": null,
   "metadata": {},
   "outputs": [],
   "source": [
    "# 逐行输出 data_index_list 列表\n",
    "# 该列表为二维索引列表，行列数与原始栅格数据相同，元素值为水平坐标和垂直坐标的元组\n",
    "# data_index_list 列表示例： [[(1, 1), (1, 2), (1, 3)],[(2, 1), (2, 2), (2, 3)],[(3, 1), (3, 2), (3, 3)]]\n",
    "for row in data_index_list:\n",
    "    print(row)"
   ]
  },
  {
   "cell_type": "code",
   "execution_count": null,
   "metadata": {},
   "outputs": [],
   "source": [
    "# 输出 data_value_dict 字典中第一个值中不包含 None 的键值对\n",
    "# 该字典的键为坐标元组（data_index_list 列表元素值），值是与坐标相对应的所有栅格图像元素值的列表（按 index_list 列表顺序排列）\n",
    "# 输出示例：(2, 3): [3, 2, 6, 7, 9]\n",
    "for index, data_list in data_value_dict.items():\n",
    "    if None in data_list:\n",
    "        continue\n",
    "    print(f\"{index}: {data_list}\")\n",
    "    break"
   ]
  },
  {
   "cell_type": "markdown",
   "metadata": {},
   "source": [
    "转换完成后，可根据这些数据对相应的多个栅格像元值进行叠加分析。例如，**pymannkendall** 模块可用于对时间序列气象栅格数据进行 MK 趋势检验，以获得每个图像元素的 slope 值："
   ]
  },
  {
   "cell_type": "code",
   "execution_count": null,
   "metadata": {},
   "outputs": [],
   "source": [
    "# 根据 data_dict 字典中任意列表的行列数创建空列表模板\n",
    "key1 = list(data_dict.keys())[0]\n",
    "list1 = data_dict[key1]\n",
    "rows, cols = len(list1), len(list1[0])\n",
    "slope_list = [[None for _ in range(cols)] for _ in range(rows)]\n",
    "\n",
    "# 遍历 data_value_dict 字典，对字典中的列表执行 MK 趋势检验，并将 slope 依次添加到列表模板中的对应位置\n",
    "for index, data_list in tqdm(data_value_dict.items()):\n",
    "    if None in data_list:\n",
    "        continue\n",
    "    i, j = index\n",
    "    mkTest = mk.original_test(data_list)\n",
    "    slope_list[i][j] = mkTest.slope"
   ]
  },
  {
   "cell_type": "markdown",
   "metadata": {},
   "source": [
    "**rasterconvert.process_raster_data(input_raster_path, output_raster_path, new_data, nodata_value)**：\n",
    "\n",
    "- 根据输入栅格创建栅格模板，并用新数据替换像素值来处理栅格数据。"
   ]
  },
  {
   "cell_type": "code",
   "execution_count": null,
   "metadata": {},
   "outputs": [],
   "source": [
    "rasterconvert.process_raster_data(\"../Pre_Year/Pre_2011.tif\", \"../MKData/mkSlope.tif\", slope_list, None)"
   ]
  }
 ],
 "metadata": {
  "kernelspec": {
   "display_name": "Python 3",
   "language": "python",
   "name": "python3"
  },
  "language_info": {
   "codemirror_mode": {
    "name": "ipython",
    "version": 3
   },
   "file_extension": ".py",
   "mimetype": "text/x-python",
   "name": "python",
   "nbconvert_exporter": "python",
   "pygments_lexer": "ipython3",
   "version": "3.11.5"
  }
 },
 "nbformat": 4,
 "nbformat_minor": 2
}
