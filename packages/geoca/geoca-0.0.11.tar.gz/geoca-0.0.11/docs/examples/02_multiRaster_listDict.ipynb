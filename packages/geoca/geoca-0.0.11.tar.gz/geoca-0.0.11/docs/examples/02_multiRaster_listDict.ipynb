{
 "cells": [
  {
   "cell_type": "markdown",
   "metadata": {},
   "source": [
    "[![Open In Colab](https://colab.research.google.com/assets/colab-badge.svg)](https://colab.research.google.com/drive/1tyAfk10dowfjXP3bY9s0sRLVETYFdgDI)\n",
    "\n",
    "Uncomment the following line to install [geoca](https://pypi.org/project/geoca/), [tqdm](https://pypi.org/project/tqdm/), and [pymannkendall](https://pypi.org/project/pymannkendall/) if needed."
   ]
  },
  {
   "cell_type": "code",
   "execution_count": null,
   "metadata": {},
   "outputs": [],
   "source": [
    "# !pip install geoca tqdm pymannkendall"
   ]
  },
  {
   "cell_type": "markdown",
   "metadata": {},
   "source": [
    "Import modules: **rasterconvert**, **tqdm**, and **pymannkendall**.\n",
    "\n",
    "Use **rasterconvert** to convert the raster data format, **tqdm** to create a progress bar when running the program, and **pymannkendall** to perform MK trend tests."
   ]
  },
  {
   "cell_type": "code",
   "execution_count": null,
   "metadata": {},
   "outputs": [],
   "source": [
    "from geoca import rasterconvert\n",
    "from tqdm import tqdm\n",
    "import pymannkendall as mk"
   ]
  },
  {
   "cell_type": "markdown",
   "metadata": {},
   "source": [
    "**rasterconvert.multiRaster_listDict(folder_path, index_list)**:\n",
    "\n",
    "- Reads multiple raster data (.tif) from a folder and stores it in a dictionary based on specific index values.\n",
    "\n",
    "The example data is the precipitation raster data of a region from 1961-2022, read the data of each year by multiRaster_listDict function, and input the raster into the data dictionary in the form of list."
   ]
  },
  {
   "cell_type": "code",
   "execution_count": null,
   "metadata": {},
   "outputs": [],
   "source": [
    "index_list = list(range(1961, 2022 + 1))\n",
    "data_dict = rasterconvert.multiRaster_listDict(\"../Pre_Year_NE\", index_list)"
   ]
  },
  {
   "cell_type": "code",
   "execution_count": null,
   "metadata": {},
   "outputs": [],
   "source": [
    "# Output the list of 2011 data in the result dictionary line by line\n",
    "# Example of the list of 2011 data: [[None, 1, 2],[4, 5, 3],[7, 6, None]]\n",
    "for row in data_dict[2011]:\n",
    "    print(row)"
   ]
  },
  {
   "cell_type": "markdown",
   "metadata": {},
   "source": [
    "**rasterconvert.reorganize_multiRaster_listDict(data_dict, index_list)**:\n",
    "\n",
    "- Reorganizes data from a list dictionary representing multiple raster data on the basis of the multiRaster_listDict function."
   ]
  },
  {
   "cell_type": "code",
   "execution_count": null,
   "metadata": {},
   "outputs": [],
   "source": [
    "data_index_list, data_value_dict = rasterconvert.reorganize_multiRaster_listDict(data_dict, index_list)"
   ]
  },
  {
   "cell_type": "code",
   "execution_count": null,
   "metadata": {},
   "outputs": [],
   "source": [
    "# Output data_index_list list line by line\n",
    "# The list is a two-dimensional indexed list with the same number of rows and columns as the original raster data, and the list element values are tuples of horizontal and vertical coordinates\n",
    "# Example of the data_index_list list: [[(1, 1), (1, 2), (1, 3)],[(2, 1), (2, 2), (2, 3)],[(3, 1), (3, 2), (3, 3)]]\n",
    "for row in data_index_list:\n",
    "    print(row)"
   ]
  },
  {
   "cell_type": "code",
   "execution_count": null,
   "metadata": {},
   "outputs": [],
   "source": [
    "# Outputs the first key-value pair in the data_value_dict dictionary that does not contain None in the value\n",
    "# The dictionary with the key being the coordinate tuple (index list element value) and the value being a list of all raster image element values corresponding to the coordinates (in index_list order)\n",
    "# Example of output: (2, 3): [3, 2, 6, 7, 9]\n",
    "for index, data_list in data_value_dict.items():\n",
    "    if None in data_list:\n",
    "        continue\n",
    "    print(f\"{index}: {data_list}\")\n",
    "    break"
   ]
  },
  {
   "cell_type": "markdown",
   "metadata": {},
   "source": [
    "Once the conversion is complete, the corresponding multiple raster pixel values can be overlaid and analyzed based on these data. For example, the **pymannkendall** module is used to perform an MK trend test on the time-series meteorological raster data to obtain the Slope value of each image element:"
   ]
  },
  {
   "cell_type": "code",
   "execution_count": null,
   "metadata": {},
   "outputs": [],
   "source": [
    "# Create an empty list template based on the number of rows and columns of any list in the data_dict dictionary\n",
    "key1 = list(data_dict.keys())[0]\n",
    "list1 = data_dict[key1]\n",
    "rows, cols = len(list1), len(list1[0])\n",
    "slope_list = [[None for _ in range(cols)] for _ in range(rows)]\n",
    "\n",
    "# Iterate through the data_value_dict dictionary, perform an MK trend test on the lists in the dictionary,\n",
    "# and add Slope values to the corresponding positions in the list templates in sequence\n",
    "for index, data_list in tqdm(data_value_dict.items()):\n",
    "    if None in data_list:\n",
    "        continue\n",
    "    i, j = index\n",
    "    mkTest = mk.original_test(data_list)\n",
    "    slope_list[i][j] = mkTest.slope"
   ]
  },
  {
   "cell_type": "markdown",
   "metadata": {},
   "source": [
    "**rasterconvert.process_raster_data(input_raster_path, output_raster_path, new_data, nodata_value)**:\n",
    "\n",
    "- Create a raster template based on the input raster, process the raster data by replacing pixel values with the new data."
   ]
  },
  {
   "cell_type": "code",
   "execution_count": null,
   "metadata": {},
   "outputs": [],
   "source": [
    "rasterconvert.process_raster_data(\"../Pre_Year_NE/Pre_2011.tif\", \"../MKData/mkSlope.tif\", slope_list, None)"
   ]
  }
 ],
 "metadata": {
  "kernelspec": {
   "display_name": "Python 3",
   "language": "python",
   "name": "python3"
  },
  "language_info": {
   "codemirror_mode": {
    "name": "ipython",
    "version": 3
   },
   "file_extension": ".py",
   "mimetype": "text/x-python",
   "name": "python",
   "nbconvert_exporter": "python",
   "pygments_lexer": "ipython3",
   "version": "3.11.5"
  }
 },
 "nbformat": 4,
 "nbformat_minor": 2
}
