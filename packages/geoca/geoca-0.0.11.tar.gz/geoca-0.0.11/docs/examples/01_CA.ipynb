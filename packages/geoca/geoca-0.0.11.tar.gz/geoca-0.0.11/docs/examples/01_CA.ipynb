{
  "cells": [
    {
      "cell_type": "markdown",
      "metadata": {
        "id": "_4bXYaBOOnjG"
      },
      "source": [
        "[![Open In Colab](https://colab.research.google.com/assets/colab-badge.svg)](https://colab.research.google.com/drive/1lSiBqgLskDVZqn7TdEPzP6CYA2iP9RdB)\n",
        "\n",
        "Uncomment the following line to install [geoca](https://haorui-jiang.github.io/geoca/) if needed."
      ]
    },
    {
      "cell_type": "code",
      "execution_count": null,
      "metadata": {
        "id": "CmOVEhuiOnjH"
      },
      "outputs": [],
      "source": [
        "# !pip install geoca"
      ]
    },
    {
      "cell_type": "markdown",
      "metadata": {
        "id": "dFa4fdU9OnjH"
      },
      "source": [
        "Import two modules, **rasterconvert** and **cellularautomata**.\n",
        "\n",
        "Use **rasterconvert** for converting raster data formats and **cellularautomata** for running CA models."
      ]
    },
    {
      "cell_type": "code",
      "execution_count": null,
      "metadata": {
        "id": "4YKTJLNJOnjH"
      },
      "outputs": [],
      "source": [
        "from geoca import rasterconvert, cellularautomata"
      ]
    },
    {
      "cell_type": "markdown",
      "metadata": {
        "id": "xHv5ggPLOnjI"
      },
      "source": [
        "**rasterconvert.raster_list(file_path)**:\n",
        "\n",
        "- Reads raster data from a file and converts the data to a Python list where the NoData value is converted to None."
      ]
    },
    {
      "cell_type": "code",
      "execution_count": null,
      "metadata": {
        "id": "BasOtVZ5OnjI"
      },
      "outputs": [],
      "source": [
        "raster_file = \"Data/raster.tif\"\n",
        "data_list = rasterconvert.raster_list(raster_file)\n",
        "\n",
        "# Read the first 100 rows of a data list and output all non-None values\n",
        "for row in data_list[:100]:\n",
        "    non_none_values = [value for value in row if value is not None]\n",
        "    if non_none_values:\n",
        "        print(non_none_values)"
      ]
    },
    {
      "cell_type": "code",
      "execution_count": null,
      "metadata": {
        "id": "N91bIkfzOnjI"
      },
      "outputs": [],
      "source": [
        "# Set the file paths for the original raster data and the new raster data to be output\n",
        "input_raster_path = raster_file\n",
        "output_raster_path = \"Data/result.tif\""
      ]
    },
    {
      "cell_type": "markdown",
      "metadata": {},
      "source": [
        "**cellularautomata.migrate_population_focus(data_list, population, direction_num=4, proportion=1)**:\n",
        "\n",
        "- The population is **focused towards** the most suitable nearby migration areas based on the raster pixel values.\n",
        "\n",
        "**cellularautomata.migrate_population_disperse(data_list, population, direction_num=4, proportion=[0.5, 0.25, 0.15, 0.05])**:\n",
        "\n",
        "- The population is **dispersed** and migrates to the neighborhood based on the raster pixel values.\n",
        "\n",
        "**rasterconvert.process_raster_data(input_raster_path, output_raster_path, new_data, nodata_value)**:\n",
        "\n",
        "- Create a raster template based on the input raster, process the raster data by replacing pixel values with the new data.\n",
        "\n",
        "The **migrate_population_focus()** or **migrate_population_disperse()** function can be used when exporting raster data after completing some specific rounds of iterations.\n",
        "\n",
        "**Note:** When using the **migrate_population_disperse()** function, it is not recommended to iterate too many times as the population migrates to multiple neighboring locations, which may result in an overly dispersed population."
      ]
    },
    {
      "cell_type": "code",
      "execution_count": null,
      "metadata": {},
      "outputs": [],
      "source": [
        "# Run the CA model for a specific number of iterations with an initial population size of 10 per pixel\n",
        "\n",
        "# Create a list of regional populations of the same size as the raster data list and uniformly set all list elements to a value of 10, representing the initial population size of each raster pixel\n",
        "population = [[10 for _ in range(len(data_list[0]))] for _ in range(len(data_list))]\n",
        "\n",
        "iterations = 20  # Set the number of iterations\n",
        "\n",
        "for i in range(iterations):\n",
        "    # Migration of 60% of the population to the most suitable nearby raster pixel.\n",
        "    population = cellularautomata.migrate_population_focus(data_list, population, 4, 0.6)\n",
        "\n",
        "    # The suitability of the neighboring raster pixels is sorted,\n",
        "    # with 1/2 of the population moving in the direction of the maximum,\n",
        "    # 1/4 of the population moving in the second largest direction,\n",
        "    # 1/8 of the population moving in the third largest direction,\n",
        "    # and the rest of the population remaining where they are.\n",
        "    population = cellularautomata.migrate_population_disperse(data_list, population, 4, [0.5, 0.25, 0.125, 0])\n",
        "    print(f\"Iteration {i + 1} is complete.\")\n",
        "\n",
        "    # When the number of iterations is a multiple of 10, output the iteration results as raster data\n",
        "    if (i + 1) % 10 == 0:\n",
        "        # After process_raster_data() finishes running, the NoData value is 0\n",
        "        rasterconvert.process_raster_data(input_raster_path, f\"Data/iterations_{i + 1}.tif\", population, 0)"
      ]
    },
    {
      "cell_type": "markdown",
      "metadata": {
        "id": "9Lamnbk8OnjI"
      },
      "source": [
        "To export raster data after all iterations have been completed, use the **run_iterations_num()** function or the **run_iterations_pop()** function.\n",
        "\n",
        "**cellularautomata.run_iterations_num(iterations, data_list, population_num=10, direction_num=4, type_migration=\"focus\", migration_proportion=1)**:\n",
        "\n",
        "- Running a cellular automata using **a uniform initial population count** to simulate population migration based on a raster of environmental data."
      ]
    },
    {
      "cell_type": "code",
      "execution_count": null,
      "metadata": {
        "id": "zrtooTlbOnjI"
      },
      "outputs": [],
      "source": [
        "# Run the cellular automata simulation for 5 iterations with an initial population count of 10 at each pixel\n",
        "new_data = cellularautomata.run_iterations_num(5, data_list, population_num=10)\n",
        "\n",
        "rasterconvert.process_raster_data(input_raster_path, output_raster_path, new_data, 0)"
      ]
    },
    {
      "cell_type": "markdown",
      "metadata": {},
      "source": [
        "**cellularautomata.run_iterations_pop(iterations, data_list, population_list, direction_num=4, type_migration=\"focus\", migration_proportion=1)**:\n",
        "\n",
        "- Running a cellular automata using **an initial population size raster** to simulate population migration based on a raster of environmental data."
      ]
    },
    {
      "cell_type": "code",
      "execution_count": null,
      "metadata": {},
      "outputs": [],
      "source": [
        "population_file = \"Data/population.tif\"\n",
        "population_list = rasterconvert.raster_list(population_file)\n",
        "\n",
        "# Run the cellular automata simulation for 5 iterations, with the initial population size of each pixel determined from a list of population raster values\n",
        "new_data = cellularautomata.run_iterations_pop(5, data_list, population_list)\n",
        "\n",
        "rasterconvert.process_raster_data(input_raster_path, output_raster_path, new_data, 0)"
      ]
    },
    {
      "cell_type": "markdown",
      "metadata": {},
      "source": [
        "**cellularautomata.migrate_time(data_list, cost_list)**:\n",
        "\n",
        "- Calculate the migration time based on the cost path raster and the environment raster."
      ]
    },
    {
      "cell_type": "code",
      "execution_count": null,
      "metadata": {},
      "outputs": [],
      "source": [
        "cost_file = \"Data/CostPath.tif\"\n",
        "cost_list = rasterconvert.raster_list(cost_file)\n",
        "\n",
        "# Output the migration time, number of iterations,\n",
        "# and a list of environmental raster values corresponding to the cost paths\n",
        "time, count, costData_list = cellularautomata.migrate_time(data_list, cost_list)\n",
        "print(time, count)\n",
        "print(costData_list, len(costData_list))"
      ]
    }
  ],
  "metadata": {
    "colab": {
      "provenance": []
    },
    "kernelspec": {
      "display_name": "Python 3",
      "language": "python",
      "name": "python3"
    },
    "language_info": {
      "codemirror_mode": {
        "name": "ipython",
        "version": 3
      },
      "file_extension": ".py",
      "mimetype": "text/x-python",
      "name": "python",
      "nbconvert_exporter": "python",
      "pygments_lexer": "ipython3",
      "version": "0.0.0"
    }
  },
  "nbformat": 4,
  "nbformat_minor": 0
}
