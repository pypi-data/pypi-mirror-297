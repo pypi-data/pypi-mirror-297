{
 "cells": [
  {
   "cell_type": "markdown",
   "metadata": {},
   "source": [
    "# Optimization in Deep Learning"
   ]
  },
  {
   "cell_type": "code",
   "execution_count": 2,
   "metadata": {},
   "outputs": [],
   "source": [
    "import jax\n",
    "import jax.numpy as jnp\n",
    "from jax import random\n",
    "from sklearn.datasets import make_classification\n",
    "from sklearn.model_selection import train_test_split\n",
    "from sklearn.preprocessing import StandardScaler\n",
    "\n",
    "from optymus.methods.first_order import StochasticGradientDescent"
   ]
  },
  {
   "cell_type": "markdown",
   "metadata": {},
   "source": [
    "### Simple neural network"
   ]
  },
  {
   "cell_type": "code",
   "execution_count": 6,
   "metadata": {},
   "outputs": [
    {
     "name": "stderr",
     "output_type": "stream",
     "text": [
      "SGD 0: 100%|██████████| 1000/1000 [03:08<00:00,  5.30it/s]\n"
     ]
    },
    {
     "name": "stdout",
     "output_type": "stream",
     "text": [
      "Training accuracy: 0.6400\n",
      "Test accuracy: 0.6400\n",
      "Number of iterations: 1000\n",
      "Training time: 188.65 seconds\n"
     ]
    }
   ],
   "source": [
    "# Define the MLP model\n",
    "def init_params(layer_sizes, key):\n",
    "    params = []\n",
    "    for n_in, n_out in zip(layer_sizes[:-1], layer_sizes[1:]):\n",
    "        w_key, b_key = random.split(key)\n",
    "        params.append({\n",
    "            'w': random.normal(w_key, (n_in, n_out)) * jnp.sqrt(2 / n_in),\n",
    "            'b': jnp.zeros((n_out,))\n",
    "        })\n",
    "        key = random.split(key)[0]\n",
    "    return params\n",
    "\n",
    "def relu(x):\n",
    "    return jnp.maximum(0, x)\n",
    "\n",
    "def forward(params, x):\n",
    "    for layer in params[:-1]:\n",
    "        x = relu(jnp.dot(x, layer['w']) + layer['b'])\n",
    "    return jnp.dot(x, params[-1]['w']) + params[-1]['b']\n",
    "\n",
    "def loss_fn(params, x, y):\n",
    "    logits = forward(params, x)\n",
    "    return jnp.mean((logits - y) ** 2)\n",
    "\n",
    "# Generate a simple dataset\n",
    "X, y = make_classification(n_samples=1000, n_features=20, n_classes=2, random_state=42)\n",
    "X_train, X_test, y_train, y_test = train_test_split(X, y, test_size=0.2, random_state=42)\n",
    "\n",
    "# Standardize the features\n",
    "scaler = StandardScaler()\n",
    "X_train = scaler.fit_transform(X_train)\n",
    "X_test = scaler.transform(X_test)\n",
    "\n",
    "# Convert to jax arrays\n",
    "X_train = jnp.array(X_train)\n",
    "y_train = jnp.array(y_train).reshape(-1, 1)\n",
    "X_test = jnp.array(X_test)\n",
    "y_test = jnp.array(y_test).reshape(-1, 1)\n",
    "\n",
    "# Initialize the MLP\n",
    "layer_sizes = [20, 64, 32, 1]\n",
    "key = random.PRNGKey(0)\n",
    "initial_params = init_params(layer_sizes, key)\n",
    "\n",
    "# Flatten the parameters for SGD\n",
    "def flatten_params(params):\n",
    "    return jnp.concatenate([p.ravel() for layer in params for p in layer.values()])\n",
    "\n",
    "def unflatten_params(flat_params, layer_sizes):\n",
    "    params = []\n",
    "    idx = 0\n",
    "    for n_in, n_out in zip(layer_sizes[:-1], layer_sizes[1:]):\n",
    "        w_size = n_in * n_out\n",
    "        b_size = n_out\n",
    "        w = flat_params[idx:idx+w_size].reshape((n_in, n_out))\n",
    "        idx += w_size\n",
    "        b = flat_params[idx:idx+b_size]\n",
    "        idx += b_size\n",
    "        params.append({'w': w, 'b': b})\n",
    "    return params\n",
    "\n",
    "flat_initial_params = flatten_params(initial_params)\n",
    "\n",
    "# Define the objective function for SGD\n",
    "def objective(flat_params, batch):\n",
    "    params = unflatten_params(flat_params, layer_sizes)\n",
    "    x, y = batch[:, :-1], batch[:, -1:]\n",
    "    return loss_fn(params, x, y)\n",
    "\n",
    "# Create and run SGD\n",
    "sgd = StochasticGradientDescent(\n",
    "    f_obj=objective,\n",
    "    tol=1e-6,\n",
    "    learning_rate=0.01,\n",
    "    max_iter=1000,\n",
    "    batch_size=32,\n",
    "    verbose=True\n",
    ")\n",
    "\n",
    "# Combine X_train and y_train into a single array for batching\n",
    "train_data = jnp.column_stack((X_train, y_train))\n",
    "\n",
    "result = sgd.optimize(flat_initial_params, train_data)\n",
    "\n",
    "# Extract the optimized parameters\n",
    "optimized_params = unflatten_params(result['xopt'], layer_sizes)\n",
    "\n",
    "# Evaluate the model\n",
    "@jax.jit\n",
    "def accuracy(params, X, y):\n",
    "    pred = forward(params, X) > 0.5\n",
    "    return jnp.mean(pred.flatten() == y.flatten())\n",
    "\n",
    "train_accuracy = accuracy(optimized_params, X_train, y_train)\n",
    "test_accuracy = accuracy(optimized_params, X_test, y_test)\n",
    "\n",
    "print(f\"Training accuracy: {train_accuracy:.4f}\")\n",
    "print(f\"Test accuracy: {test_accuracy:.4f}\")\n",
    "print(f\"Number of iterations: {result['num_iter']}\")\n",
    "print(f\"Training time: {result['time']:.2f} seconds\")"
   ]
  }
 ],
 "metadata": {
  "kernelspec": {
   "display_name": "optymus",
   "language": "python",
   "name": "python3"
  },
  "language_info": {
   "codemirror_mode": {
    "name": "ipython",
    "version": 3
   },
   "file_extension": ".py",
   "mimetype": "text/x-python",
   "name": "python",
   "nbconvert_exporter": "python",
   "pygments_lexer": "ipython3",
   "version": "3.10.14"
  }
 },
 "nbformat": 4,
 "nbformat_minor": 2
}
