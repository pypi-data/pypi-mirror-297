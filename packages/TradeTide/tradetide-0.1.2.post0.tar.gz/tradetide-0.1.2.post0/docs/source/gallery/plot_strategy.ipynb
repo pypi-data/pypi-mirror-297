{
  "cells": [
    {
      "cell_type": "markdown",
      "metadata": {},
      "source": [
        "\n# Strategy\n"
      ]
    },
    {
      "cell_type": "code",
      "execution_count": null,
      "metadata": {
        "collapsed": false
      },
      "outputs": [],
      "source": [
        "# Import necessary modules and classes from the TradeTide package\nfrom TradeTide import BackTester, indicators, get_market_data, Strategy\nfrom TradeTide import capital_management, risk_management\n\n\n# Load historical market data for EUR/USD pair for the year 2023 and limit to 4000 data points\nmarket_data = get_market_data('eur', 'usd', year=2023, time_span='3day', spread=0)\n\n# Initialize a Moving Average Crossing indicator with specific window settings and minimum period\nindicator_0 = indicators.BB()\nindicator_1 = indicators.RMI()\n\nstrategy = Strategy(\n    indicator_0, indicator_1\n)\n\n# Generate trading signals based on the market data\nstrategy.generate_signal(market_data)\n\n# Plot the indicator signals overlaid on the market data\nstrategy.plot()\n\n# Create the BackTester instance, linking it with the market data and chosen strategy\nbacktester = BackTester(market=market_data, strategy=strategy)\n\n# Set up loss and profit management with specified stop loss and take profit percentages\nrisk = risk_management.DirectLossProfit(\n    market=market_data,\n    stop_loss='10pip',\n    take_profit='10pip',\n)\n\n# Configure capital management strategy with initial capital, spread, and trading constraints\ncapital_management = capital_management.LimitedCapital(\n    initial_capital=100_000,\n    risk_management=risk,\n    max_cap_per_trade=10_000,\n    limit_of_positions=1,\n    micro_lot=1_000\n)\n\n# Execute the backtest using the configured capital management strategy\nbacktester.backtest(capital_management=capital_management)"
      ]
    },
    {
      "cell_type": "markdown",
      "metadata": {},
      "source": [
        "Visualize the backtest results, showing the strategy's performance against the market price\n\n"
      ]
    },
    {
      "cell_type": "code",
      "execution_count": null,
      "metadata": {
        "collapsed": false
      },
      "outputs": [],
      "source": [
        "backtester.plot(show_price=True)\n\n# Calculate and display key performance metrics for the trading strategy\nmetrics = backtester.metrics\n\n\n# Retrieve and print the final total value of the portfolio after completing the backtest\nmetrics.print()\n\n\n\n# -"
      ]
    }
  ],
  "metadata": {
    "kernelspec": {
      "display_name": "Python 3",
      "language": "python",
      "name": "python3"
    },
    "language_info": {
      "codemirror_mode": {
        "name": "ipython",
        "version": 3
      },
      "file_extension": ".py",
      "mimetype": "text/x-python",
      "name": "python",
      "nbconvert_exporter": "python",
      "pygments_lexer": "ipython3",
      "version": "3.11.0"
    }
  },
  "nbformat": 4,
  "nbformat_minor": 0
}