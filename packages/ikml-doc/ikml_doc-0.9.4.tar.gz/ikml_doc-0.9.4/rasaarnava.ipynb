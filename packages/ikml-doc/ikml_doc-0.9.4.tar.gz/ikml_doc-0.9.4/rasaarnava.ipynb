{
 "cells": [
  {
   "cell_type": "code",
   "execution_count": 1,
   "id": "6ed5369c-1328-4d57-93de-1978a740360f",
   "metadata": {},
   "outputs": [],
   "source": [
    "from ikml_doc import IKML_Document\n",
    "import re"
   ]
  },
  {
   "cell_type": "code",
   "execution_count": null,
   "id": "f6f44ddc-3038-4295-b0ca-1f1118202f0f",
   "metadata": {},
   "outputs": [],
   "source": [
    "with open(\"sa_rasArNava1-12.txt\") as fd:\n",
    "    data = fd.read().splitlines()\n",
    "data[:10]"
   ]
  },
  {
   "cell_type": "code",
   "execution_count": null,
   "id": "299c6690-3e37-4e85-9371-0bffbaf04f28",
   "metadata": {},
   "outputs": [],
   "source": [
    "doc = IKML_Document()\n",
    "root = doc.create_node(\"root\")\n",
    "adh = None\n",
    "count = 0\n",
    "for ln in data:\n",
    "    if not ln.strip():\n",
    "        continue\n",
    "    if re.search(r'पटलः ?\\[?.*$', ln):\n",
    "        adh = doc.create_node(\"adhyaya\", parent=root)\n",
    "        adh.content = ln\n",
    "        count += 1\n",
    "    elif \"//\" in ln:\n",
    "        node = doc.create_node(\"sh\", parent=adh)\n",
    "        node.content = ln\n",
    "        count += 1\n",
    "    else:\n",
    "        node = doc.create_node(\"va\", parent=adh)\n",
    "        node.content = ln\n",
    "        count += 1\n",
    "doc.mount(root)"
   ]
  },
  {
   "cell_type": "code",
   "execution_count": null,
   "id": "ff178a19-1be8-4d3f-9464-c11ca8257679",
   "metadata": {},
   "outputs": [],
   "source": [
    "doc.dummy_root = True\n",
    "doc.save()"
   ]
  },
  {
   "cell_type": "code",
   "execution_count": null,
   "id": "cbf12e10-dcb2-4c7e-8c0c-690b74910cb1",
   "metadata": {},
   "outputs": [],
   "source": [
    "with open(\"out_ikml.txt\") as fd:\n",
    "    data = fd.read()\n",
    "\n",
    "doc2 = IKML_Document()\n",
    "doc2.load(data=data)"
   ]
  },
  {
   "cell_type": "code",
   "execution_count": null,
   "id": "5c275b6c-95d7-4261-a374-f9080bad9762",
   "metadata": {},
   "outputs": [],
   "source": [
    "for en, adh in enumerate(doc2.find_children(\"adhyaya\")):\n",
    "    with open(f\"adhyaya-{en+1}-ikml.txt\", \"w\") as fd:\n",
    "        fd.write(adh.to_txt(exclude_root=True))"
   ]
  },
  {
   "cell_type": "code",
   "execution_count": null,
   "id": "1e93efd3-ea62-4c87-9bac-b9d518b13008",
   "metadata": {},
   "outputs": [],
   "source": []
  }
 ],
 "metadata": {
  "kernelspec": {
   "display_name": "Python 3 (ipykernel)",
   "language": "python",
   "name": "python3"
  },
  "language_info": {
   "codemirror_mode": {
    "name": "ipython",
    "version": 3
   },
   "file_extension": ".py",
   "mimetype": "text/x-python",
   "name": "python",
   "nbconvert_exporter": "python",
   "pygments_lexer": "ipython3",
   "version": "3.10.12"
  }
 },
 "nbformat": 4,
 "nbformat_minor": 5
}
