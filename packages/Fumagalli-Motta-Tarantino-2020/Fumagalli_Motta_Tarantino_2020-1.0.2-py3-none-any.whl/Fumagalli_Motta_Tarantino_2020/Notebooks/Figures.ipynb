{
 "cells": [
  {
   "cell_type": "code",
   "metadata": {
    "pycharm": {
     "name": "#%%\n"
    },
    "ExecuteTime": {
     "end_time": "2024-09-18T10:53:59.585943Z",
     "start_time": "2024-09-18T10:53:59.174946Z"
    }
   },
   "source": [
    "import os\n",
    "import os.path\n",
    "\n",
    "import Fumagalli_Motta_Tarantino_2020 as FMT20"
   ],
   "outputs": [],
   "execution_count": 1
  },
  {
   "cell_type": "code",
   "source": [
    "%%capture\n",
    "\n",
    "# save figures\n",
    "figure_dir = \"Figures\"  # adjust directory\n",
    "base_dir = os.getcwd()\n",
    "\n",
    "\n",
    "def save(filename: str, v: FMT20.IVisualize, **save_kwargs):\n",
    "    base_path = os.path.join(base_dir, figure_dir)\n",
    "    file_path = os.path.join(base_path, filename)\n",
    "    pdf_path = file_path + \".pdf\"\n",
    "    svg_path = file_path + \".svg\"\n",
    "    v.plot(**save_kwargs)\n",
    "    if os.path.isdir(base_path):  # save figures if base dir exists\n",
    "        v.fig.savefig(pdf_path, transparent=True)\n",
    "        v.fig.savefig(svg_path, transparent=True)\n",
    "    else:\n",
    "        # create base dir if not existing\n",
    "        os.makedirs(base_path)\n",
    "        save(filename, v, **save_kwargs)\n",
    "\n",
    "\n",
    "# default asset distribution\n",
    "default_distribution = FMT20.Distributions.UniformDistribution\n",
    "\n",
    "\n",
    "# default setup for models\n",
    "def set_up_model(\n",
    "    config_id: int, model_type, distribution=None\n",
    ") -> FMT20.OptimalMergerPolicy:\n",
    "    distro = default_distribution if distribution is None else distribution\n",
    "    return model_type(\n",
    "        **FMT20.LoadParameters(config_id=config_id)(), asset_distribution=distro\n",
    "    )\n",
    "\n",
    "\n",
    "# set base model\n",
    "base = set_up_model(10, FMT20.OptimalMergerPolicy)\n",
    "\n",
    "# set timeline visualizer\n",
    "timeline = FMT20.Timeline(base, figsize=(5, 4), default_style=False)\n",
    "timeline_kwargs = {\"title\": \"\", \"parameters\": False}\n",
    "\n",
    "# set payoff visualizer\n",
    "payoffs = FMT20.Payoffs(base, default_style=False, figsize=(6, 3))\n",
    "payoffs_kwargs = {\"legend\": False}\n",
    "\n",
    "# set merger policies asset range visualizer\n",
    "assets_policies = FMT20.MergerPoliciesAssetRange(\n",
    "    base, default_style=False, figsize=(5, 3)\n",
    ")\n",
    "asset_policies_kwargs = {\n",
    "    \"title\": \"\",\n",
    "    \"legend\": False,\n",
    "    \"thresholds\": True,\n",
    "    \"optimal_policy\": True,\n",
    "    \"y_offset\": -30,\n",
    "}"
   ],
   "metadata": {
    "collapsed": false,
    "pycharm": {
     "name": "#%%\n"
    },
    "ExecuteTime": {
     "end_time": "2024-09-18T10:53:59.851406Z",
     "start_time": "2024-09-18T10:53:59.588455Z"
    }
   },
   "outputs": [],
   "execution_count": 2
  },
  {
   "cell_type": "markdown",
   "source": [
    "## Introduction"
   ],
   "metadata": {
    "collapsed": false,
    "pycharm": {
     "name": "#%% md\n"
    }
   }
  },
  {
   "cell_type": "code",
   "source": [
    "save(\"timeline_base\", timeline, **timeline_kwargs)\n",
    "timeline.set_model(\n",
    "    FMT20.OptimalMergerPolicy(\n",
    "        merger_policy=FMT20.MergerPolicies.Laissez_faire,\n",
    "        asset_distribution=default_distribution,\n",
    "    )\n",
    ")\n",
    "save(\"timeline_killer\", timeline, **timeline_kwargs)"
   ],
   "metadata": {
    "collapsed": false,
    "pycharm": {
     "name": "#%%\n"
    },
    "ExecuteTime": {
     "end_time": "2024-09-18T10:54:07.264124Z",
     "start_time": "2024-09-18T10:53:59.926381Z"
    }
   },
   "outputs": [],
   "execution_count": 3
  },
  {
   "cell_type": "markdown",
   "source": [
    "## Basic Model"
   ],
   "metadata": {
    "collapsed": false,
    "pycharm": {
     "name": "#%% md\n"
    }
   }
  },
  {
   "cell_type": "code",
   "source": [
    "save(\"base_payoffs\", payoffs, **payoffs_kwargs)"
   ],
   "metadata": {
    "collapsed": false,
    "pycharm": {
     "name": "#%%\n"
    },
    "ExecuteTime": {
     "end_time": "2024-09-18T10:54:13.720006Z",
     "start_time": "2024-09-18T10:54:07.268867Z"
    }
   },
   "outputs": [],
   "execution_count": 4
  },
  {
   "cell_type": "code",
   "source": [
    "assets_policies.set_model(set_up_model(11, FMT20.OptimalMergerPolicy))\n",
    "save(\"base_range_not_profitable_high\", assets_policies, **asset_policies_kwargs)\n",
    "assets_policies.set_model(set_up_model(12, FMT20.OptimalMergerPolicy))\n",
    "save(\"base_range_not_profitable_low\", assets_policies, **asset_policies_kwargs)\n",
    "\n",
    "assets_policies.set_model(set_up_model(13, FMT20.OptimalMergerPolicy))\n",
    "save(\"base_range_profitable_high\", assets_policies, **asset_policies_kwargs)\n",
    "assets_policies.set_model(set_up_model(14, FMT20.OptimalMergerPolicy))\n",
    "save(\"base_range_profitable_low\", assets_policies, **asset_policies_kwargs)"
   ],
   "metadata": {
    "collapsed": false,
    "pycharm": {
     "name": "#%%\n"
    },
    "ExecuteTime": {
     "end_time": "2024-09-18T10:54:32.619528Z",
     "start_time": "2024-09-18T10:54:13.725424Z"
    }
   },
   "outputs": [],
   "execution_count": 5
  },
  {
   "cell_type": "markdown",
   "source": [
    "### Optimal Policies"
   ],
   "metadata": {
    "collapsed": false,
    "pycharm": {
     "name": "#%% md\n"
    }
   }
  },
  {
   "cell_type": "code",
   "source": [
    "assets_policies.set_model(set_up_model(15, FMT20.OptimalMergerPolicy))\n",
    "save(\"base_range_int_optimal\", assets_policies, **asset_policies_kwargs)\n",
    "assets_policies.set_model(set_up_model(16, FMT20.OptimalMergerPolicy))\n",
    "save(\"base_range_lf_optimal\", assets_policies, **asset_policies_kwargs)"
   ],
   "metadata": {
    "collapsed": false,
    "pycharm": {
     "name": "#%%\n"
    },
    "ExecuteTime": {
     "end_time": "2024-09-18T10:54:39.298289Z",
     "start_time": "2024-09-18T10:54:32.624428Z"
    }
   },
   "outputs": [],
   "execution_count": 6
  },
  {
   "cell_type": "markdown",
   "source": [
    "## Pro - Competitive"
   ],
   "metadata": {
    "collapsed": false,
    "pycharm": {
     "name": "#%% md\n"
    }
   }
  },
  {
   "cell_type": "code",
   "source": [
    "assets_policies.set_model(set_up_model(33, FMT20.ProCompetitive))\n",
    "save(\"pc_range_high\", assets_policies, **asset_policies_kwargs)\n",
    "assets_policies.set_model(set_up_model(32, FMT20.ProCompetitive))\n",
    "save(\"pc_range_low\", assets_policies, **asset_policies_kwargs)"
   ],
   "metadata": {
    "collapsed": false,
    "pycharm": {
     "name": "#%%\n"
    },
    "ExecuteTime": {
     "end_time": "2024-09-18T10:54:45.292526Z",
     "start_time": "2024-09-18T10:54:39.302848Z"
    }
   },
   "outputs": [],
   "execution_count": 7
  },
  {
   "cell_type": "markdown",
   "source": [
    "## Resource Waste"
   ],
   "metadata": {
    "collapsed": false,
    "pycharm": {
     "name": "#%% md\n"
    }
   }
  },
  {
   "cell_type": "code",
   "source": [
    "assets_policies.set_model(\n",
    "    set_up_model(\n",
    "        41, FMT20.ResourceWaste, distribution=FMT20.Distributions.NormalDistribution\n",
    "    )\n",
    ")\n",
    "save(\"rw_range_high\", assets_policies, **asset_policies_kwargs)\n",
    "\n",
    "assets_policies.set_model(\n",
    "    set_up_model(\n",
    "        43, FMT20.ResourceWaste, distribution=FMT20.Distributions.NormalDistribution\n",
    "    )\n",
    ")\n",
    "save(\"rw_range_low\", assets_policies, **asset_policies_kwargs)"
   ],
   "metadata": {
    "collapsed": false,
    "pycharm": {
     "name": "#%%\n"
    },
    "ExecuteTime": {
     "end_time": "2024-09-18T10:54:52.607773Z",
     "start_time": "2024-09-18T10:54:45.297122Z"
    }
   },
   "outputs": [],
   "execution_count": 8
  },
  {
   "cell_type": "markdown",
   "source": [
    "### Optimal Policies"
   ],
   "metadata": {
    "collapsed": false,
    "pycharm": {
     "name": "#%% md\n"
    }
   }
  },
  {
   "cell_type": "code",
   "source": [
    "assets_policies.set_model(\n",
    "    set_up_model(\n",
    "        42, FMT20.ResourceWaste, distribution=FMT20.Distributions.NormalDistribution\n",
    "    )\n",
    ")\n",
    "save(\"rw_range_int_optimal\", assets_policies, **asset_policies_kwargs)"
   ],
   "metadata": {
    "collapsed": false,
    "pycharm": {
     "name": "#%%\n"
    },
    "ExecuteTime": {
     "end_time": "2024-09-18T10:54:56.435515Z",
     "start_time": "2024-09-18T10:54:52.613795Z"
    }
   },
   "outputs": [],
   "execution_count": 9
  },
  {
   "cell_type": "markdown",
   "source": [
    "## Perfect Information"
   ],
   "metadata": {
    "collapsed": false,
    "pycharm": {
     "name": "#%% md\n"
    }
   }
  },
  {
   "cell_type": "code",
   "source": [
    "%%capture\n",
    "\n",
    "# noinspection PyTypeChecker\n",
    "assets_policies_perfect_information = FMT20.MergerPoliciesAssetRangePerfectInformation(\n",
    "    set_up_model(50, FMT20.PerfectInformation), default_style=False, figsize=(5, 3)\n",
    ")\n",
    "save(\n",
    "    \"pi_range_not_profitable\",\n",
    "    assets_policies_perfect_information,\n",
    "    **asset_policies_kwargs\n",
    ")\n",
    "\n",
    "assets_policies_perfect_information.set_model(\n",
    "    set_up_model(51, FMT20.PerfectInformation)\n",
    ")\n",
    "save(\n",
    "    \"pi_range_profitable\", assets_policies_perfect_information, **asset_policies_kwargs\n",
    ")"
   ],
   "metadata": {
    "collapsed": false,
    "pycharm": {
     "name": "#%%\n"
    },
    "ExecuteTime": {
     "end_time": "2024-09-18T10:55:02.308377Z",
     "start_time": "2024-09-18T10:54:56.440783Z"
    }
   },
   "outputs": [],
   "execution_count": 10
  },
  {
   "cell_type": "markdown",
   "source": [
    "### Optimal Policies"
   ],
   "metadata": {
    "collapsed": false,
    "pycharm": {
     "name": "#%% md\n"
    }
   }
  },
  {
   "cell_type": "code",
   "source": [
    "assets_policies_perfect_information.set_model(\n",
    "    set_up_model(52, FMT20.PerfectInformation)\n",
    ")\n",
    "save(\n",
    "    \"pi_range_int_optimal\", assets_policies_perfect_information, **asset_policies_kwargs\n",
    ")"
   ],
   "metadata": {
    "collapsed": false,
    "pycharm": {
     "name": "#%%\n"
    },
    "ExecuteTime": {
     "end_time": "2024-09-18T10:55:03.678883Z",
     "start_time": "2024-09-18T10:55:02.317747Z"
    }
   },
   "outputs": [],
   "execution_count": 11
  },
  {
   "cell_type": "markdown",
   "source": [
    "## Cournot Competition"
   ],
   "metadata": {
    "collapsed": false,
    "pycharm": {
     "name": "#%% md\n"
    }
   }
  },
  {
   "cell_type": "code",
   "source": [
    "micro_foundation = FMT20.CournotCompetition(asset_distribution=default_distribution)\n",
    "payoffs.set_model(micro_foundation)\n",
    "save(\"cc_payoffs\", payoffs, **payoffs_kwargs)\n",
    "micro_foundation_int_opt = FMT20.CournotCompetition(\n",
    "    development_costs=0.15,\n",
    "    startup_assets=0.08,\n",
    "    success_probability=0.91,\n",
    "    private_benefit=0.11,\n",
    "    gamma=0.18,\n",
    "    asset_distribution=default_distribution,\n",
    ")\n",
    "assets_policies.set_model(micro_foundation_int_opt)\n",
    "save(\"cc_range_int_optimal\", assets_policies, **asset_policies_kwargs)"
   ],
   "metadata": {
    "collapsed": false,
    "pycharm": {
     "name": "#%%\n"
    },
    "ExecuteTime": {
     "end_time": "2024-09-18T10:55:08.811966Z",
     "start_time": "2024-09-18T10:55:03.686639Z"
    }
   },
   "outputs": [],
   "execution_count": 12
  },
  {
   "cell_type": "code",
   "metadata": {
    "pycharm": {
     "name": "#%%\n"
    },
    "ExecuteTime": {
     "end_time": "2024-09-18T10:55:08.818212Z",
     "start_time": "2024-09-18T10:55:08.817022Z"
    }
   },
   "source": [],
   "outputs": [],
   "execution_count": null
  }
 ],
 "metadata": {
  "kernelspec": {
   "display_name": "Python 3 (ipykernel)",
   "language": "python",
   "name": "python3"
  },
  "language_info": {
   "codemirror_mode": {
    "name": "ipython",
    "version": 3
   },
   "file_extension": ".py",
   "mimetype": "text/x-python",
   "name": "python",
   "nbconvert_exporter": "python",
   "pygments_lexer": "ipython3",
   "version": "3.10.3"
  }
 },
 "nbformat": 4,
 "nbformat_minor": 1
}
