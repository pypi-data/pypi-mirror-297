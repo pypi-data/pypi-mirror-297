{
 "cells": [
  {
   "cell_type": "code",
   "execution_count": 1,
   "metadata": {},
   "outputs": [],
   "source": [
    "from obspy import Trace, Stream, UTCDateTime\n",
    "from zizou.util import generate_test_data, test_signal\n",
    "from datetime import timedelta, datetime\n",
    "import os\n",
    "import numpy as np\n",
    "import requests"
   ]
  },
  {
   "cell_type": "code",
   "execution_count": 2,
   "metadata": {},
   "outputs": [],
   "source": [
    "\n",
    "doi = \"https://doi.org/10.5281/zenodo.13377159\"\n",
    "r = requests.get(doi)\n"
   ]
  },
  {
   "cell_type": "code",
   "execution_count": 4,
   "metadata": {},
   "outputs": [
    {
     "data": {
      "text/plain": [
       "True"
      ]
     },
     "execution_count": 4,
     "metadata": {},
     "output_type": "execute_result"
    }
   ],
   "source": [
    "r.ok"
   ]
  },
  {
   "cell_type": "code",
   "execution_count": 8,
   "metadata": {},
   "outputs": [
    {
     "data": {
      "text/plain": [
       "'13377159'"
      ]
     },
     "execution_count": 8,
     "metadata": {},
     "output_type": "execute_result"
    }
   ],
   "source": [
    "r.url\n",
    "recordID = r.url.split(\"/\")[-1]\n",
    "recordID"
   ]
  },
  {
   "cell_type": "code",
   "execution_count": 9,
   "metadata": {},
   "outputs": [],
   "source": [
    "zenodo_url = \"https://zenodo.org/api/records/\"\n",
    "r = requests.get(zenodo_url + recordID)"
   ]
  },
  {
   "cell_type": "code",
   "execution_count": 15,
   "metadata": {},
   "outputs": [],
   "source": [
    "import requests\n",
    "import tarfile\n",
    "\n",
    "def download_and_extract_tar(url, extract_path):\n",
    "    # Download the tar file\n",
    "    response = requests.get(url, stream=True)\n",
    "    if response.status_code == 200:\n",
    "        with open('file.tar', 'wb') as f:\n",
    "            f.write(response.raw.read())\n",
    "\n",
    "        # Open the tar file\n",
    "        tar = tarfile.open('file.tar')\n",
    "\n",
    "        # Extract it\n",
    "        tar.extractall(path=extract_path)\n",
    "        tar.close()\n",
    "    else:\n",
    "        print(f\"Failed to download {url}\")\n",
    "\n",
    "# Use the function\n",
    "url = \"https://zenodo.org/records/13377159/files/zizou_test_data.tar.gz\"\n",
    "download_and_extract_tar(url, '/tmp')"
   ]
  },
  {
   "cell_type": "code",
   "execution_count": 14,
   "metadata": {},
   "outputs": [
    {
     "data": {
      "text/plain": [
       "'zizou_test_data.tar.gz'"
      ]
     },
     "execution_count": 14,
     "metadata": {},
     "output_type": "execute_result"
    }
   ],
   "source": [
    "js = r.json()\n",
    "js['files'][0]['key']"
   ]
  },
  {
   "cell_type": "code",
   "execution_count": 4,
   "metadata": {},
   "outputs": [
    {
     "data": {
      "text/plain": [
       "NZ.BLUB..HHZ | 2020-07-18T08:22:00.000000Z - 2020-08-17T08:12:00.000000Z | 600.0 s, 4320 samples"
      ]
     },
     "execution_count": 4,
     "metadata": {},
     "output_type": "execute_result"
    }
   ],
   "source": [
    "\n",
    "tr = test_signal(nsec=4320*600., sampling_rate=1/600.,\n",
    "                 starttime=UTCDateTime(2020, 7, 18, 8, 22))\n",
    "tr"
   ]
  },
  {
   "cell_type": "code",
   "execution_count": 5,
   "metadata": {},
   "outputs": [
    {
     "name": "stdout",
     "output_type": "stream",
     "text": [
      "2020-07-18T00:00:00.000000Z\n",
      "2020-07-18T08:22:00.000000Z 2020-07-19T00:02:00.000000Z\n",
      "writing /tmp/sds_test/2020/NZ/BLUB/HHZ.D/NZ.BLUB..HHZ.D.2020.200\n",
      "2020-07-19T00:00:00.000000Z\n",
      "2020-07-19T00:02:00.000000Z 2020-07-20T00:02:00.000000Z\n",
      "writing /tmp/sds_test/2020/NZ/BLUB/HHZ.D/NZ.BLUB..HHZ.D.2020.201\n",
      "2020-07-20T00:00:00.000000Z\n",
      "2020-07-20T00:02:00.000000Z 2020-07-21T00:02:00.000000Z\n",
      "writing /tmp/sds_test/2020/NZ/BLUB/HHZ.D/NZ.BLUB..HHZ.D.2020.202\n",
      "2020-07-21T00:00:00.000000Z\n",
      "2020-07-21T00:02:00.000000Z 2020-07-22T00:02:00.000000Z\n",
      "writing /tmp/sds_test/2020/NZ/BLUB/HHZ.D/NZ.BLUB..HHZ.D.2020.203\n",
      "2020-07-22T00:00:00.000000Z\n",
      "2020-07-22T00:02:00.000000Z 2020-07-23T00:02:00.000000Z\n",
      "writing /tmp/sds_test/2020/NZ/BLUB/HHZ.D/NZ.BLUB..HHZ.D.2020.204\n",
      "2020-07-23T00:00:00.000000Z\n",
      "2020-07-23T00:02:00.000000Z 2020-07-24T00:02:00.000000Z\n",
      "writing /tmp/sds_test/2020/NZ/BLUB/HHZ.D/NZ.BLUB..HHZ.D.2020.205\n",
      "2020-07-24T00:00:00.000000Z\n",
      "2020-07-24T00:02:00.000000Z 2020-07-25T00:02:00.000000Z\n",
      "writing /tmp/sds_test/2020/NZ/BLUB/HHZ.D/NZ.BLUB..HHZ.D.2020.206\n",
      "2020-07-25T00:00:00.000000Z\n",
      "2020-07-25T00:02:00.000000Z 2020-07-26T00:02:00.000000Z\n",
      "writing /tmp/sds_test/2020/NZ/BLUB/HHZ.D/NZ.BLUB..HHZ.D.2020.207\n",
      "2020-07-26T00:00:00.000000Z\n",
      "2020-07-26T00:02:00.000000Z 2020-07-27T00:02:00.000000Z\n",
      "writing /tmp/sds_test/2020/NZ/BLUB/HHZ.D/NZ.BLUB..HHZ.D.2020.208\n",
      "2020-07-27T00:00:00.000000Z\n",
      "2020-07-27T00:02:00.000000Z 2020-07-28T00:02:00.000000Z\n",
      "writing /tmp/sds_test/2020/NZ/BLUB/HHZ.D/NZ.BLUB..HHZ.D.2020.209\n",
      "2020-07-28T00:00:00.000000Z\n",
      "2020-07-28T00:02:00.000000Z 2020-07-29T00:02:00.000000Z\n",
      "writing /tmp/sds_test/2020/NZ/BLUB/HHZ.D/NZ.BLUB..HHZ.D.2020.210\n",
      "2020-07-29T00:00:00.000000Z\n",
      "2020-07-29T00:02:00.000000Z 2020-07-30T00:02:00.000000Z\n",
      "writing /tmp/sds_test/2020/NZ/BLUB/HHZ.D/NZ.BLUB..HHZ.D.2020.211\n",
      "2020-07-30T00:00:00.000000Z\n",
      "2020-07-30T00:02:00.000000Z 2020-07-31T00:02:00.000000Z\n",
      "writing /tmp/sds_test/2020/NZ/BLUB/HHZ.D/NZ.BLUB..HHZ.D.2020.212\n",
      "2020-07-31T00:00:00.000000Z\n",
      "2020-07-31T00:02:00.000000Z 2020-08-01T00:02:00.000000Z\n",
      "writing /tmp/sds_test/2020/NZ/BLUB/HHZ.D/NZ.BLUB..HHZ.D.2020.213\n",
      "2020-08-01T00:00:00.000000Z\n",
      "2020-08-01T00:02:00.000000Z 2020-08-02T00:02:00.000000Z\n",
      "writing /tmp/sds_test/2020/NZ/BLUB/HHZ.D/NZ.BLUB..HHZ.D.2020.214\n",
      "2020-08-02T00:00:00.000000Z\n",
      "2020-08-02T00:02:00.000000Z 2020-08-03T00:02:00.000000Z\n",
      "writing /tmp/sds_test/2020/NZ/BLUB/HHZ.D/NZ.BLUB..HHZ.D.2020.215\n",
      "2020-08-03T00:00:00.000000Z\n",
      "2020-08-03T00:02:00.000000Z 2020-08-04T00:02:00.000000Z\n",
      "writing /tmp/sds_test/2020/NZ/BLUB/HHZ.D/NZ.BLUB..HHZ.D.2020.216\n",
      "2020-08-04T00:00:00.000000Z\n",
      "2020-08-04T00:02:00.000000Z 2020-08-05T00:02:00.000000Z\n",
      "writing /tmp/sds_test/2020/NZ/BLUB/HHZ.D/NZ.BLUB..HHZ.D.2020.217\n",
      "2020-08-05T00:00:00.000000Z\n",
      "2020-08-05T00:02:00.000000Z 2020-08-06T00:02:00.000000Z\n",
      "writing /tmp/sds_test/2020/NZ/BLUB/HHZ.D/NZ.BLUB..HHZ.D.2020.218\n",
      "2020-08-06T00:00:00.000000Z\n",
      "2020-08-06T00:02:00.000000Z 2020-08-07T00:02:00.000000Z\n",
      "writing /tmp/sds_test/2020/NZ/BLUB/HHZ.D/NZ.BLUB..HHZ.D.2020.219\n",
      "2020-08-07T00:00:00.000000Z\n",
      "2020-08-07T00:02:00.000000Z 2020-08-08T00:02:00.000000Z\n",
      "writing /tmp/sds_test/2020/NZ/BLUB/HHZ.D/NZ.BLUB..HHZ.D.2020.220\n",
      "2020-08-08T00:00:00.000000Z\n",
      "2020-08-08T00:02:00.000000Z 2020-08-09T00:02:00.000000Z\n",
      "writing /tmp/sds_test/2020/NZ/BLUB/HHZ.D/NZ.BLUB..HHZ.D.2020.221\n",
      "2020-08-09T00:00:00.000000Z\n",
      "2020-08-09T00:02:00.000000Z 2020-08-10T00:02:00.000000Z\n",
      "writing /tmp/sds_test/2020/NZ/BLUB/HHZ.D/NZ.BLUB..HHZ.D.2020.222\n",
      "2020-08-10T00:00:00.000000Z\n",
      "2020-08-10T00:02:00.000000Z 2020-08-11T00:02:00.000000Z\n",
      "writing /tmp/sds_test/2020/NZ/BLUB/HHZ.D/NZ.BLUB..HHZ.D.2020.223\n",
      "2020-08-11T00:00:00.000000Z\n",
      "2020-08-11T00:02:00.000000Z 2020-08-12T00:02:00.000000Z\n",
      "writing /tmp/sds_test/2020/NZ/BLUB/HHZ.D/NZ.BLUB..HHZ.D.2020.224\n",
      "2020-08-12T00:00:00.000000Z\n",
      "2020-08-12T00:02:00.000000Z 2020-08-13T00:02:00.000000Z\n",
      "writing /tmp/sds_test/2020/NZ/BLUB/HHZ.D/NZ.BLUB..HHZ.D.2020.225\n",
      "2020-08-13T00:00:00.000000Z\n",
      "2020-08-13T00:02:00.000000Z 2020-08-14T00:02:00.000000Z\n",
      "writing /tmp/sds_test/2020/NZ/BLUB/HHZ.D/NZ.BLUB..HHZ.D.2020.226\n",
      "2020-08-14T00:00:00.000000Z\n",
      "2020-08-14T00:02:00.000000Z 2020-08-15T00:02:00.000000Z\n",
      "writing /tmp/sds_test/2020/NZ/BLUB/HHZ.D/NZ.BLUB..HHZ.D.2020.227\n",
      "2020-08-15T00:00:00.000000Z\n",
      "2020-08-15T00:02:00.000000Z 2020-08-16T00:02:00.000000Z\n",
      "writing /tmp/sds_test/2020/NZ/BLUB/HHZ.D/NZ.BLUB..HHZ.D.2020.228\n",
      "2020-08-16T00:00:00.000000Z\n",
      "2020-08-16T00:02:00.000000Z 2020-08-17T00:02:00.000000Z\n",
      "writing /tmp/sds_test/2020/NZ/BLUB/HHZ.D/NZ.BLUB..HHZ.D.2020.229\n",
      "2020-08-17T00:00:00.000000Z\n",
      "2020-08-17T00:02:00.000000Z 2020-08-17T08:12:00.000000Z\n",
      "writing /tmp/sds_test/2020/NZ/BLUB/HHZ.D/NZ.BLUB..HHZ.D.2020.230\n"
     ]
    }
   ],
   "source": [
    "start = tr.stats.starttime\n",
    "end = tr.stats.endtime\n",
    "sds_fmtstr = os.path.join(\n",
    "    \"{year}\", \"{network}\", \"{station}\", \"{channel}.{sds_type}\",\n",
    "    \"{network}.{station}.{location}.{channel}.{sds_type}.{year}.{doy:03d}\")\n",
    "rootdir = \"/tmp/sds_test\"\n",
    "\n",
    "\n",
    "current_date = start.date\n",
    "while current_date <= end.date:\n",
    "    print(UTCDateTime(current_date))\n",
    "    _tr = tr.slice(UTCDateTime(current_date), UTCDateTime(current_date) + 86400)\n",
    "    print(_tr.stats.starttime, _tr.stats.endtime)\n",
    "    fullpath = sds_fmtstr.format(year=_tr.stats.starttime.year,\n",
    "                                 doy=_tr.stats.starttime.julday,\n",
    "                                 sds_type=\"D\", **_tr.stats)\n",
    "    fullpath = os.path.join(rootdir, fullpath)\n",
    "    dirname, filename = os.path.split(fullpath)\n",
    "    os.makedirs(dirname, exist_ok=True)\n",
    "    print(\"writing\", fullpath)\n",
    "    _tr.write(fullpath, format=\"MSEED\")\n",
    "    current_date += timedelta(days=1)\n",
    " "
   ]
  },
  {
   "cell_type": "code",
   "execution_count": 6,
   "metadata": {},
   "outputs": [],
   "source": [
    "from obspy.clients.filesystem.sds import Client"
   ]
  },
  {
   "cell_type": "code",
   "execution_count": 7,
   "metadata": {},
   "outputs": [],
   "source": [
    "c = Client(rootdir)"
   ]
  },
  {
   "cell_type": "code",
   "execution_count": 8,
   "metadata": {},
   "outputs": [],
   "source": [
    "st = c.get_waveforms(\"NZ\", \"BLUB\", \"\", \"HHZ\", UTCDateTime(2020, 7, 1, 8, 22), UTCDateTime(2020, 8, 23, 8, 23))"
   ]
  },
  {
   "cell_type": "code",
   "execution_count": 9,
   "metadata": {},
   "outputs": [],
   "source": [
    "tr_test = st.merge(fill_value=np.nan)[0]"
   ]
  },
  {
   "cell_type": "code",
   "execution_count": 10,
   "metadata": {},
   "outputs": [
    {
     "data": {
      "text/plain": [
       "True"
      ]
     },
     "execution_count": 10,
     "metadata": {},
     "output_type": "execute_result"
    }
   ],
   "source": [
    "np.alltrue(tr.data == tr_test.data)"
   ]
  },
  {
   "cell_type": "code",
   "execution_count": 13,
   "metadata": {},
   "outputs": [],
   "source": [
    "st = c.get_waveforms(\"NZ\", \"MMM\", \"\", \"HHZ\", UTCDateTime(2024, 7, 1, 8, 22), UTCDateTime(2024, 8, 23, 8, 23))"
   ]
  },
  {
   "cell_type": "code",
   "execution_count": 26,
   "metadata": {},
   "outputs": [
    {
     "data": {
      "text/plain": [
       "True"
      ]
     },
     "execution_count": 26,
     "metadata": {},
     "output_type": "execute_result"
    }
   ],
   "source": [
    "tr_test.stats['cached'] = True\n",
    "tr_test.stats.cached"
   ]
  },
  {
   "cell_type": "code",
   "execution_count": 22,
   "metadata": {},
   "outputs": [
    {
     "data": {
      "text/plain": [
       "94807.655344"
      ]
     },
     "execution_count": 22,
     "metadata": {},
     "output_type": "execute_result"
    }
   ],
   "source": [
    "(datetime.now() - datetime(2024, 8, 25))/timedelta(seconds=1)"
   ]
  },
  {
   "cell_type": "code",
   "execution_count": null,
   "metadata": {},
   "outputs": [],
   "source": []
  }
 ],
 "metadata": {
  "kernelspec": {
   "display_name": "Python 3",
   "language": "python",
   "name": "python3"
  },
  "language_info": {
   "codemirror_mode": {
    "name": "ipython",
    "version": 3
   },
   "file_extension": ".py",
   "mimetype": "text/x-python",
   "name": "python",
   "nbconvert_exporter": "python",
   "pygments_lexer": "ipython3",
   "version": "3.9.19"
  }
 },
 "nbformat": 4,
 "nbformat_minor": 2
}
