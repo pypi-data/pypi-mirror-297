{
 "cells": [
  {
   "cell_type": "code",
   "execution_count": 1,
   "metadata": {},
   "outputs": [
    {
     "name": "stdout",
     "output_type": "stream",
     "text": [
      "This: <marker shape='s' mstyle='fill:none' label='A'/> is a marker.<br/>So is this: <marker shape='*'/>\n"
     ]
    }
   ],
   "source": [
    "import toyplot.marker\n",
    "\n",
    "marker_a = toyplot.marker.create(shape=\"s\", label=\"A\", mstyle={\"fill\":\"none\"})\n",
    "marker_b = toyplot.marker.create(shape=\"*\")\n",
    "text = \"This: \" + marker_a + \" is a marker.<br/>So is this: \" + marker_b\n",
    "\n",
    "style = {\"font-size\": \"18px\", \"text-anchor\":\"start\"}\n",
    "\n",
    "print(text)"
   ]
  },
  {
   "cell_type": "code",
   "execution_count": 2,
   "metadata": {},
   "outputs": [
    {
     "data": {
      "text/html": [
       "<div class=\"toyplot\" id=\"t90ba0c13ea454a408502c74f6a4dca4c\" style=\"text-align:center\"><svg class=\"toyplot-canvas-Canvas\" height=\"192.0px\" id=\"td74c23ea2f004c36a0a09e09551fdc24\" preserveAspectRatio=\"xMidYMid meet\" style=\"background-color:transparent;border-color:#292724;border-style:none;border-width:1.0;fill:rgb(16.1%,15.3%,14.1%);fill-opacity:1.0;font-family:Helvetica;font-size:12px;opacity:1.0;stroke:rgb(16.1%,15.3%,14.1%);stroke-opacity:1.0;stroke-width:1.0\" viewBox=\"0 0 480.0 192.0\" width=\"480.0px\" xmlns=\"http://www.w3.org/2000/svg\" xmlns:toyplot=\"http://www.sandia.gov/toyplot\" xmlns:xlink=\"http://www.w3.org/1999/xlink\"><g class=\"toyplot-coordinates-Cartesian\" id=\"t5d11baa49e3546dca1e501dab175d29d\"><clipPath id=\"t99dd1b5d065842388d6d899443860db9\"><rect height=\"112.0\" width=\"400.0\" x=\"40.0\" y=\"40.0\"></rect></clipPath><g clip-path=\"url(#t99dd1b5d065842388d6d899443860db9)\"><g class=\"toyplot-mark-Text\" id=\"t729e2691252a4a31a9906a85f230b7a3\"><g class=\"toyplot-Series\"><g class=\"toyplot-Datum\" transform=\"translate(240.0,96.0)\"><title>text</title><text style=\"fill:rgb(40%,76.1%,64.7%);fill-opacity:1.0;font-family:helvetica;font-size:18.0px;font-weight:normal;opacity:1;stroke:none;vertical-align:baseline;white-space:pre\" x=\"0\" y=\"-6.200999999999999\">This: </text><g style=\"fill:none\" transform=\"translate(52.334999999999994, -10.799999999999999)\"><rect height=\"16.65\" width=\"16.65\" x=\"-8.325\" y=\"-8.325\"></rect><g><text style=\"fill:rgb(16.1%,15.3%,14.1%);fill-opacity:1.0;font-family:helvetica;font-size:12.487499999999999px;font-weight:normal;stroke:none;vertical-align:baseline;white-space:pre\" x=\"-4.16458125\" y=\"3.19055625\">A</text></g></g><text style=\"fill:rgb(40%,76.1%,64.7%);fill-opacity:1.0;font-family:helvetica;font-size:18.0px;font-weight:normal;opacity:1;stroke:none;vertical-align:baseline;white-space:pre\" x=\"60.66\" y=\"-6.200999999999999\"> is a marker.</text><text style=\"fill:rgb(40%,76.1%,64.7%);fill-opacity:1.0;font-family:helvetica;font-size:18.0px;font-weight:normal;opacity:1;stroke:none;vertical-align:baseline;white-space:pre\" x=\"0\" y=\"15.399\">So is this: </text><g transform=\"translate(91.35900000000001, 10.8)\"><line y1=\"-8.325\" y2=\"8.325\"></line><line transform=\"rotate(60)\" y1=\"-8.325\" y2=\"8.325\"></line><line transform=\"rotate(-60)\" y1=\"-8.325\" y2=\"8.325\"></line></g></g></g></g></g></g></svg><div class=\"toyplot-behavior\"><script>(function()\n",
       "{\n",
       "var modules={};\n",
       "})();</script></div></div>"
      ]
     },
     "metadata": {},
     "output_type": "display_data"
    }
   ],
   "source": [
    "canvas = toyplot.Canvas(width=\"5in\", height=\"2in\")\n",
    "axes = canvas.cartesian(show=False)\n",
    "axes.text(0, 0, text=text, style=style, title=\"text\");"
   ]
  }
 ],
 "metadata": {
  "anaconda-cloud": {},
  "kernelspec": {
   "display_name": "Python 3",
   "language": "python",
   "name": "python3"
  },
  "language_info": {
   "codemirror_mode": {
    "name": "ipython",
    "version": 3
   },
   "file_extension": ".py",
   "mimetype": "text/x-python",
   "name": "python",
   "nbconvert_exporter": "python",
   "pygments_lexer": "ipython3",
   "version": "3.6.6"
  }
 },
 "nbformat": 4,
 "nbformat_minor": 1
}
