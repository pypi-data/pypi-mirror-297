{
 "cells": [
  {
   "cell_type": "markdown",
   "id": "3143f747",
   "metadata": {},
   "source": [
    "**What Does The API Do?**\n",
    "\n",
    "* Generate / modify a graphcat network that will render the figure when executed.\n",
    "\n",
    "**What Does The Network Do?**\n",
    "\n",
    "* Assign canvas coordinates to coordinate systems / canvas marks (box layout).\n",
    "* Assign coordinates to text (text layout - special case of box layout?).\n",
    "* Map data to coordinates (for some coordinate systems, e.g. Table, this might use box layout).\n",
    "* Generate an SVG DOM."
   ]
  },
  {
   "cell_type": "code",
   "execution_count": 1,
   "id": "cc4e651b",
   "metadata": {},
   "outputs": [],
   "source": [
    "import xml.etree.ElementTree as xml\n",
    "\n",
    "from IPython.display import display_svg\n",
    "import numpy\n",
    "\n",
    "import boxcat\n",
    "import domcat\n",
    "import graphcat.notebook"
   ]
  },
  {
   "cell_type": "code",
   "execution_count": 2,
   "id": "9ed21440",
   "metadata": {},
   "outputs": [],
   "source": [
    "def plot(graph, name, inputs):\n",
    "    x = inputs.getone(\"x\")\n",
    "    y = inputs.getone(\"y\")\n",
    "    plot = xml.Element(\"plot\", x=x, y=y)\n",
    "    return plot\n",
    "\n",
    "\n",
    "def render(graph, name, inputs):\n",
    "    root = inputs.getone(None)\n",
    "    top, right, bottom, left = root.get(\"boxcat:content\")\n",
    "    width = right - left\n",
    "    height = bottom - top\n",
    "    svg_root = xml.Element(\"svg\", xmlns=\"http://www.w3.org/2000/svg\",\n",
    "        width=width,\n",
    "        height=height,\n",
    "        viewBox=f\"0 0 {width} {height}\",\n",
    "        )\n",
    "    render_element(root, svg_root)\n",
    "    return svg_root\n",
    "\n",
    "\n",
    "def render_element(element, svg_root):\n",
    "    top, right, bottom, left = element.get(\"boxcat:content\")\n",
    "    svg_element = xml.SubElement(svg_root, \"rect\", x=left, y=top, width=right-left, height=bottom-top, stroke=\"rgba(0,0,255,0.4)\", fill=\"none\")\n",
    "    svg_element = xml.SubElement(svg_root, \"text\", x=left+2, y=top, style=\"font-size: 8px; fill: rgba(0,0,255,0.4); dominant-baseline: hanging\")\n",
    "    svg_element.text = element.tag\n",
    "\n",
    "    for child in element:\n",
    "        render_element(child, svg_root)"
   ]
  },
  {
   "cell_type": "code",
   "execution_count": 3,
   "id": "aec611fb",
   "metadata": {},
   "outputs": [],
   "source": [
    "graph = graphcat.StaticGraph()\n",
    "graph.add_task(\"canvas\", domcat.create_element(\"canvas\", width=200, height=100))\n",
    "graph.add_task(\"axes1\", domcat.create_element(\"cartesian\", margin=\"10px\", padding=\"5px\"))\n",
    "graph.add_task(\"x\", graphcat.constant(numpy.arange(10)))\n",
    "graph.add_task(\"y\", graphcat.constant(numpy.arange(10) ** 2))\n",
    "graph.add_task(\"plot\", plot)\n",
    "graph.add_task(\"append1\", domcat.append_element)\n",
    "graph.add_task(\"append2\", domcat.append_element)\n",
    "\n",
    "graph.add_links(\"x\", (\"plot\", \"x\"))\n",
    "graph.add_links(\"y\", (\"plot\", \"y\"))\n",
    "graph.add_links(\"plot\", (\"append1\", \"child\"))\n",
    "graph.add_links(\"axes1\", (\"append1\", \"parent\"))\n",
    "\n",
    "graph.add_links(\"append1\", (\"append2\", \"child\"))\n",
    "graph.add_links(\"canvas\", (\"append2\", \"parent\"))\n",
    "\n",
    "# graph.add_task(\"axes2\", domcat.create_element(\"radial\", left=\"50%\"))\n",
    "# graph.add_task(\"append2\", domcat.append_element)\n",
    "# graph.add_links(\"append1\", (\"append2\", \"parent\"))\n",
    "# graph.add_links(\"axes2\", (\"append2\", \"child\"))\n",
    "\n",
    "graph.add_task(\"layout\", boxcat.graphcat_layout)\n",
    "graph.add_links(\"append2\", \"layout\")\n",
    "\n",
    "graph.add_task(\"render\", render)\n",
    "graph.add_links(\"layout\", \"render\")"
   ]
  },
  {
   "cell_type": "code",
   "execution_count": 4,
   "id": "829dff2f",
   "metadata": {},
   "outputs": [
    {
     "data": {
      "image/svg+xml": [
       "<svg xmlns=\"http://www.w3.org/2000/svg\" xmlns:xlink=\"http://www.w3.org/1999/xlink\" width=\"474pt\" height=\"89pt\" viewBox=\"0.00 0.00 474.00 89.00\">\n",
       "<g id=\"graph0\" class=\"graph\" transform=\"scale(1 1) rotate(0) translate(4 85)\">\n",
       "<polygon fill=\"#ffffff\" stroke=\"transparent\" points=\"-4,4 -4,-85 470,-85 470,4 -4,4\"/>\n",
       "<!-- canvas -->\n",
       "<g id=\"node1\" class=\"node\">\n",
       "<title>canvas</title>\n",
       "<polygon fill=\"#ffffff\" stroke=\"#494744\" points=\"209,-81 171,-81 171,-66 209,-66 209,-81\"/>\n",
       "<text text-anchor=\"middle\" x=\"190\" y=\"-71.6\" font-family=\"Helvetica,sans-Serif\" font-size=\"8.00\" fill=\"#494744\">canvas</text>\n",
       "</g>\n",
       "<!-- append2 -->\n",
       "<g id=\"node2\" class=\"node\">\n",
       "<title>append2</title>\n",
       "<polygon fill=\"#ffffff\" stroke=\"#494744\" points=\"318,-65 274,-65 274,-50 318,-50 318,-65\"/>\n",
       "<text text-anchor=\"middle\" x=\"296\" y=\"-55.6\" font-family=\"Helvetica,sans-Serif\" font-size=\"8.00\" fill=\"#494744\">append2</text>\n",
       "</g>\n",
       "<!-- canvas&#45;&gt;append2 -->\n",
       "<g id=\"edge1\" class=\"edge\">\n",
       "<title>canvas-&gt;append2</title>\n",
       "<path fill=\"none\" stroke=\"#494744\" d=\"M209.442,-70.5654C224.6306,-68.2727 246.0655,-65.0373 263.8045,-62.3597\"/>\n",
       "<polygon fill=\"#494744\" stroke=\"#494744\" points=\"264.3811,-65.8124 273.7466,-60.859 263.3362,-58.8908 264.3811,-65.8124\"/>\n",
       "<text text-anchor=\"middle\" x=\"243\" y=\"-70.1\" font-family=\"Helvetica,sans-Serif\" font-size=\"8.00\" fill=\"#000000\">  parent  </text>\n",
       "</g>\n",
       "<!-- layout -->\n",
       "<g id=\"node8\" class=\"node\">\n",
       "<title>layout</title>\n",
       "<polygon fill=\"#ffffff\" stroke=\"#494744\" points=\"391,-65 357,-65 357,-50 391,-50 391,-65\"/>\n",
       "<text text-anchor=\"middle\" x=\"374\" y=\"-55.6\" font-family=\"Helvetica,sans-Serif\" font-size=\"8.00\" fill=\"#494744\">layout</text>\n",
       "</g>\n",
       "<!-- append2&#45;&gt;layout -->\n",
       "<g id=\"edge7\" class=\"edge\">\n",
       "<title>append2-&gt;layout</title>\n",
       "<path fill=\"none\" stroke=\"#494744\" d=\"M318.143,-57.5C327.044,-57.5 337.3955,-57.5 346.7517,-57.5\"/>\n",
       "<polygon fill=\"#494744\" stroke=\"#494744\" points=\"346.7619,-61.0001 356.7618,-57.5 346.7618,-54.0001 346.7619,-61.0001\"/>\n",
       "<text text-anchor=\"middle\" x=\"337.5\" y=\"-60.1\" font-family=\"Helvetica,sans-Serif\" font-size=\"8.00\" fill=\"#000000\">    </text>\n",
       "</g>\n",
       "<!-- axes1 -->\n",
       "<g id=\"node3\" class=\"node\">\n",
       "<title>axes1</title>\n",
       "<polygon fill=\"#ffffff\" stroke=\"#494744\" points=\"106,-64 72,-64 72,-49 106,-49 106,-64\"/>\n",
       "<text text-anchor=\"middle\" x=\"89\" y=\"-54.6\" font-family=\"Helvetica,sans-Serif\" font-size=\"8.00\" fill=\"#494744\">axes1</text>\n",
       "</g>\n",
       "<!-- append1 -->\n",
       "<g id=\"node4\" class=\"node\">\n",
       "<title>append1</title>\n",
       "<polygon fill=\"#ffffff\" stroke=\"#494744\" points=\"212,-48 168,-48 168,-33 212,-33 212,-48\"/>\n",
       "<text text-anchor=\"middle\" x=\"190\" y=\"-38.6\" font-family=\"Helvetica,sans-Serif\" font-size=\"8.00\" fill=\"#494744\">append1</text>\n",
       "</g>\n",
       "<!-- axes1&#45;&gt;append1 -->\n",
       "<g id=\"edge2\" class=\"edge\">\n",
       "<title>axes1-&gt;append1</title>\n",
       "<path fill=\"none\" stroke=\"#494744\" d=\"M106.1333,-53.7858C120.2087,-51.556 140.5439,-48.3346 157.665,-45.6224\"/>\n",
       "<polygon fill=\"#494744\" stroke=\"#494744\" points=\"158.4962,-49.0344 167.8254,-44.0128 157.4009,-42.1207 158.4962,-49.0344\"/>\n",
       "<text text-anchor=\"middle\" x=\"137\" y=\"-53.1\" font-family=\"Helvetica,sans-Serif\" font-size=\"8.00\" fill=\"#000000\">  parent  </text>\n",
       "</g>\n",
       "<!-- append1&#45;&gt;append2 -->\n",
       "<g id=\"edge6\" class=\"edge\">\n",
       "<title>append1-&gt;append2</title>\n",
       "<path fill=\"none\" stroke=\"#494744\" d=\"M212.1337,-42.9121C225.7035,-44.5085 243.406,-46.802 259,-49.5 260.4975,-49.7591 262.0264,-50.0367 263.5688,-50.3273\"/>\n",
       "<polygon fill=\"#494744\" stroke=\"#494744\" points=\"263.2599,-53.8352 273.7538,-52.3761 264.6404,-46.9726 263.2599,-53.8352\"/>\n",
       "<text text-anchor=\"middle\" x=\"243\" y=\"-52.1\" font-family=\"Helvetica,sans-Serif\" font-size=\"8.00\" fill=\"#000000\">  child  </text>\n",
       "</g>\n",
       "<!-- x -->\n",
       "<g id=\"node5\" class=\"node\">\n",
       "<title>x</title>\n",
       "<polygon fill=\"#ffffff\" stroke=\"#494744\" points=\"29,-48 0,-48 0,-33 29,-33 29,-48\"/>\n",
       "<text text-anchor=\"middle\" x=\"14.5\" y=\"-38.6\" font-family=\"Helvetica,sans-Serif\" font-size=\"8.00\" fill=\"#494744\">x</text>\n",
       "</g>\n",
       "<!-- plot -->\n",
       "<g id=\"node6\" class=\"node\">\n",
       "<title>plot</title>\n",
       "<polygon fill=\"#ffffff\" stroke=\"#494744\" points=\"103.5,-31 74.5,-31 74.5,-16 103.5,-16 103.5,-31\"/>\n",
       "<text text-anchor=\"middle\" x=\"89\" y=\"-21.6\" font-family=\"Helvetica,sans-Serif\" font-size=\"8.00\" fill=\"#494744\">plot</text>\n",
       "</g>\n",
       "<!-- x&#45;&gt;plot -->\n",
       "<g id=\"edge3\" class=\"edge\">\n",
       "<title>x-&gt;plot</title>\n",
       "<path fill=\"none\" stroke=\"#494744\" d=\"M29.2188,-37.1413C39.2185,-34.8595 52.6882,-31.7859 64.3104,-29.1339\"/>\n",
       "<polygon fill=\"#494744\" stroke=\"#494744\" points=\"65.341,-32.4887 74.3118,-26.8517 63.7837,-25.6642 65.341,-32.4887\"/>\n",
       "<text text-anchor=\"middle\" x=\"50.5\" y=\"-36.1\" font-family=\"Helvetica,sans-Serif\" font-size=\"8.00\" fill=\"#000000\">  x  </text>\n",
       "</g>\n",
       "<!-- plot&#45;&gt;append1 -->\n",
       "<g id=\"edge5\" class=\"edge\">\n",
       "<title>plot-&gt;append1</title>\n",
       "<path fill=\"none\" stroke=\"#494744\" d=\"M103.51,-25.6319C116.4959,-27.5721 136.0446,-30.5722 153,-33.5 154.4898,-33.7572 156.0123,-34.0251 157.5495,-34.2996\"/>\n",
       "<polygon fill=\"#494744\" stroke=\"#494744\" points=\"157.2486,-37.8028 167.7161,-36.1647 158.5118,-30.9177 157.2486,-37.8028\"/>\n",
       "<text text-anchor=\"middle\" x=\"137\" y=\"-36.1\" font-family=\"Helvetica,sans-Serif\" font-size=\"8.00\" fill=\"#000000\">  child  </text>\n",
       "</g>\n",
       "<!-- y -->\n",
       "<g id=\"node7\" class=\"node\">\n",
       "<title>y</title>\n",
       "<polygon fill=\"#ffffff\" stroke=\"#494744\" points=\"29,-15 0,-15 0,0 29,0 29,-15\"/>\n",
       "<text text-anchor=\"middle\" x=\"14.5\" y=\"-5.6\" font-family=\"Helvetica,sans-Serif\" font-size=\"8.00\" fill=\"#494744\">y</text>\n",
       "</g>\n",
       "<!-- y&#45;&gt;plot -->\n",
       "<g id=\"edge4\" class=\"edge\">\n",
       "<title>y-&gt;plot</title>\n",
       "<path fill=\"none\" stroke=\"#494744\" d=\"M29.2369,-6.8839C37.5002,-6.8631 47.9373,-7.3807 57,-9.5 59.7291,-10.1382 62.5158,-11.0023 65.2503,-11.9899\"/>\n",
       "<polygon fill=\"#494744\" stroke=\"#494744\" points=\"64.1528,-15.3238 74.7306,-15.9255 66.8368,-8.8588 64.1528,-15.3238\"/>\n",
       "<text text-anchor=\"middle\" x=\"50.5\" y=\"-12.1\" font-family=\"Helvetica,sans-Serif\" font-size=\"8.00\" fill=\"#000000\">  y  </text>\n",
       "</g>\n",
       "<!-- render -->\n",
       "<g id=\"node9\" class=\"node\">\n",
       "<title>render</title>\n",
       "<polygon fill=\"#ffffff\" stroke=\"#494744\" points=\"466,-65 430,-65 430,-50 466,-50 466,-65\"/>\n",
       "<text text-anchor=\"middle\" x=\"448\" y=\"-55.6\" font-family=\"Helvetica,sans-Serif\" font-size=\"8.00\" fill=\"#494744\">render</text>\n",
       "</g>\n",
       "<!-- layout&#45;&gt;render -->\n",
       "<g id=\"edge8\" class=\"edge\">\n",
       "<title>layout-&gt;render</title>\n",
       "<path fill=\"none\" stroke=\"#494744\" d=\"M391.1631,-57.5C399.6916,-57.5 410.2165,-57.5 419.882,-57.5\"/>\n",
       "<polygon fill=\"#494744\" stroke=\"#494744\" points=\"419.8976,-61.0001 429.8976,-57.5 419.8975,-54.0001 419.8976,-61.0001\"/>\n",
       "<text text-anchor=\"middle\" x=\"410.5\" y=\"-60.1\" font-family=\"Helvetica,sans-Serif\" font-size=\"8.00\" fill=\"#000000\">    </text>\n",
       "</g>\n",
       "</g>\n",
       "</svg>"
      ],
      "text/plain": [
       "<IPython.core.display.SVG object>"
      ]
     },
     "metadata": {},
     "output_type": "display_data"
    }
   ],
   "source": [
    "graphcat.notebook.display(graph)"
   ]
  },
  {
   "cell_type": "code",
   "execution_count": 5,
   "id": "d1fa06dd",
   "metadata": {},
   "outputs": [
    {
     "name": "stdout",
     "output_type": "stream",
     "text": [
      "<canvas width=\"200\" height=\"100\">\n",
      "  <cartesian margin=\"10px\" padding=\"5px\">\n",
      "    <plot x=\"[0 1 2 3 4 5 6 7 8 9]\" y=\"[ 0  1  4  9 16 25 36 49 64 81]\"/>\n",
      "  </cartesian>\n",
      "</canvas>\n"
     ]
    }
   ],
   "source": [
    "domcat.dump(graph.output(\"append2\"))"
   ]
  },
  {
   "cell_type": "code",
   "execution_count": 6,
   "id": "85047669",
   "metadata": {},
   "outputs": [
    {
     "name": "stdout",
     "output_type": "stream",
     "text": [
      "<canvas width=\"200\" height=\"100\" boxcat:content=\"(0, 200.0, 100.0, 0)\">\n",
      "  <cartesian margin=\"10px\" padding=\"5px\" boxcat:content=\"(15.0, 185.0, 85.0, 15.0)\">\n",
      "    <plot x=\"[0 1 2 3 4 5 6 7 8 9]\" y=\"[ 0  1  4  9 16 25 36 49 64 81]\" boxcat:content=\"(15.0, 185.0, 85.0, 15.0)\"/>\n",
      "  </cartesian>\n",
      "</canvas>\n"
     ]
    }
   ],
   "source": [
    "domcat.dump(graph.output(\"layout\"))"
   ]
  },
  {
   "cell_type": "code",
   "execution_count": 7,
   "id": "a11e6806",
   "metadata": {},
   "outputs": [
    {
     "name": "stdout",
     "output_type": "stream",
     "text": [
      "<svg xmlns=\"http://www.w3.org/2000/svg\" width=\"200.0\" height=\"100.0\" viewBox=\"0 0 200.0 100.0\">\n",
      "  <rect x=\"0\" y=\"0\" width=\"200.0\" height=\"100.0\" stroke=\"rgba(0,0,255,0.4)\" fill=\"none\"/>\n",
      "  <text x=\"2\" y=\"0\" style=\"font-size: 8px; fill: rgba(0,0,255,0.4); dominant-baseline: hanging\">\n",
      "    canvas\n",
      "  </text>\n",
      "  <rect x=\"15.0\" y=\"15.0\" width=\"170.0\" height=\"70.0\" stroke=\"rgba(0,0,255,0.4)\" fill=\"none\"/>\n",
      "  <text x=\"17.0\" y=\"15.0\" style=\"font-size: 8px; fill: rgba(0,0,255,0.4); dominant-baseline: hanging\">\n",
      "    cartesian\n",
      "  </text>\n",
      "  <rect x=\"15.0\" y=\"15.0\" width=\"170.0\" height=\"70.0\" stroke=\"rgba(0,0,255,0.4)\" fill=\"none\"/>\n",
      "  <text x=\"17.0\" y=\"15.0\" style=\"font-size: 8px; fill: rgba(0,0,255,0.4); dominant-baseline: hanging\">\n",
      "    plot\n",
      "  </text>\n",
      "</svg>\n"
     ]
    }
   ],
   "source": [
    "domcat.dump(graph.output(\"render\"))"
   ]
  },
  {
   "cell_type": "code",
   "execution_count": 8,
   "id": "7e3cade8",
   "metadata": {},
   "outputs": [
    {
     "data": {
      "image/svg+xml": [
       "<svg xmlns=\"http://www.w3.org/2000/svg\" width=\"200.0\" height=\"100.0\" viewBox=\"0 0 200.0 100.0\"><rect x=\"0\" y=\"0\" width=\"200.0\" height=\"100.0\" stroke=\"rgba(0,0,255,0.4)\" fill=\"none\"/><text x=\"2\" y=\"0\" style=\"font-size: 8px; fill: rgba(0,0,255,0.4); dominant-baseline: hanging\">canvas</text><rect x=\"15.0\" y=\"15.0\" width=\"170.0\" height=\"70.0\" stroke=\"rgba(0,0,255,0.4)\" fill=\"none\"/><text x=\"17.0\" y=\"15.0\" style=\"font-size: 8px; fill: rgba(0,0,255,0.4); dominant-baseline: hanging\">cartesian</text><rect x=\"15.0\" y=\"15.0\" width=\"170.0\" height=\"70.0\" stroke=\"rgba(0,0,255,0.4)\" fill=\"none\"/><text x=\"17.0\" y=\"15.0\" style=\"font-size: 8px; fill: rgba(0,0,255,0.4); dominant-baseline: hanging\">plot</text></svg>"
      ]
     },
     "metadata": {},
     "output_type": "display_data"
    }
   ],
   "source": [
    "display_svg(domcat.tostring(graph.output(\"render\")), raw=True)"
   ]
  }
 ],
 "metadata": {
  "kernelspec": {
   "display_name": "Python 3 (ipykernel)",
   "language": "python",
   "name": "python3"
  },
  "language_info": {
   "codemirror_mode": {
    "name": "ipython",
    "version": 3
   },
   "file_extension": ".py",
   "mimetype": "text/x-python",
   "name": "python",
   "nbconvert_exporter": "python",
   "pygments_lexer": "ipython3",
   "version": "3.8.2"
  }
 },
 "nbformat": 4,
 "nbformat_minor": 5
}
