{
 "cells": [
  {
   "cell_type": "markdown",
   "id": "2e08a0d7",
   "metadata": {},
   "source": [
    "This notebook verifies that shallow copies of a parent element can share children, which is important to reduce copying and memory consumption."
   ]
  },
  {
   "cell_type": "code",
   "execution_count": 1,
   "id": "cc4e651b",
   "metadata": {},
   "outputs": [],
   "source": [
    "import domcat\n",
    "import graphcat.notebook"
   ]
  },
  {
   "cell_type": "code",
   "execution_count": 2,
   "id": "aec611fb",
   "metadata": {},
   "outputs": [],
   "source": [
    "graph = graphcat.StaticGraph()\n",
    "graph.add_task(\"canvas\", domcat.create_element(\"canvas\"))\n",
    "graph.add_task(\"axes1\", domcat.create_element(\"cartesian\"))\n",
    "graph.add_task(\"append1\", domcat.append_element)\n",
    "graph.add_links(\"canvas\", (\"append1\", \"parent\"))\n",
    "graph.add_links(\"axes1\", (\"append1\", \"child\"))\n",
    "graph.add_task(\"axes2\", domcat.create_element(\"radial\"))\n",
    "graph.add_task(\"append2\", domcat.append_element)\n",
    "graph.add_links(\"append1\", (\"append2\", \"parent\"))\n",
    "graph.add_links(\"axes2\", (\"append2\", \"child\"))"
   ]
  },
  {
   "cell_type": "code",
   "execution_count": 3,
   "id": "829dff2f",
   "metadata": {},
   "outputs": [
    {
     "data": {
      "image/svg+xml": [
       "<svg xmlns=\"http://www.w3.org/2000/svg\" xmlns:xlink=\"http://www.w3.org/1999/xlink\" width=\"258pt\" height=\"72pt\" viewBox=\"0.00 0.00 258.00 72.00\">\n",
       "<g id=\"graph0\" class=\"graph\" transform=\"scale(1 1) rotate(0) translate(4 68)\">\n",
       "<polygon fill=\"#ffffff\" stroke=\"transparent\" points=\"-4,4 -4,-68 254,-68 254,4 -4,4\"/>\n",
       "<!-- canvas -->\n",
       "<g id=\"node1\" class=\"node\">\n",
       "<title>canvas</title>\n",
       "<polygon fill=\"#ffffff\" stroke=\"#494744\" points=\"38,-64 0,-64 0,-49 38,-49 38,-64\"/>\n",
       "<text text-anchor=\"middle\" x=\"19\" y=\"-54.6\" font-family=\"Helvetica,sans-Serif\" font-size=\"8.00\" fill=\"#494744\">canvas</text>\n",
       "</g>\n",
       "<!-- append1 -->\n",
       "<g id=\"node2\" class=\"node\">\n",
       "<title>append1</title>\n",
       "<polygon fill=\"#ffffff\" stroke=\"#494744\" points=\"144,-48 100,-48 100,-33 144,-33 144,-48\"/>\n",
       "<text text-anchor=\"middle\" x=\"122\" y=\"-38.6\" font-family=\"Helvetica,sans-Serif\" font-size=\"8.00\" fill=\"#494744\">append1</text>\n",
       "</g>\n",
       "<!-- canvas&#45;&gt;append1 -->\n",
       "<g id=\"edge1\" class=\"edge\">\n",
       "<title>canvas-&gt;append1</title>\n",
       "<path fill=\"none\" stroke=\"#494744\" d=\"M38.3735,-53.4905C52.8511,-51.2416 72.9684,-48.1166 89.8437,-45.4952\"/>\n",
       "<polygon fill=\"#494744\" stroke=\"#494744\" points=\"90.5083,-48.934 99.8525,-43.9404 89.4338,-42.0169 90.5083,-48.934\"/>\n",
       "<text text-anchor=\"middle\" x=\"69\" y=\"-53.1\" font-family=\"Helvetica,sans-Serif\" font-size=\"8.00\" fill=\"#000000\">  parent  </text>\n",
       "</g>\n",
       "<!-- append2 -->\n",
       "<g id=\"node4\" class=\"node\">\n",
       "<title>append2</title>\n",
       "<polygon fill=\"#ffffff\" stroke=\"#494744\" points=\"250,-31 206,-31 206,-16 250,-16 250,-31\"/>\n",
       "<text text-anchor=\"middle\" x=\"228\" y=\"-21.6\" font-family=\"Helvetica,sans-Serif\" font-size=\"8.00\" fill=\"#494744\">append2</text>\n",
       "</g>\n",
       "<!-- append1&#45;&gt;append2 -->\n",
       "<g id=\"edge3\" class=\"edge\">\n",
       "<title>append1-&gt;append2</title>\n",
       "<path fill=\"none\" stroke=\"#494744\" d=\"M144.2211,-36.9362C159.2027,-34.5335 179.2056,-31.3255 195.9089,-28.6467\"/>\n",
       "<polygon fill=\"#494744\" stroke=\"#494744\" points=\"196.4886,-32.0985 205.8082,-27.0591 195.3801,-25.1868 196.4886,-32.0985\"/>\n",
       "<text text-anchor=\"middle\" x=\"175\" y=\"-37.1\" font-family=\"Helvetica,sans-Serif\" font-size=\"8.00\" fill=\"#000000\">  parent  </text>\n",
       "</g>\n",
       "<!-- axes1 -->\n",
       "<g id=\"node3\" class=\"node\">\n",
       "<title>axes1</title>\n",
       "<polygon fill=\"#ffffff\" stroke=\"#494744\" points=\"36,-31 2,-31 2,-16 36,-16 36,-31\"/>\n",
       "<text text-anchor=\"middle\" x=\"19\" y=\"-21.6\" font-family=\"Helvetica,sans-Serif\" font-size=\"8.00\" fill=\"#494744\">axes1</text>\n",
       "</g>\n",
       "<!-- axes1&#45;&gt;append1 -->\n",
       "<g id=\"edge2\" class=\"edge\">\n",
       "<title>axes1-&gt;append1</title>\n",
       "<path fill=\"none\" stroke=\"#494744\" d=\"M36.1212,-25.9187C49.4606,-27.8455 68.4343,-30.679 85,-33.5 86.4904,-33.7538 88.0134,-34.0189 89.551,-34.2911\"/>\n",
       "<polygon fill=\"#494744\" stroke=\"#494744\" points=\"89.2528,-37.7944 99.7189,-36.148 90.5104,-30.9083 89.2528,-37.7944\"/>\n",
       "<text text-anchor=\"middle\" x=\"69\" y=\"-36.1\" font-family=\"Helvetica,sans-Serif\" font-size=\"8.00\" fill=\"#000000\">  child  </text>\n",
       "</g>\n",
       "<!-- axes2 -->\n",
       "<g id=\"node5\" class=\"node\">\n",
       "<title>axes2</title>\n",
       "<polygon fill=\"#ffffff\" stroke=\"#494744\" points=\"139,-15 105,-15 105,0 139,0 139,-15\"/>\n",
       "<text text-anchor=\"middle\" x=\"122\" y=\"-5.6\" font-family=\"Helvetica,sans-Serif\" font-size=\"8.00\" fill=\"#494744\">axes2</text>\n",
       "</g>\n",
       "<!-- axes2&#45;&gt;append2 -->\n",
       "<g id=\"edge4\" class=\"edge\">\n",
       "<title>axes2-&gt;append2</title>\n",
       "<path fill=\"none\" stroke=\"#494744\" d=\"M139.201,-6.0045C153.2754,-5.1961 173.6218,-4.9804 191,-8.5 195.0867,-9.3277 199.2959,-10.5946 203.3442,-12.0487\"/>\n",
       "<polygon fill=\"#494744\" stroke=\"#494744\" points=\"202.3317,-15.4141 212.9151,-15.9052 204.9479,-8.9214 202.3317,-15.4141\"/>\n",
       "<text text-anchor=\"middle\" x=\"175\" y=\"-11.1\" font-family=\"Helvetica,sans-Serif\" font-size=\"8.00\" fill=\"#000000\">  child  </text>\n",
       "</g>\n",
       "</g>\n",
       "</svg>"
      ],
      "text/plain": [
       "<IPython.core.display.SVG object>"
      ]
     },
     "metadata": {},
     "output_type": "display_data"
    }
   ],
   "source": [
    "graphcat.notebook.display(graph)"
   ]
  },
  {
   "cell_type": "code",
   "execution_count": 4,
   "id": "85047669",
   "metadata": {},
   "outputs": [
    {
     "name": "stdout",
     "output_type": "stream",
     "text": [
      "<canvas>\n",
      "  <cartesian/>\n",
      "  <radial/>\n",
      "</canvas>\n"
     ]
    }
   ],
   "source": [
    "domcat.dump(graph.output(\"append2\"))"
   ]
  },
  {
   "cell_type": "code",
   "execution_count": 5,
   "id": "0ce61619",
   "metadata": {},
   "outputs": [],
   "source": [
    "# We're creating new parent elements, so the instances should be different.\n",
    "assert(id(graph.output(\"append1\")) != id(graph.output(\"canvas\")))\n",
    "assert(id(graph.output(\"append2\")) != id(graph.output(\"append1\")))\n",
    "\n",
    "# Because the modified parents are shallow copies, the child instances should be the same.\n",
    "assert(id(graph.output(\"append1\")[0]) == id(graph.output(\"axes1\")))\n",
    "assert(id(graph.output(\"append2\")[0]) == id(graph.output(\"axes1\")))\n",
    "\n",
    "assert(id(graph.output(\"append2\")[1]) == id(graph.output(\"axes2\")))"
   ]
  }
 ],
 "metadata": {
  "kernelspec": {
   "display_name": "Python 3 (ipykernel)",
   "language": "python",
   "name": "python3"
  },
  "language_info": {
   "codemirror_mode": {
    "name": "ipython",
    "version": 3
   },
   "file_extension": ".py",
   "mimetype": "text/x-python",
   "name": "python",
   "nbconvert_exporter": "python",
   "pygments_lexer": "ipython3",
   "version": "3.8.2"
  }
 },
 "nbformat": 4,
 "nbformat_minor": 5
}
