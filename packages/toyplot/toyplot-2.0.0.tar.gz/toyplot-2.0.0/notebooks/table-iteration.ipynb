{
 "cells": [
  {
   "cell_type": "code",
   "execution_count": 1,
   "metadata": {
    "collapsed": true
   },
   "outputs": [],
   "source": [
    "import numpy\n",
    "import toyplot"
   ]
  },
  {
   "cell_type": "code",
   "execution_count": 2,
   "metadata": {
    "collapsed": false
   },
   "outputs": [
    {
     "data": {
      "text/html": [
       "<table class=\"toyplot-data-Table\" style=\"border-collapse:collapse; border:none; color: #292724\"><tr style=\"border:none;border-bottom:1px solid #292724\"><th style=\"text-align:left;border:none;padding-right:1em;\">0</th><th style=\"text-align:left;border:none;padding-right:1em;\">1</th><th style=\"text-align:left;border:none;padding-right:1em;\">2</th><th style=\"text-align:left;border:none;padding-right:1em;\">3</th></tr><tr style=\"border:none\"><td style=\"border:none;padding-right:1em;\">0.191519450379</td><td style=\"border:none;padding-right:1em;\">0.62210877104</td><td style=\"border:none;padding-right:1em;\">0.437727739007</td><td style=\"border:none;padding-right:1em;\">0.785358583714</td></tr><tr style=\"border:none\"><td style=\"border:none;padding-right:1em;\">0.779975808119</td><td style=\"border:none;padding-right:1em;\">0.272592605283</td><td style=\"border:none;padding-right:1em;\">0.276464255143</td><td style=\"border:none;padding-right:1em;\">0.801872177535</td></tr><tr style=\"border:none\"><td style=\"border:none;padding-right:1em;\">0.958139353684</td><td style=\"border:none;padding-right:1em;\">0.875932634742</td><td style=\"border:none;padding-right:1em;\">0.357817269958</td><td style=\"border:none;padding-right:1em;\">0.500995125523</td></tr><tr style=\"border:none\"><td style=\"border:none;padding-right:1em;\">0.683462935172</td><td style=\"border:none;padding-right:1em;\">0.712702026983</td><td style=\"border:none;padding-right:1em;\">0.37025075479</td><td style=\"border:none;padding-right:1em;\">0.561196186066</td></tr></table>"
      ],
      "text/plain": [
       "<toyplot.data.Table at 0x10d147250>"
      ]
     },
     "execution_count": 2,
     "metadata": {},
     "output_type": "execute_result"
    }
   ],
   "source": [
    "numpy.random.seed(1234)\n",
    "data = toyplot.data.Table(numpy.random.uniform(size=(4, 4)))\n",
    "data"
   ]
  },
  {
   "cell_type": "code",
   "execution_count": 3,
   "metadata": {
    "collapsed": false
   },
   "outputs": [
    {
     "name": "stdout",
     "output_type": "stream",
     "text": [
      "(0.19151945037889229, 0.62210877103983186, 0.43772773900711448, 0.78535858371376921)\n",
      "(0.77997580811880352, 0.27259260528264162, 0.27646425514309669, 0.80187217753501927)\n",
      "(0.95813935368370517, 0.87593263474209471, 0.35781726995786667, 0.50099512552345871)\n",
      "(0.6834629351721363, 0.71270202698290019, 0.37025075479039493, 0.56119618606562494)\n"
     ]
    }
   ],
   "source": [
    "for i in data:\n",
    "    print i"
   ]
  },
  {
   "cell_type": "code",
   "execution_count": null,
   "metadata": {
    "collapsed": true
   },
   "outputs": [],
   "source": []
  }
 ],
 "metadata": {
  "kernelspec": {
   "display_name": "Python 2",
   "language": "python",
   "name": "python2"
  },
  "language_info": {
   "codemirror_mode": {
    "name": "ipython",
    "version": 2
   },
   "file_extension": ".py",
   "mimetype": "text/x-python",
   "name": "python",
   "nbconvert_exporter": "python",
   "pygments_lexer": "ipython2",
   "version": "2.7.11"
  }
 },
 "nbformat": 4,
 "nbformat_minor": 0
}
