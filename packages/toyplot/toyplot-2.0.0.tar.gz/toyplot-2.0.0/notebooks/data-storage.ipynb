{
 "metadata": {
  "name": "",
  "signature": "sha256:df9937d21d8a89d68610a339aa769de2e948f9d9b344e849cb1c21246e6928e2"
 },
 "nbformat": 3,
 "nbformat_minor": 0,
 "worksheets": [
  {
   "cells": [
    {
     "cell_type": "markdown",
     "metadata": {},
     "source": [
      "# Specifying Columns\n",
      "\n",
      "* The user can supply a column key (index or name), or a sequence of column keys.\n",
      "* Or, the user can supply a scalar, vector, or matrix containing values.\n",
      "    * These columns are stored in the table using the *toyplot:* namespace.\n",
      "    * Unfortunately, it is difficult to tell the two apart.\n",
      "        * If the user didn't supply a table, then the columns will always be values.\n",
      "        * If the user did supply a table, then they could be keys or values.\n",
      "    * We could require that, when supplying a table, all data must already reside within it.  However, this seems kludgy for simple one-offs like *opacity*:\n",
      "            axes.plot(table, x=\"x\", y=[\"y1\", \"y2\"], opacity=\"opacity\")\n",
      "    * Instead of dealing with column keys, we could have the caller always supply data values, and those data values could be columns from the table:\n",
      "            axes.plot(data=table, x=table[\"x\"], y=[table[\"y1\"], table[\"y2\"]], opacity=0.5)\n",
      "        In this case, the table is more like an annotation - a caller specification of what to embed in the figure.  However,\n",
      "        this would allow the embedded data and plotted data to be out-of-sync, which is a no-no.\n",
      "    * Use something other than a string to designate column keys:\n",
      "            axes.plot(table, x=table.keys.x, y=[table.keys.y1, table.keys.y2], opacity=0.5)\n",
      "            axes.plot(table, x=table.key(\"x\"), y=[table.key(\"y1\"), table.key(\"y2\")], opacity=0.5)\n",
      "        Ideally, we want to be allow structures other than toyplot.data.Table (such as a Pandas data frame) as input,\n",
      "        so there should be some way to specify keys that doesn't assume a table:\n",
      "            axes.plot(pivot, x=toyplot.key(\"x\"), y=[toyplot.key(\"y1\"), toyplot.key(\"y2\")], opacity=0.5)\n",
      "    * Another way to disambiguate would be to have separate arguments for keys and data:\n",
      "            axes.plot(table, xcol=\"x\", ycol=[\"y1\", \"y2\"], opacity=0.5)\n",
      "\n",
      "# Specifying the Number Of Series\n",
      "\n",
      "* We could require that the user explicitly specify the number of series, than validate all the remaining information.\n",
      "* Or we could allow the number of series to be implicit:\n",
      "    * It could be determined by the number of keys provided for a column of special significance.\n",
      "    * Or it could be the maximum number of keys $n$ provided for any column.\n",
      "        * Note that the number of keys provided should always be $1$ or $n$ ... values in-between would be ambiguous.\n",
      "* Keep in mind that for some marks, $n+1$ boundaries define $n$ series.\n",
      "\n",
      "# Computed Columns\n",
      "\n",
      "* There are columns such as *fill* that get converted to sequences of RGBA values.  The converted versions can't overwrite the originals in the table, so they will be stored in the table using the *toyplot:* namespace.\n",
      "    * How to distinguish between `toyplot:fill` (raw data) and `toyplot:fill` (RGBA data), when the caller supplies `fill` data, instead of a `fill` key?\n",
      "\n",
      "# Mark Storage\n",
      "\n",
      "By the time data is stored in a toyplot.Mark, it must be *finalized*, which is to say:\n",
      "\n",
      "* All data is expanded and stored in the table.\n",
      "    * If the caller supplied raw data instead of a column key, the data is expanded and stored in table columns.\n",
      "* All column keys have been converted to strings.\n",
      "* All column keys have been expanded.\n",
      "    * If there are $n$ series, column $C$ will contain $n$ (or $n+1$, depending on the mark) column keys, even if they're the same key repeated.\n",
      "    "
     ]
    },
    {
     "cell_type": "code",
     "collapsed": false,
     "input": [],
     "language": "python",
     "metadata": {},
     "outputs": [],
     "prompt_number": 0
    }
   ],
   "metadata": {}
  }
 ]
}