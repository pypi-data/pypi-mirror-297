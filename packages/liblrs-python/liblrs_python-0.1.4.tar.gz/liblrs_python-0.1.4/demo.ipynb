{
 "cells": [
  {
   "cell_type": "code",
   "execution_count": 1,
   "metadata": {},
   "outputs": [
    {
     "name": "stdout",
     "output_type": "stream",
     "text": [
      "Processing lrm, reversed: false\n",
      "  On anchor 0, on lrm 0, projected along curve: 0\n",
      "  On anchor 1, on lrm 800, projected along curve: 1\n"
     ]
    }
   ],
   "source": [
    "from liblrs_python import Builder, Point, AnchorOnLrm, SegmentOfTraversal\n",
    "# We start by instantiating a builder that allows us to add each brick of the linear referencing system\n",
    "builder = Builder()\n",
    "\n",
    "# The topology\n",
    "#\n",
    "# We define a graph made of two nodes ’A’ and ’B’ and a single segment ’s’\n",
    "# The segment has a geometry\n",
    "node_a = builder.add_node(id=\"A\", coord=Point(0,0), properties={})\n",
    "node_b = builder.add_node(id=\"B\", coord=Point(1,0), properties={})\n",
    "geometry = [Point(0, 0), Point(1, 0)]\n",
    "segment = builder.add_segment(\n",
    "    id=\"s\",\n",
    "    start_node_index=node_a,\n",
    "    end_node_index=node_b,\n",
    "    geometry=geometry\n",
    ")\n",
    "\n",
    "# The traversal is a list of segment that represents a continuous curve where we want to make the measurements\n",
    "#\n",
    "# It can be a the US Route 66, an oil pipeline, etc.\n",
    "traversal = builder.add_traversal(\n",
    "    segments=[SegmentOfTraversal(segment_index=segment, reversed=False)],\n",
    "    traversal_id=\"traversal\"\n",
    ")\n",
    "\n",
    "# Anchors are reference points from which all the measurements will be done\n",
    "# \n",
    "# Those are usually milestones, but it could also be a landmark\n",
    "# The coordonates are not necessarly on the traversal. The library will project them\n",
    "anchor_0 = builder.add_anchor(id=\"0\", coord=Point(0, 0.1), name=\"0\", properties={})\n",
    "anchor_1 = builder.add_anchor(id=\"1\", coord=Point(1, 0.1), name=\"1\", properties={})\n",
    "\n",
    "# The Linear Referencing Method (LRM)\n",
    "#\n",
    "# Now that we have\n",
    "#   - a geometry with the traversal\n",
    "#   - reference points with the anchors\n",
    "#\n",
    "# We need a scale to create the complete LRM\n",
    "# The distance along the LRM can be in any unit (meters, feet, pixels, steps…)\n",
    "builder.add_lrm_with_distances(\n",
    "    id=\"lrm\",\n",
    "    anchors=[\n",
    "        AnchorOnLrm(anchor_index=anchor_0, distance_along_lrm=0),\n",
    "        AnchorOnLrm(anchor_index=anchor_1, distance_along_lrm=800)\n",
    "    ],\n",
    "    traversal_index=traversal,\n",
    "    properties={}\n",
    ")\n",
    "\n",
    "# We have everything we need now. Let’s build our LRS file\n",
    "# \n",
    "# We could also save it directly to a file with:\n",
    "# builder.save(out_file=\"demo.lrs.bin\", properties={})\n",
    "data = builder.build_data(properties={})\n"
   ]
  },
  {
   "cell_type": "code",
   "execution_count": 2,
   "metadata": {},
   "outputs": [
    {
     "name": "stdout",
     "output_type": "stream",
     "text": [
      "(0.0; 0.0), (1.0; 0.0)\n",
      "0.25; 0.0\n"
     ]
    }
   ],
   "source": [
    "# Let’s use the the generated data\n",
    "from liblrs_python import Lrs, LrmScaleMeasure\n",
    "# First we read the whole file\n",
    "lrs = Lrs(bytes(data))\n",
    "\n",
    "# We the search for the LRM with the id \"lrm\"\n",
    "lrm = lrs.find_lrm(\"lrm\")\n",
    "\n",
    "# We can access it’s geometry\n",
    "print(\", \".join([f\"({p.x}; {p.y})\" for p in lrs.get_lrm_geom(lrm)]))\n",
    "\n",
    "# Let’s find where is locate the point 200 after the anchor \"0\"\n",
    "# The LrmScaleMeasure object allows us to define that position\n",
    "measure = LrmScaleMeasure(anchor_name=\"0\", scale_offset=200)\n",
    "position = lrs.resolve(lrm, measure)\n",
    "print(f\"{position.x}; {position.y}\")"
   ]
  },
  {
   "cell_type": "code",
   "execution_count": 5,
   "metadata": {},
   "outputs": [
    {
     "data": {
      "text/plain": [
       "1.0"
      ]
     },
     "execution_count": 5,
     "metadata": {},
     "output_type": "execute_result"
    }
   ],
   "source": [
    "from liblrs_python import Builder, Point, AnchorOnLrm, SegmentOfTraversal\n",
    "\n",
    "p = Point(1., 2.)\n",
    "\n",
    "p.x"
   ]
  }
 ],
 "metadata": {
  "kernelspec": {
   "display_name": ".env",
   "language": "python",
   "name": "python3"
  },
  "language_info": {
   "codemirror_mode": {
    "name": "ipython",
    "version": 3
   },
   "file_extension": ".py",
   "mimetype": "text/x-python",
   "name": "python",
   "nbconvert_exporter": "python",
   "pygments_lexer": "ipython3",
   "version": "3.12.5"
  }
 },
 "nbformat": 4,
 "nbformat_minor": 2
}
