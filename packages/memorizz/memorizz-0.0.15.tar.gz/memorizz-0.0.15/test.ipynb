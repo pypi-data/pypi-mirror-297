{
 "cells": [
  {
   "cell_type": "markdown",
   "metadata": {},
   "source": [
    "To use MongoDB as a toolbox, you will need to complete the following steps:\n",
    "\n",
    "1. Register for a MongoDB Account:\n",
    "   - Go to the MongoDB website (https://www.mongodb.com/cloud/atlas/register).\n",
    "   - Click on the \"Try Free\" or \"Get Started Free\" button.\n",
    "   - Fill out the registration form with your details and create an account.\n",
    "\n",
    "2. Create a [MongoDB Cluster](https://www.mongodb.com/docs/atlas/tutorial/deploy-free-tier-cluster/#procedure)\n",
    "\n",
    "3. Set Up [Database Access](https://www.mongodb.com/docs/atlas/security-add-mongodb-users/#add-database-users):\n",
    "   - In the left sidebar, click on \"Database Access\" under \"Security\".\n",
    "   - Click \"Add New Database User\".\n",
    "   - Create a username and a strong password. Save these credentials securely.\n",
    "   - Set the appropriate permissions for the user (e.g., \"Read and write to any database\").\n",
    "\n",
    "4. Configure Network Access:\n",
    "   - In the left sidebar, click on \"Network Access\" under \"Security\".\n",
    "   - Click \"Add IP Address\".\n",
    "   - To allow access from anywhere (not recommended for production), enter 0.0.0.0/0.\n",
    "   - For better security, whitelist only the specific IP addresses that need access.\n",
    "\n",
    "5. Obtain the [MongoDB URI](https://www.mongodb.com/docs/manual/reference/connection-string/#find-your-mongodb-atlas-connection-string):\n",
    "\n",
    "Now that you have your MongoDB URI, you can use it to connect to your cluster in the `memorizz` library."
   ]
  },
  {
   "cell_type": "code",
   "execution_count": 7,
   "metadata": {},
   "outputs": [
    {
     "name": "stdout",
     "output_type": "stream",
     "text": [
      "Requirement already satisfied: memorizz in /Users/richmondalake/miniconda3/envs/memorizz/lib/python3.9/site-packages (0.0.14)\n",
      "Requirement already satisfied: openai in /Users/richmondalake/miniconda3/envs/memorizz/lib/python3.9/site-packages (from memorizz) (1.43.0)\n",
      "Requirement already satisfied: pymongo in /Users/richmondalake/miniconda3/envs/memorizz/lib/python3.9/site-packages (from memorizz) (4.9.1)\n",
      "Requirement already satisfied: anyio<5,>=3.5.0 in /Users/richmondalake/miniconda3/envs/memorizz/lib/python3.9/site-packages (from openai->memorizz) (4.4.0)\n",
      "Requirement already satisfied: distro<2,>=1.7.0 in /Users/richmondalake/miniconda3/envs/memorizz/lib/python3.9/site-packages (from openai->memorizz) (1.9.0)\n",
      "Requirement already satisfied: httpx<1,>=0.23.0 in /Users/richmondalake/miniconda3/envs/memorizz/lib/python3.9/site-packages (from openai->memorizz) (0.27.2)\n",
      "Requirement already satisfied: jiter<1,>=0.4.0 in /Users/richmondalake/miniconda3/envs/memorizz/lib/python3.9/site-packages (from openai->memorizz) (0.5.0)\n",
      "Requirement already satisfied: pydantic<3,>=1.9.0 in /Users/richmondalake/miniconda3/envs/memorizz/lib/python3.9/site-packages (from openai->memorizz) (2.8.2)\n",
      "Requirement already satisfied: sniffio in /Users/richmondalake/miniconda3/envs/memorizz/lib/python3.9/site-packages (from openai->memorizz) (1.3.1)\n",
      "Requirement already satisfied: tqdm>4 in /Users/richmondalake/miniconda3/envs/memorizz/lib/python3.9/site-packages (from openai->memorizz) (4.66.5)\n",
      "Requirement already satisfied: typing-extensions<5,>=4.11 in /Users/richmondalake/miniconda3/envs/memorizz/lib/python3.9/site-packages (from openai->memorizz) (4.12.2)\n",
      "Requirement already satisfied: dnspython<3.0.0,>=1.16.0 in /Users/richmondalake/miniconda3/envs/memorizz/lib/python3.9/site-packages (from pymongo->memorizz) (2.6.1)\n",
      "Requirement already satisfied: idna>=2.8 in /Users/richmondalake/miniconda3/envs/memorizz/lib/python3.9/site-packages (from anyio<5,>=3.5.0->openai->memorizz) (3.8)\n",
      "Requirement already satisfied: exceptiongroup>=1.0.2 in /Users/richmondalake/miniconda3/envs/memorizz/lib/python3.9/site-packages (from anyio<5,>=3.5.0->openai->memorizz) (1.2.2)\n",
      "Requirement already satisfied: certifi in /Users/richmondalake/miniconda3/envs/memorizz/lib/python3.9/site-packages (from httpx<1,>=0.23.0->openai->memorizz) (2024.8.30)\n",
      "Requirement already satisfied: httpcore==1.* in /Users/richmondalake/miniconda3/envs/memorizz/lib/python3.9/site-packages (from httpx<1,>=0.23.0->openai->memorizz) (1.0.5)\n",
      "Requirement already satisfied: h11<0.15,>=0.13 in /Users/richmondalake/miniconda3/envs/memorizz/lib/python3.9/site-packages (from httpcore==1.*->httpx<1,>=0.23.0->openai->memorizz) (0.14.0)\n",
      "Requirement already satisfied: annotated-types>=0.4.0 in /Users/richmondalake/miniconda3/envs/memorizz/lib/python3.9/site-packages (from pydantic<3,>=1.9.0->openai->memorizz) (0.7.0)\n",
      "Requirement already satisfied: pydantic-core==2.20.1 in /Users/richmondalake/miniconda3/envs/memorizz/lib/python3.9/site-packages (from pydantic<3,>=1.9.0->openai->memorizz) (2.20.1)\n",
      "Note: you may need to restart the kernel to use updated packages.\n"
     ]
    }
   ],
   "source": [
    "%pip install --upgrade memorizz"
   ]
  },
  {
   "cell_type": "code",
   "execution_count": 8,
   "metadata": {},
   "outputs": [
    {
     "ename": "ModuleNotFoundError",
     "evalue": "No module named 'memorizz'",
     "output_type": "error",
     "traceback": [
      "\u001b[0;31m---------------------------------------------------------------------------\u001b[0m",
      "\u001b[0;31mModuleNotFoundError\u001b[0m                       Traceback (most recent call last)",
      "Cell \u001b[0;32mIn[8], line 1\u001b[0m\n\u001b[0;32m----> 1\u001b[0m \u001b[38;5;28;01mfrom\u001b[39;00m \u001b[38;5;21;01mmemorizz\u001b[39;00m\u001b[38;5;21;01m.\u001b[39;00m\u001b[38;5;21;01mdatabase\u001b[39;00m\u001b[38;5;21;01m.\u001b[39;00m\u001b[38;5;21;01mmongodb\u001b[39;00m \u001b[38;5;28;01mimport\u001b[39;00m MongoDBToolsConfig, MongoDBTools\n",
      "\u001b[0;31mModuleNotFoundError\u001b[0m: No module named 'memorizz'"
     ]
    }
   ],
   "source": [
    "from memorizz.database.mongodb import MongoDBToolsConfig, MongoDBTools"
   ]
  },
  {
   "cell_type": "code",
   "execution_count": 2,
   "metadata": {},
   "outputs": [],
   "source": [
    "import os\n",
    "import getpass\n",
    "\n",
    "# Set up environment variables for API keys and MongoDB URI\n",
    "# This key is required for using OpenAI's services, such as generating embeddings\n",
    "OPENAI_API_KEY = getpass.getpass(\"OpenAI API Key: \")\n",
    "os.environ[\"OPENAI_API_KEY\"] = OPENAI_API_KEY\n",
    "\n",
    "# This URI is needed to connect to the MongoDB database\n",
    "MONGO_URI = getpass.getpass(\"Enter MongoDB URI: \")\n",
    "os.environ[\"MONGO_URI\"] = MONGO_URI"
   ]
  },
  {
   "cell_type": "code",
   "execution_count": 3,
   "metadata": {},
   "outputs": [
    {
     "name": "stderr",
     "output_type": "stream",
     "text": [
      "WARNING:memorizz.database.mongodb.mongodb_tools:Note on vector search index: <pymongo.operations.SearchIndexModel object at 0x7f8a783ea7c0> is not an instance of pymongo.operations.IndexModel\n",
      "INFO:memorizz.database.mongodb.mongodb_tools:MongoDBTools initialized successfully.\n"
     ]
    }
   ],
   "source": [
    "# 1. Initialize the MongoDB configuration and create a MongoDB tools instance\n",
    "config = MongoDBToolsConfig(\n",
    "    mongo_uri=MONGO_URI,  # MongoDB connection string\n",
    "    db_name=\"function_calling_db\",  # Name of the database to use\n",
    "    collection_name=\"tools\",  # Name of the collection to store tools\n",
    "    embedding_model=\"text-embedding-3-small\",  # OpenAI model for generating embeddings\n",
    "    embeding_dimensions_size=1536,  # Dimension size for the embedding vectors\n",
    "    vector_search_candidates=150,  # Number of candidates to consider in vector search\n",
    "    vector_index_name=\"vector_index\"  # Name of the vector index in MongoDB\n",
    ")\n",
    "\n",
    "# 2. Create an instance of MongoDBTools with the configured settings\n",
    "mongodb_tools = MongoDBTools(config)\n",
    "\n",
    "# 3. Create a decorator function for registering tools\n",
    "mongodb_toolbox = mongodb_tools.mongodb_toolbox"
   ]
  },
  {
   "cell_type": "code",
   "execution_count": 4,
   "metadata": {},
   "outputs": [
    {
     "name": "stderr",
     "output_type": "stream",
     "text": [
      "INFO:httpx:HTTP Request: POST https://api.openai.com/v1/embeddings \"HTTP/1.1 200 OK\"\n",
      "INFO:memorizz.database.mongodb.mongodb_tools:Successfully registered tool: shout\n",
      "INFO:httpx:HTTP Request: POST https://api.openai.com/v1/embeddings \"HTTP/1.1 200 OK\"\n",
      "INFO:memorizz.database.mongodb.mongodb_tools:Successfully registered tool: get_weather\n",
      "INFO:httpx:HTTP Request: POST https://api.openai.com/v1/embeddings \"HTTP/1.1 200 OK\"\n",
      "INFO:memorizz.database.mongodb.mongodb_tools:Successfully registered tool: get_stock_price\n",
      "INFO:httpx:HTTP Request: POST https://api.openai.com/v1/embeddings \"HTTP/1.1 200 OK\"\n",
      "INFO:memorizz.database.mongodb.mongodb_tools:Successfully registered tool: get_current_time\n"
     ]
    }
   ],
   "source": [
    "import random\n",
    "from datetime import datetime\n",
    "\n",
    "# 4. Define and register tool functions using the mongodb_toolbox decorator\n",
    "# These functions will be stored in the MongoDB database and can be retrieved for function calling\n",
    "@mongodb_toolbox()\n",
    "def shout(statement: str) -> str:\n",
    "  \"\"\"\n",
    "  Convert a statement to uppercase letters to emulate shouting. Use this when a user wants to emphasize something strongly or when they explicitly ask to 'shout' something..\n",
    "\n",
    "  \"\"\"\n",
    "  return statement.upper()\n",
    "\n",
    "@mongodb_toolbox()\n",
    "def get_weather(location: str, unit: str = \"celsius\") -> str:\n",
    "    \"\"\"\n",
    "    Get the current weather for a specified location.\n",
    "    Use this when a user asks about the weather in a specific place.\n",
    "\n",
    "    :param location: The name of the city or location to get weather for.\n",
    "    :param unit: The temperature unit, either 'celsius' or 'fahrenheit'. Defaults to 'celsius'.\n",
    "    :return: A string describing the current weather.\n",
    "    \"\"\"\n",
    "    conditions = [\"sunny\", \"cloudy\", \"rainy\", \"snowy\"]\n",
    "    temperature = random.randint(-10, 35)\n",
    "\n",
    "    if unit.lower() == \"fahrenheit\":\n",
    "        temperature = (temperature * 9/5) + 32\n",
    "\n",
    "    condition = random.choice(conditions)\n",
    "    return f\"The weather in {location} is currently {condition} with a temperature of {temperature}°{'C' if unit.lower() == 'celsius' else 'F'}.\"\n",
    "\n",
    "@mongodb_toolbox()\n",
    "def get_stock_price(symbol: str) -> str:\n",
    "    \"\"\"\n",
    "    Get the current stock price for a given stock symbol.\n",
    "    Use this when a user asks about the current price of a specific stock.\n",
    "\n",
    "    :param symbol: The stock symbol to look up (e.g., 'AAPL' for Apple Inc.).\n",
    "    :return: A string with the current stock price.\n",
    "    \"\"\"\n",
    "    price = round(random.uniform(10, 1000), 2)\n",
    "    return f\"The current stock price of {symbol} is ${price}.\"\n",
    "\n",
    "@mongodb_toolbox()\n",
    "def get_current_time(timezone: str = \"UTC\") -> str:\n",
    "    \"\"\"\n",
    "    Get the current time for a specified timezone.\n",
    "    Use this when a user asks about the current time in a specific timezone.\n",
    "\n",
    "    :param timezone: The timezone to get the current time for. Defaults to 'UTC'.\n",
    "    :return: A string with the current time in the specified timezone.\n",
    "    \"\"\"\n",
    "    current_time = datetime.utcnow().strftime(\"%H:%M:%S\")\n",
    "    return f\"The current time in {timezone} is {current_time}.\"\n"
   ]
  },
  {
   "cell_type": "code",
   "execution_count": 5,
   "metadata": {},
   "outputs": [],
   "source": [
    "# 5. Define the user query\n",
    "# This query will be used to search for relevant tools in the MongoDB database\n",
    "user_query = \"Hi, can you shout the statement: We are there\""
   ]
  },
  {
   "cell_type": "code",
   "execution_count": 6,
   "metadata": {},
   "outputs": [
    {
     "name": "stderr",
     "output_type": "stream",
     "text": [
      "INFO:httpx:HTTP Request: POST https://api.openai.com/v1/embeddings \"HTTP/1.1 200 OK\"\n",
      "INFO:memorizz.database.mongodb.mongodb_tools:Successfully populated 2 tools\n"
     ]
    },
    {
     "name": "stdout",
     "output_type": "stream",
     "text": [
      "{'_id': ObjectId('66d45ce461c366b24e31705d'), 'name': 'shout', 'description': \"Convert a statement to uppercase letters to emulate shouting. Use this when a user wants to emphasize something strongly or when they explicitly ask to 'shout' something..\", 'parameters': {'type': 'object', 'properties': {'statement': {'type': 'string', 'description': 'Parameter statement'}}, 'required': ['statement'], 'additionalProperties': False}}\n",
      "{'_id': ObjectId('66d45ce561c366b24e31708a'), 'name': 'get_stock_price', 'description': \"Get the current stock price for a given stock symbol.\\nUse this when a user asks about the current price of a specific stock.\\n\\n:param symbol: The stock symbol to look up (e.g., 'AAPL' for Apple Inc.).\\n:return: A string with the current stock price.\", 'parameters': {'type': 'object', 'properties': {'symbol': {'type': 'string', 'description': 'Parameter symbol'}}, 'required': ['symbol'], 'additionalProperties': False}}\n"
     ]
    }
   ],
   "source": [
    "# 6. Populate tools based on the user query\n",
    "tools = mongodb_tools.populate_tools(\n",
    "    user_query,  # The query string to search for relevant tools\n",
    "    num_tools=2  # The maximum number of tools to return from the search\n",
    "    )"
   ]
  },
  {
   "cell_type": "code",
   "execution_count": 7,
   "metadata": {},
   "outputs": [
    {
     "name": "stdout",
     "output_type": "stream",
     "text": [
      "[{'function': {'description': 'Convert a statement to uppercase letters to '\n",
      "                              'emulate shouting. Use this when a user wants to '\n",
      "                              'emphasize something strongly or when they '\n",
      "                              \"explicitly ask to 'shout' something..\",\n",
      "               'name': 'shout',\n",
      "               'parameters': {'additionalProperties': False,\n",
      "                              'properties': {'statement': {'description': 'Parameter '\n",
      "                                                                          'statement',\n",
      "                                                           'type': 'string'}},\n",
      "                              'required': ['statement'],\n",
      "                              'type': 'object'}},\n",
      "  'type': 'function'},\n",
      " {'function': {'description': 'Get the current stock price for a given stock '\n",
      "                              'symbol.\\n'\n",
      "                              'Use this when a user asks about the current '\n",
      "                              'price of a specific stock.\\n'\n",
      "                              '\\n'\n",
      "                              ':param symbol: The stock symbol to look up '\n",
      "                              \"(e.g., 'AAPL' for Apple Inc.).\\n\"\n",
      "                              ':return: A string with the current stock price.',\n",
      "               'name': 'get_stock_price',\n",
      "               'parameters': {'additionalProperties': False,\n",
      "                              'properties': {'symbol': {'description': 'Parameter '\n",
      "                                                                       'symbol',\n",
      "                                                        'type': 'string'}},\n",
      "                              'required': ['symbol'],\n",
      "                              'type': 'object'}},\n",
      "  'type': 'function'}]\n"
     ]
    }
   ],
   "source": [
    "import pprint\n",
    "\n",
    "pprint.pprint(tools)"
   ]
  }
 ],
 "metadata": {
  "kernelspec": {
   "display_name": "memorizz",
   "language": "python",
   "name": "python3"
  },
  "language_info": {
   "codemirror_mode": {
    "name": "ipython",
    "version": 3
   },
   "file_extension": ".py",
   "mimetype": "text/x-python",
   "name": "python",
   "nbconvert_exporter": "python",
   "pygments_lexer": "ipython3",
   "version": "3.9.19"
  }
 },
 "nbformat": 4,
 "nbformat_minor": 2
}
