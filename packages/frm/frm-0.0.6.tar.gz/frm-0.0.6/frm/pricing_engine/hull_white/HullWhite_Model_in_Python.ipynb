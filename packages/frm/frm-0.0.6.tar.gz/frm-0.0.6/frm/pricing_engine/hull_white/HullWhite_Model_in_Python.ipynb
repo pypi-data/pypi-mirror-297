{
 "cells": [
  {
   "cell_type": "markdown",
   "metadata": {},
   "source": [
    "# Hull and White model"
   ]
  },
  {
   "cell_type": "markdown",
   "metadata": {},
   "source": [
    "In this post, I discuss how to implement Hull and White short term interest rate model.\n",
    "\n",
    "The short rate is assumed to satisfy the following stochastic diﬀerential equation\n",
    "\n",
    "$$ dr_t = (\\theta(t) - k r_t)dt + \\sigma dW_t  $$"
   ]
  },
  {
   "cell_type": "markdown",
   "metadata": {},
   "source": [
    "The price of a zero coupon bond is\n",
    "\n",
    "\\begin{equation}\n",
    "P(t,T) = e^{A(t,T) -B(T-t)r_0}\n",
    "\\end{equation}\n",
    "\n",
    "where $r_0$ is the current level of (short term) interest rates and,\n",
    "\n",
    "<br>\n",
    "\\begin{equation}\n",
    "A(t, T) = -\\int_t^{T}B\\left(T-s\\right)\\theta_sds+\\frac{\\sigma^2}{2}\\int_t^{T}B\\left(T-s\\right)^2ds\\end{equation}\n",
    "<br>\n",
    "\n",
    "<br>\n",
    "\\begin{equation}\n",
    "B(t, T) = \\frac{1}{k}\\left(1-e^{-k(T-t)}\\right)\\end{equation}\n",
    "<br>\n",
    "\n",
    "\n",
    "\\begin{equation}\n",
    "\\theta(t) = \\frac{{\\partial}f(0,t)}{{\\partial}t} + kf(0,t) + \\frac{\\sigma^2}{2k}\\left(1-e^{-2kt}\\right)\n",
    "\\end{equation}\n",
    "\n",
    "$\\theta(t)$ is the drift rate that matches the current term structure of interest rates \n",
    "\n",
    "Given the formula for the zero coupon bond, it is also possible to write the yield for a maturity $\\tau$ using the short term rate $r_t$ at time $t$ as\n",
    "\n",
    "<br>\n",
    "\\begin{equation}\n",
    "Y(t,t+\\tau) = -\\frac{A(t,t+\\tau)}{\\tau} + \\frac{1}{k}\\left(\\frac{1-e^{-2k\\tau}}{\\tau}\\right)r_t\n",
    "\\end{equation}\n",
    "<br>"
   ]
  },
  {
   "cell_type": "markdown",
   "metadata": {},
   "source": [
    "#### Loading python libraries"
   ]
  },
  {
   "cell_type": "code",
   "execution_count": 1,
   "metadata": {},
   "outputs": [],
   "source": [
    "import numpy as np\n",
    "import numpy.random as npr\n",
    "from   scipy import integrate\n",
    "import scipy.integrate as sciIntegr\n",
    "import pandas as pd\n",
    "from   scipy.interpolate import splrep, splev\n",
    "import matplotlib.pyplot as plt\n",
    "%matplotlib inline"
   ]
  },
  {
   "cell_type": "code",
   "execution_count": 2,
   "metadata": {},
   "outputs": [],
   "source": [
    "from Bond import *"
   ]
  },
  {
   "cell_type": "code",
   "execution_count": 3,
   "metadata": {},
   "outputs": [
    {
     "name": "stderr",
     "output_type": "stream",
     "text": [
      "C:\\Users\\User\\Anaconda3\\lib\\site-packages\\ipykernel_launcher.py:1: FutureWarning: from_csv is deprecated. Please use read_csv(...) instead. Note that some of the default arguments are different, so please refer to the documentation for from_csv when changing your function calls\n",
      "  \"\"\"Entry point for launching an IPython kernel.\n"
     ]
    },
    {
     "name": "stdout",
     "output_type": "stream",
     "text": [
      "(78, 3)\n"
     ]
    },
    {
     "data": {
      "text/html": [
       "<div>\n",
       "<style scoped>\n",
       "    .dataframe tbody tr th:only-of-type {\n",
       "        vertical-align: middle;\n",
       "    }\n",
       "\n",
       "    .dataframe tbody tr th {\n",
       "        vertical-align: top;\n",
       "    }\n",
       "\n",
       "    .dataframe thead th {\n",
       "        text-align: right;\n",
       "    }\n",
       "</style>\n",
       "<table border=\"1\" class=\"dataframe\">\n",
       "  <thead>\n",
       "    <tr style=\"text-align: right;\">\n",
       "      <th></th>\n",
       "      <th>Time</th>\n",
       "      <th>Zeros</th>\n",
       "      <th>Prices</th>\n",
       "    </tr>\n",
       "  </thead>\n",
       "  <tbody>\n",
       "    <tr>\n",
       "      <th>0</th>\n",
       "      <td>0.003968</td>\n",
       "      <td>0.011107</td>\n",
       "      <td>0.999956</td>\n",
       "    </tr>\n",
       "    <tr>\n",
       "      <th>1</th>\n",
       "      <td>0.347945</td>\n",
       "      <td>0.015111</td>\n",
       "      <td>0.994756</td>\n",
       "    </tr>\n",
       "    <tr>\n",
       "      <th>2</th>\n",
       "      <td>0.436447</td>\n",
       "      <td>0.016121</td>\n",
       "      <td>0.992989</td>\n",
       "    </tr>\n",
       "    <tr>\n",
       "      <th>3</th>\n",
       "      <td>0.524948</td>\n",
       "      <td>0.017110</td>\n",
       "      <td>0.991058</td>\n",
       "    </tr>\n",
       "    <tr>\n",
       "      <th>4</th>\n",
       "      <td>0.613450</td>\n",
       "      <td>0.018079</td>\n",
       "      <td>0.988971</td>\n",
       "    </tr>\n",
       "    <tr>\n",
       "      <th>5</th>\n",
       "      <td>0.701951</td>\n",
       "      <td>0.019027</td>\n",
       "      <td>0.986733</td>\n",
       "    </tr>\n",
       "    <tr>\n",
       "      <th>6</th>\n",
       "      <td>0.790452</td>\n",
       "      <td>0.019956</td>\n",
       "      <td>0.984350</td>\n",
       "    </tr>\n",
       "    <tr>\n",
       "      <th>7</th>\n",
       "      <td>0.878954</td>\n",
       "      <td>0.020864</td>\n",
       "      <td>0.981828</td>\n",
       "    </tr>\n",
       "    <tr>\n",
       "      <th>8</th>\n",
       "      <td>0.967455</td>\n",
       "      <td>0.021753</td>\n",
       "      <td>0.979174</td>\n",
       "    </tr>\n",
       "    <tr>\n",
       "      <th>9</th>\n",
       "      <td>1.055957</td>\n",
       "      <td>0.022623</td>\n",
       "      <td>0.976394</td>\n",
       "    </tr>\n",
       "  </tbody>\n",
       "</table>\n",
       "</div>"
      ],
      "text/plain": [
       "       Time     Zeros    Prices\n",
       "0  0.003968  0.011107  0.999956\n",
       "1  0.347945  0.015111  0.994756\n",
       "2  0.436447  0.016121  0.992989\n",
       "3  0.524948  0.017110  0.991058\n",
       "4  0.613450  0.018079  0.988971\n",
       "5  0.701951  0.019027  0.986733\n",
       "6  0.790452  0.019956  0.984350\n",
       "7  0.878954  0.020864  0.981828\n",
       "8  0.967455  0.021753  0.979174\n",
       "9  1.055957  0.022623  0.976394"
      ]
     },
     "execution_count": 3,
     "metadata": {},
     "output_type": "execute_result"
    }
   ],
   "source": [
    "dataframe    =  pd.DataFrame.from_csv('Strips.csv', index_col=None)\n",
    "print (dataframe.shape)\n",
    "dataframe.head(10)"
   ]
  },
  {
   "cell_type": "code",
   "execution_count": 4,
   "metadata": {},
   "outputs": [],
   "source": [
    "class HullWhite(Bond):\n",
    "    def __init__(self, ZCB, times, theta, kappa, sigma, r0=0.):\n",
    "        Bond.__init__(self, theta, kappa, sigma, r0)\n",
    "    \n",
    "        self.dt     = 0.00001\n",
    "        self._ZCB   = ZCB\n",
    "        self._times = times\n",
    "        \n",
    "        self.ret= splrep(self._times, -np.log(self._ZCB)/ self._times)                \n",
    "        \n",
    "    def fitting(self,x):\n",
    "        return splev(x, self.ret)\n",
    "    \n",
    "    def dfitt(self,x):\n",
    "        return splev(x, self.ret, der=1)\n",
    "    \n",
    "    def ForwardRate(self, time):                \n",
    "        r        = self.SpotRate(time)\n",
    "        dr_dt    = self.dfitt(time)\n",
    "        \n",
    "        fwd_rate = r + time * dr_dt                    \n",
    "        return fwd_rate\n",
    "    \n",
    "    def SpotRate(self, time):            \n",
    "        return self.fitting(time)        \n",
    "    \n",
    "    def PrepareThetas(self):\n",
    "        Timeline        = np.linspace(Maturities[0], Maturities[-1],100)\n",
    "        Thetarates      = [self.Thetat(t) for t in Timeline]\n",
    "        self.Thetarates = splrep(Timeline, Thetarates)\n",
    "        \n",
    "    def A(self, t, T):                    \n",
    "               \n",
    "        def integrand1(time):\n",
    "            theta = splev(time, self.Thetarates)\n",
    "            return theta * self.B(time, T)\n",
    "            \n",
    "        def integrand2(time):\n",
    "            return (self.B(time, T)**2)\n",
    "        \n",
    "        val1 = integrate.quad(integrand1, t, T)[0]\n",
    "        val2 = integrate.quad(integrand2, t, T)[0]\n",
    "        return -val1 + 0.5*(self.sigma**2)*val2\n",
    "        \n",
    "    def Yield(self, t, T, rate):\n",
    "        res    = -self.A(t, T)/(T-t) + (1/self.kappa)*(1-np.exp(-self.kappa*(T-t))) * 1/(T-t)*rate\n",
    "        return res\n",
    "        \n",
    "    def Thetat(self, time):  \n",
    "        up       = np.max(time + self.dt,0)\n",
    "        down     = np.max(time - self.dt,0)\n",
    "\n",
    "        df       = self.ForwardRate(down) - self.ForwardRate(up)     \n",
    "        df_dt    = -df/(2*self.dt)\n",
    "        \n",
    "        return df_dt + self.kappa*self.ForwardRate(time)+ (self.sigma**2)/(self.kappa*2)*(1-np.exp(-2*self.kappa*time))\n",
    "        \n",
    "    def ZCB_Forward_Integral(self,t, T):                                         \n",
    "        val = integrate.quad(self.ForwardRate, t, T)[0]\n",
    "        return np.exp(-val)    \n",
    "    \n",
    "    def B(self, t, T):\n",
    "        return (1/self.kappa)*(1-np.exp(-self.kappa*(T- t)))\n",
    "    \n",
    "    def Exact_zcb(self, t, T):\n",
    "        B = self.B(t, T)\n",
    "        A = self.A(t, T)\n",
    "        return np.exp(A-self.r0*B)\n",
    "    \n",
    "    def Euler(self, M, I, tau):\n",
    "        # I is the number of simulation\n",
    "        # M is the number of time steps until maturity\n",
    "        # tau is the maturity        \n",
    "        dt = tau / float(M)\n",
    "\n",
    "        M  = int(M)\n",
    "        I  = int(I)\n",
    "        xh = np.zeros((M + 1, I))\n",
    "        self.rates = np.zeros_like(xh)\n",
    "        self.times = np.linspace(0, tau, num = M + 1)\n",
    "        \n",
    "        xh[0]     = self.r0\n",
    "        for t in range(1, M + 1):\n",
    "            xh[t] = xh[t - 1] + (self.Thetat(self.times[t-1]) - self.kappa*xh[t - 1]) * dt + \\\n",
    "                  self.sigma * np.sqrt(dt) * npr.standard_normal(I)\n",
    "        self.rates = xh\n",
    "        \n",
    "    def ExpectedRate(self,t, T):\n",
    "        # this expectation if always from time t = 0\n",
    "        def integrand(time):\n",
    "            theta = splev(time, self.Thetarates)\n",
    "            \n",
    "            return theta * np.exp(-self.kappa*(T-time))\n",
    "                    \n",
    "        val = self.r0*np.exp(-(T-t)*self.kappa) + integrate.quad(integrand, t, T)[0]\n",
    "        return val"
   ]
  },
  {
   "cell_type": "code",
   "execution_count": 5,
   "metadata": {},
   "outputs": [
    {
     "name": "stdout",
     "output_type": "stream",
     "text": [
      "0.011106892675553953\n"
     ]
    }
   ],
   "source": [
    "Maturities = np.asarray(dataframe.Time)\n",
    "Prices     = np.asarray(dataframe.Prices)\n",
    "rate0      = -np.log(Prices[0])/Maturities[0]\n",
    "print(rate0)"
   ]
  },
  {
   "cell_type": "code",
   "execution_count": 6,
   "metadata": {},
   "outputs": [],
   "source": [
    "r0    = rate0   # current level of rates\n",
    "kappa = 0.19    # speed of convergence - Not required in Ho Lee Model\n",
    "theta = \"\"      # long term rate       - Not required in Ho Lee Model\n",
    "sigma = 0.0196  # vol    "
   ]
  },
  {
   "cell_type": "code",
   "execution_count": 7,
   "metadata": {},
   "outputs": [],
   "source": [
    "# create an instance of the object HullWhite and calculate theta(t)\n",
    "hullwhite = HullWhite(Prices,Maturities, theta, kappa, sigma,rate0)\n",
    "hullwhite.PrepareThetas()"
   ]
  },
  {
   "cell_type": "markdown",
   "metadata": {},
   "source": [
    "use some functions and check all is ok"
   ]
  },
  {
   "cell_type": "code",
   "execution_count": 8,
   "metadata": {},
   "outputs": [
    {
     "name": "stdout",
     "output_type": "stream",
     "text": [
      "0.022116360681915383\n",
      "0.022116360681915352\n",
      "0.02207551892796123\n",
      "0.022623262999999998\n",
      "0.021753417999999997\n"
     ]
    }
   ],
   "source": [
    "print(-np.log(hullwhite.Exact_zcb(0,1)))\n",
    "print(hullwhite.Yield(0,1,rate0))\n",
    "print(-np.log(hullwhite.ZCB_Forward_Integral(0,1)))\n",
    "print(dataframe.Zeros[9])\n",
    "print(dataframe.Zeros[8])"
   ]
  },
  {
   "cell_type": "code",
   "execution_count": 9,
   "metadata": {},
   "outputs": [
    {
     "name": "stdout",
     "output_type": "stream",
     "text": [
      "0.039447916443125924\n"
     ]
    }
   ],
   "source": [
    "# The forward rate for the period t = 1, t= 2 is \n",
    "print(-np.log(hullwhite.ZCB_Forward_Integral(1,2)))"
   ]
  },
  {
   "cell_type": "code",
   "execution_count": 10,
   "metadata": {},
   "outputs": [
    {
     "name": "stdout",
     "output_type": "stream",
     "text": [
      "0.9612881889886551\n",
      "0.9613200216527579\n"
     ]
    }
   ],
   "source": [
    "# we can also use Hull and White ZCB formula to calculate the forward price for the period t = 1, t= 2 \n",
    "print(hullwhite.Exact_zcb(0,2)/hullwhite.Exact_zcb(0,1))\n",
    "print(hullwhite.ZCB_Forward_Integral(1,2))"
   ]
  },
  {
   "cell_type": "markdown",
   "metadata": {},
   "source": [
    "### Plot spot, forward rates and $\\theta(t)$"
   ]
  },
  {
   "cell_type": "code",
   "execution_count": 11,
   "metadata": {},
   "outputs": [],
   "source": [
    "Timeline  = np.linspace(Maturities[0], Maturities[-1],100)\n",
    "Fwdrates  = [hullwhite.ForwardRate(t) for t in Timeline]\n",
    "Spotrates = [hullwhite.SpotRate(t) for t in Timeline]\n",
    "Thetarates= [hullwhite.Thetat(t) for t in Timeline]\n",
    "hullwhitePrices=[hullwhite.Exact_zcb(0, t) for t in Timeline]"
   ]
  },
  {
   "cell_type": "code",
   "execution_count": 12,
   "metadata": {},
   "outputs": [
    {
     "data": {
      "image/png": "[encoded data removed]",
      "text/plain": [
       "<Figure size 1152x288 with 2 Axes>"
      ]
     },
     "metadata": {},
     "output_type": "display_data"
    }
   ],
   "source": [
    "plt.figure(figsize=(16,4))\n",
    "plt.subplot(121)\n",
    "plt.plot(Timeline, Fwdrates, label ='calculated Forward rates')\n",
    "plt.plot(Timeline, Spotrates, label='calculated Spot rates')\n",
    "plt.plot(Maturities, -np.log(Prices)/Maturities, marker='.', label='Original Spot rates')\n",
    "plt.xlabel(r'Maturity $T$ ')\n",
    "plt.title(r'continously compounded $r(t,T)$ and $f(t,T)$')\n",
    "plt.grid(True)\n",
    "plt.legend()\n",
    "plt.ylabel('spot and forward rates')\n",
    "\n",
    "plt.subplot(122)\n",
    "plt.plot(Timeline, Thetarates, marker='.',label =r'$\\theta(t)$')\n",
    "plt.xlabel(r'Maturity $T$') \n",
    "plt.title(r'$function$ $\\theta(t)$')\n",
    "plt.grid(True)\n",
    "plt.ylabel(r'$\\theta(t)$')\n",
    "plt.show()\n"
   ]
  },
  {
   "cell_type": "code",
   "execution_count": 13,
   "metadata": {},
   "outputs": [
    {
     "data": {
      "image/png": "[encoded data removed]",
      "text/plain": [
       "<Figure size 1152x288 with 1 Axes>"
      ]
     },
     "metadata": {},
     "output_type": "display_data"
    }
   ],
   "source": [
    "plt.figure(figsize=(16,4))\n",
    "\n",
    "plt.plot(Maturities, Prices, marker='*', label = \"Original Prices\")\n",
    "plt.plot(Timeline, hullwhitePrices, label ='Hull White Prices')\n",
    "\n",
    "plt.xlabel(r'Maturity $T$ ')\n",
    "plt.title(r'Original Prices vs Hull White Model Recovered Prices')\n",
    "plt.grid(True)\n",
    "plt.legend()\n",
    "plt.ylabel('Prices')\n",
    "\n",
    "plt.show()\n"
   ]
  },
  {
   "cell_type": "markdown",
   "metadata": {},
   "source": [
    "### Now we simulate the short term rate with Hull White sde and price zero coupon bonds\n",
    "\n",
    "We aim to recover the same prices we used as input  "
   ]
  },
  {
   "cell_type": "markdown",
   "metadata": {},
   "source": [
    "Let's run the first check on the ZCB with a 5 yr maturity"
   ]
  },
  {
   "cell_type": "code",
   "execution_count": 14,
   "metadata": {},
   "outputs": [],
   "source": [
    "tau = 5\n",
    "I   = 10000       # no. of simulations\n",
    "M   = tau * 252   # trading day per annum"
   ]
  },
  {
   "cell_type": "code",
   "execution_count": 15,
   "metadata": {},
   "outputs": [],
   "source": [
    "# So we always use the same random numbers\n",
    "npr.seed(1500)"
   ]
  },
  {
   "cell_type": "code",
   "execution_count": 16,
   "metadata": {},
   "outputs": [
    {
     "name": "stdout",
     "output_type": "stream",
     "text": [
      "Wall time: 700 ms\n"
     ]
    }
   ],
   "source": [
    "# run the sde\n",
    "%time hullwhite.Euler(M, I, tau)"
   ]
  },
  {
   "cell_type": "code",
   "execution_count": 17,
   "metadata": {},
   "outputs": [],
   "source": [
    "vals = hullwhite.StochasticPrice(hullwhite.rates, hullwhite.times)"
   ]
  },
  {
   "cell_type": "code",
   "execution_count": 18,
   "metadata": {},
   "outputs": [
    {
     "name": "stdout",
     "output_type": "stream",
     "text": [
      "the price is:       0.7951012934582304\n",
      "the price +2sd is : 0.7965295568580492\n",
      "the price -2sd is : 0.7936730300584117\n",
      "the Analytic price is : 0.796529426858124\n"
     ]
    }
   ],
   "source": [
    "print(\"the price is:      \", vals[0])\n",
    "print(\"the price +2sd is :\", vals[1])\n",
    "print(\"the price -2sd is :\", vals[2])\n",
    "print(\"the Analytic price is :\", hullwhite.Exact_zcb(0, 5))"
   ]
  },
  {
   "cell_type": "markdown",
   "metadata": {},
   "source": [
    "All fine! We are ready to run simuations and price all our input ZCBs  "
   ]
  },
  {
   "cell_type": "code",
   "execution_count": 19,
   "metadata": {},
   "outputs": [],
   "source": [
    "# So we always use the same random numbers\n",
    "npr.seed(1500)\n",
    "\n",
    "size   = (Prices.shape[0])\n",
    "Result = np.zeros((size, 6))\n",
    "for i, j in enumerate(Maturities):\n",
    "    tau = j\n",
    "    M   = tau * 252\n",
    "    hullwhite.Euler(M, I, tau)\n",
    "    vals = hullwhite.StochasticPrice(hullwhite.rates, hullwhite.times)\n",
    "    Result[i,0] = np.round(j,5)\n",
    "    Result[i,1] = np.round(vals[0],4)\n",
    "    Result[i,2] = np.round(vals[1],4)\n",
    "    Result[i,3] = np.round(Prices[i],4)\n",
    "    Result[i,4] = np.round(hullwhite.Exact_zcb(0,j),4)\n",
    "    Result[i,5] = np.round(vals[2],4)"
   ]
  },
  {
   "cell_type": "markdown",
   "metadata": {},
   "source": [
    "see the results"
   ]
  },
  {
   "cell_type": "code",
   "execution_count": 20,
   "metadata": {},
   "outputs": [
    {
     "data": {
      "text/html": [
       "<div>\n",
       "<style scoped>\n",
       "    .dataframe tbody tr th:only-of-type {\n",
       "        vertical-align: middle;\n",
       "    }\n",
       "\n",
       "    .dataframe tbody tr th {\n",
       "        vertical-align: top;\n",
       "    }\n",
       "\n",
       "    .dataframe thead th {\n",
       "        text-align: right;\n",
       "    }\n",
       "</style>\n",
       "<table border=\"1\" class=\"dataframe\">\n",
       "  <thead>\n",
       "    <tr style=\"text-align: right;\">\n",
       "      <th></th>\n",
       "      <th>Maturity</th>\n",
       "      <th>MC Price</th>\n",
       "      <th>MC Price+2CD</th>\n",
       "      <th>Original Price</th>\n",
       "      <th>hullwhite Price</th>\n",
       "      <th>MC Price-2CD</th>\n",
       "    </tr>\n",
       "  </thead>\n",
       "  <tbody>\n",
       "    <tr>\n",
       "      <th>68</th>\n",
       "      <td>6.27754</td>\n",
       "      <td>0.7400</td>\n",
       "      <td>0.7417</td>\n",
       "      <td>0.7390</td>\n",
       "      <td>0.7389</td>\n",
       "      <td>0.7382</td>\n",
       "    </tr>\n",
       "    <tr>\n",
       "      <th>69</th>\n",
       "      <td>6.36604</td>\n",
       "      <td>0.7356</td>\n",
       "      <td>0.7374</td>\n",
       "      <td>0.7352</td>\n",
       "      <td>0.7351</td>\n",
       "      <td>0.7339</td>\n",
       "    </tr>\n",
       "    <tr>\n",
       "      <th>70</th>\n",
       "      <td>6.45455</td>\n",
       "      <td>0.7319</td>\n",
       "      <td>0.7336</td>\n",
       "      <td>0.7314</td>\n",
       "      <td>0.7313</td>\n",
       "      <td>0.7301</td>\n",
       "    </tr>\n",
       "    <tr>\n",
       "      <th>71</th>\n",
       "      <td>6.54305</td>\n",
       "      <td>0.7272</td>\n",
       "      <td>0.7290</td>\n",
       "      <td>0.7277</td>\n",
       "      <td>0.7275</td>\n",
       "      <td>0.7254</td>\n",
       "    </tr>\n",
       "    <tr>\n",
       "      <th>72</th>\n",
       "      <td>6.63155</td>\n",
       "      <td>0.7235</td>\n",
       "      <td>0.7253</td>\n",
       "      <td>0.7239</td>\n",
       "      <td>0.7238</td>\n",
       "      <td>0.7217</td>\n",
       "    </tr>\n",
       "    <tr>\n",
       "      <th>73</th>\n",
       "      <td>6.72005</td>\n",
       "      <td>0.7201</td>\n",
       "      <td>0.7219</td>\n",
       "      <td>0.7202</td>\n",
       "      <td>0.7201</td>\n",
       "      <td>0.7183</td>\n",
       "    </tr>\n",
       "    <tr>\n",
       "      <th>74</th>\n",
       "      <td>6.80855</td>\n",
       "      <td>0.7167</td>\n",
       "      <td>0.7185</td>\n",
       "      <td>0.7166</td>\n",
       "      <td>0.7164</td>\n",
       "      <td>0.7148</td>\n",
       "    </tr>\n",
       "    <tr>\n",
       "      <th>75</th>\n",
       "      <td>6.89705</td>\n",
       "      <td>0.7107</td>\n",
       "      <td>0.7126</td>\n",
       "      <td>0.7129</td>\n",
       "      <td>0.7128</td>\n",
       "      <td>0.7089</td>\n",
       "    </tr>\n",
       "    <tr>\n",
       "      <th>76</th>\n",
       "      <td>6.98555</td>\n",
       "      <td>0.7080</td>\n",
       "      <td>0.7098</td>\n",
       "      <td>0.7093</td>\n",
       "      <td>0.7092</td>\n",
       "      <td>0.7061</td>\n",
       "    </tr>\n",
       "    <tr>\n",
       "      <th>77</th>\n",
       "      <td>7.07406</td>\n",
       "      <td>0.7051</td>\n",
       "      <td>0.7070</td>\n",
       "      <td>0.7057</td>\n",
       "      <td>0.7055</td>\n",
       "      <td>0.7033</td>\n",
       "    </tr>\n",
       "  </tbody>\n",
       "</table>\n",
       "</div>"
      ],
      "text/plain": [
       "    Maturity  MC Price  MC Price+2CD  Original Price  hullwhite Price  \\\n",
       "68   6.27754    0.7400        0.7417          0.7390           0.7389   \n",
       "69   6.36604    0.7356        0.7374          0.7352           0.7351   \n",
       "70   6.45455    0.7319        0.7336          0.7314           0.7313   \n",
       "71   6.54305    0.7272        0.7290          0.7277           0.7275   \n",
       "72   6.63155    0.7235        0.7253          0.7239           0.7238   \n",
       "73   6.72005    0.7201        0.7219          0.7202           0.7201   \n",
       "74   6.80855    0.7167        0.7185          0.7166           0.7164   \n",
       "75   6.89705    0.7107        0.7126          0.7129           0.7128   \n",
       "76   6.98555    0.7080        0.7098          0.7093           0.7092   \n",
       "77   7.07406    0.7051        0.7070          0.7057           0.7055   \n",
       "\n",
       "    MC Price-2CD  \n",
       "68        0.7382  \n",
       "69        0.7339  \n",
       "70        0.7301  \n",
       "71        0.7254  \n",
       "72        0.7217  \n",
       "73        0.7183  \n",
       "74        0.7148  \n",
       "75        0.7089  \n",
       "76        0.7061  \n",
       "77        0.7033  "
      ]
     },
     "execution_count": 20,
     "metadata": {},
     "output_type": "execute_result"
    }
   ],
   "source": [
    "Result = pd.DataFrame(Result)\n",
    "Result.columns = ['Maturity','MC Price','MC Price+2CD', 'Original Price', 'hullwhite Price', 'MC Price-2CD',]\n",
    "Result.tail(10)"
   ]
  },
  {
   "cell_type": "markdown",
   "metadata": {},
   "source": [
    "### Let's find the one year forward price of a ZCB maturing in 5 years"
   ]
  },
  {
   "cell_type": "markdown",
   "metadata": {},
   "source": [
    "We exploit the formula\n",
    "<br>\n",
    "\\begin{equation}\n",
    "Y(t,t+\\tau) = -\\frac{A(t,t+\\tau)}{\\tau} + \\frac{1}{k}\\left(\\frac{1-e^{-2k\\tau}}{\\tau}\\right)r_t\n",
    "\\end{equation}\n",
    "<br>\n",
    "in the introduction to recover the forward price of the ZCB with a 5 year to maturity. \n",
    "\n",
    "The idea is to simulate $dr(t)$ for one year and use the formula above to value the ZCB which has now a four year to maturity. "
   ]
  },
  {
   "cell_type": "code",
   "execution_count": 21,
   "metadata": {},
   "outputs": [],
   "source": [
    "# So we always use the same random numbers\n",
    "npr.seed(1500)\n",
    "\n",
    "I   = 10000     # no. of simulations\n",
    "T_O = 1 # 1 year\n",
    "T_M = 5 # 5 year\n",
    "M   = T_O * 252 # trading day per annum\n",
    "    \n",
    "BondValue = ZCBValue(0) # an instance of class ZCBValue, to model the payoff value at year 1    \n",
    "vals = hullwhite.FutureZCB(M,I, T_O, T_M, BondValue)"
   ]
  },
  {
   "cell_type": "code",
   "execution_count": 22,
   "metadata": {},
   "outputs": [
    {
     "name": "stdout",
     "output_type": "stream",
     "text": [
      "----------------------------------------------------------------\n",
      "the MC price of a ZCB maturing in 5 years is: 0.7967\n",
      "The ZCB price from Formulae is                0.7965\n",
      "----------------------------------------------------------------\n",
      "the MC price +2sd is : 0.7976217862647464\n",
      "the MC price -2sd is : 0.7957892218584118\n",
      "----------------------------------------------------------------\n",
      "the MC price of a ZCB maturing in 1 year is: 0.9782\n",
      "The ZCB price from Formulae is               0.9781\n",
      "----------------------------------------------------------------\n",
      "The MC Expected short term rate in 1 year is  0.0321\n",
      "The Expected short term rate in 1 year is  0.0321\n",
      "----------------------------------------------------------------\n",
      "the Price in 1 year of a ZCB price maturing in 5 years is 0.8141\n",
      "The fwd price from Formulae is                            0.8143\n"
     ]
    }
   ],
   "source": [
    "print( \"----------------------------------------------------------------\")\n",
    "print(\"the MC price of a ZCB maturing in\",T_M, \"years is:\", np.round(vals[0],4))\n",
    "print(\"The ZCB price from Formulae is               \", np.round(hullwhite.Exact_zcb(0, 5),4))\n",
    "\n",
    "print( \"----------------------------------------------------------------\")\n",
    "print(\"the MC price +2sd is :\", vals[1])\n",
    "print(\"the MC price -2sd is :\", vals[2])\n",
    "print( \"----------------------------------------------------------------\")\n",
    "\n",
    "print(\"the MC price of a ZCB maturing in\",T_O, \"year is:\", np.round(vals[4],4))\n",
    "print(\"The ZCB price from Formulae is              \", np.round(hullwhite.Exact_zcb(0, 1),4))\n",
    "\n",
    "print( \"----------------------------------------------------------------\")\n",
    "print(\"The MC Expected short term rate in\",T_O,\"year is \", np.round(vals[5],4))\n",
    "print(\"The Expected short term rate in\",T_O,\"year is \", np.round(hullwhite.ExpectedRate(0,1),4))\n",
    "\n",
    "print( \"----------------------------------------------------------------\")\n",
    "print(\"the Price in\",T_O,\"year of a ZCB price maturing in\",T_M,\"years is\", np.round(vals[3],4))\n",
    "print(\"The fwd price from Formulae is                           \", np.round(hullwhite.Exact_zcb(0, 5)/hullwhite.Exact_zcb(0, 1),4))"
   ]
  },
  {
   "cell_type": "markdown",
   "metadata": {},
   "source": [
    "### Let's price an option maturing in one year, on a zero coupon bond maturing in 5 years \n",
    "\n",
    "The idea is to simulate $dr(t)$ for one year, until the option matures, and use the same formula used previously to value the ZCB which has now a four year to maturity. Once we know the ZCB value, we can calculate the option payoff, and consequenttly discount it back using the simulated rates paths. \n",
    "\n",
    "We check the simulated result with the Analytic price "
   ]
  },
  {
   "cell_type": "code",
   "execution_count": 23,
   "metadata": {},
   "outputs": [],
   "source": [
    "# So we always use the same random numbers\n",
    "npr.seed(1500)\n",
    "\n",
    "I   = 10000   # no. of simulations\n",
    "OptionStrike = 0.8\n",
    "BondValue    = ZCBOption(OptionStrike) # an instance of class ZCBOption, to model the payoff value at year 1    "
   ]
  },
  {
   "cell_type": "code",
   "execution_count": 24,
   "metadata": {},
   "outputs": [
    {
     "name": "stdout",
     "output_type": "stream",
     "text": [
      "Wall time: 37.4 s\n"
     ]
    }
   ],
   "source": [
    "%time vals = hullwhite.FutureZCB(M,I, T_O, T_M, BondValue)"
   ]
  },
  {
   "cell_type": "code",
   "execution_count": 25,
   "metadata": {},
   "outputs": [
    {
     "name": "stdout",
     "output_type": "stream",
     "text": [
      "------------------------------------------------------\n",
      "the MC price of an one year Option on a ZCB maturing in: 5 years is: 0.0236\n",
      "------------------------------------------------------\n",
      "the MC price +1.96sd is : 0.024199908524697566\n",
      "the MC price -1.96sd is : 0.023078667180169297\n",
      "The Analytic hullwhite Price is  0.02404\n"
     ]
    }
   ],
   "source": [
    "print( \"------------------------------------------------------\")\n",
    "print(\"the MC price of an one year Option on a ZCB maturing in:\",T_M, \"years is:\", np.round(vals[0],4))\n",
    "\n",
    "print( \"------------------------------------------------------\")\n",
    "print(\"the MC price +1.96sd is :\", vals[1])\n",
    "print(\"the MC price -1.96sd is :\", vals[2])\n",
    "\n",
    "print(\"The Analytic hullwhite Price is \", 0.024040) # Hull White Analytic Option model is not included. Price was taken from\n",
    "# Fixed Income Securities, Pietro Veronesi, chapter 19, example 19.4, page 662 "
   ]
  }
 ],
 "metadata": {
  "kernelspec": {
   "display_name": "Python 3",
   "language": "python",
   "name": "python3"
  },
  "language_info": {
   "codemirror_mode": {
    "name": "ipython",
    "version": 3
   },
   "file_extension": ".py",
   "mimetype": "text/x-python",
   "name": "python",
   "nbconvert_exporter": "python",
   "pygments_lexer": "ipython3",
   "version": "3.6.4"
  }
 },
 "nbformat": 4,
 "nbformat_minor": 2
}
