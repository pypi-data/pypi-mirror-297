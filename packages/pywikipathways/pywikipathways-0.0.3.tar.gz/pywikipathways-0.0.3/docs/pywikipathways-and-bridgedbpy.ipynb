{
 "cells": [
  {
   "cell_type": "markdown",
   "id": "dbd45710-36c4-4eaa-bfc4-8f43419f3103",
   "metadata": {},
   "source": [
    "# pywikipathways and bridgedbpy\n",
    "[![Open In Colab](https://colab.research.google.com/assets/colab-badge.svg)](https://colab.research.google.com/github/kozo2/pywikipathways/blob/main/docs/pywikipathways-and-bridgedbpy.ipynb)\n",
    "\n",
    "by Kozo Nishida and Alexander Pico\n",
    "\n",
    "pywikipathways 0.0.2  \n",
    "bridgedbpy 0.0.2\n",
    "\n",
    "*WikiPathways* is a well-known repository for biological pathways that provides unique tools to the research community for content creation, editing and utilization [1].\n",
    "\n",
    "Python is a powerful programming language and environment for statistical and exploratory data analysis.\n",
    "\n",
    "*pywikipathways* leverages the WikiPathways API to communicate between **Python** and WikiPathways, allowing any pathway to be queried, interrogated and downloaded in both data and image formats. Queries are typically performed based on “Xrefs”, standardized identifiers for genes, proteins and metabolites. Once you can identified a pathway, you can use the WPID (WikiPathways identifier) to make additional queries.\n",
    "\n",
    "[bridgedbpy](https://pypi.org/project/bridgedbpy/) leverages the BridgeDb API [2] to provide a number of functions related to ID mapping and identifiers in general for gene, proteins and metabolites.\n",
    "\n",
    "Together, *bridgedbpy* provides convience to the typical *pywikipathways* user by supplying formal names and codes defined by BridgeDb and used by WikiPathways.\n",
    "\n",
    "## Prerequisites\n",
    "In addition to this **pywikipathways** package, you’ll also need to install **bridgedbpy**:"
   ]
  },
  {
   "cell_type": "code",
   "execution_count": null,
   "id": "947efd71-ab17-4ac3-873a-0e5b622d3b40",
   "metadata": {},
   "outputs": [],
   "source": [
    "!pip install pywikipathways bridgedbpy"
   ]
  },
  {
   "cell_type": "code",
   "execution_count": 1,
   "id": "6664c95e-08dc-4f91-afb2-f9cc4ed71427",
   "metadata": {},
   "outputs": [],
   "source": [
    "import pywikipathways as pwpw\n",
    "import bridgedbpy as brdgdbp"
   ]
  },
  {
   "cell_type": "markdown",
   "id": "53a39b30-5a4c-4e8c-98c6-a07edd27239a",
   "metadata": {},
   "source": [
    "## Getting started\n",
    "Lets first check some of the most basic functions from each package. For example, here’s how you check to see which species are currently supported by WikiPathways:"
   ]
  },
  {
   "cell_type": "code",
   "execution_count": 2,
   "id": "e35c248e-6e74-4794-8e39-fe1a14c8bd17",
   "metadata": {},
   "outputs": [],
   "source": [
    "org_names = pwpw.list_organisms()"
   ]
  },
  {
   "cell_type": "code",
   "execution_count": 3,
   "id": "3f5de715-d0e5-4663-985a-875fa2b7e363",
   "metadata": {},
   "outputs": [
    {
     "data": {
      "text/plain": [
       "['Unspecified',\n",
       " 'Acetobacterium woodii',\n",
       " 'Anopheles gambiae',\n",
       " 'Arabidopsis thaliana',\n",
       " 'Bacillus subtilis',\n",
       " 'Beta vulgaris',\n",
       " 'Bos taurus',\n",
       " 'Caenorhabditis elegans',\n",
       " 'Canis familiaris',\n",
       " 'Clostridium thermocellum',\n",
       " 'Danio rerio',\n",
       " 'Daphnia magna',\n",
       " 'Daphnia pulex',\n",
       " 'Drosophila melanogaster',\n",
       " 'Escherichia coli',\n",
       " 'Equus caballus',\n",
       " 'Gallus gallus',\n",
       " 'Glycine max',\n",
       " 'Gibberella zeae',\n",
       " 'Homo sapiens',\n",
       " 'Hordeum vulgare',\n",
       " 'Mus musculus',\n",
       " 'Mycobacterium tuberculosis',\n",
       " 'Oryza sativa',\n",
       " 'Pan troglodytes',\n",
       " 'Populus trichocarpa',\n",
       " 'Rattus norvegicus',\n",
       " 'Saccharomyces cerevisiae',\n",
       " 'Solanum lycopersicum',\n",
       " 'Sus scrofa',\n",
       " 'Vitis vinifera',\n",
       " 'Xenopus tropicalis',\n",
       " 'Zea mays',\n",
       " 'Plasmodium falciparum',\n",
       " 'Brassica napus']"
      ]
     },
     "execution_count": 3,
     "metadata": {},
     "output_type": "execute_result"
    }
   ],
   "source": [
    "org_names"
   ]
  },
  {
   "cell_type": "markdown",
   "id": "3a615a5a-66e8-4ae9-aa36-9ffd7e3c1f2d",
   "metadata": {},
   "source": [
    "You should see 30 or more species listed. This list is useful for subsequent queries that take an *organism* argument, to avoid misspelling.\n",
    "\n",
    "However, some function want the organism code, rather than the full name. Using bridgedbpy’s *getOrganismCode* function, we can get those:"
   ]
  },
  {
   "cell_type": "code",
   "execution_count": 5,
   "id": "d1a8b7ff-bdee-424e-b875-267b74c0c5a5",
   "metadata": {},
   "outputs": [
    {
     "data": {
      "text/plain": [
       "'Escherichia coli'"
      ]
     },
     "execution_count": 5,
     "metadata": {},
     "output_type": "execute_result"
    }
   ],
   "source": [
    "org_names[14]"
   ]
  },
  {
   "cell_type": "code",
   "execution_count": 6,
   "id": "34619b51-8073-4d17-a09b-89da3c742e12",
   "metadata": {},
   "outputs": [
    {
     "data": {
      "text/plain": [
       "'Ec'"
      ]
     },
     "execution_count": 6,
     "metadata": {},
     "output_type": "execute_result"
    }
   ],
   "source": [
    "brdgdbp.get_organism_code(org_names[14])"
   ]
  },
  {
   "cell_type": "markdown",
   "id": "478bf280-c205-41b2-b95a-1bd09d4d52f8",
   "metadata": {},
   "source": [
    "## Identifier System Names and Codes\n",
    "Even more obscure are the various datasources providing official identifiers and how they are named and coded. Fortunately, BridgeDb defines these clearly and simply. And WikiPathways relies on these BridgeDb definitions.\n",
    "\n",
    "For example, this is how we find the system code for Ensembl:"
   ]
  },
  {
   "cell_type": "code",
   "execution_count": 7,
   "id": "68bb03a5-64ea-45da-b0ed-206cb11fa86b",
   "metadata": {},
   "outputs": [
    {
     "data": {
      "text/plain": [
       "'En'"
      ]
     },
     "execution_count": 7,
     "metadata": {},
     "output_type": "execute_result"
    }
   ],
   "source": [
    "brdgdbp.get_system_code(\"Ensembl\")"
   ]
  },
  {
   "cell_type": "markdown",
   "id": "074d2e04-a22e-4aed-a5f5-06c925f6946d",
   "metadata": {},
   "source": [
    "It’s “En”! That’s simple enough. But some are less obvious…"
   ]
  },
  {
   "cell_type": "code",
   "execution_count": 8,
   "id": "f8f4757c-46c0-46e7-a837-0230c1b52e33",
   "metadata": {},
   "outputs": [
    {
     "data": {
      "text/plain": [
       "'L'"
      ]
     },
     "execution_count": 8,
     "metadata": {},
     "output_type": "execute_result"
    }
   ],
   "source": [
    "brdgdbp.get_system_code(\"Entrez Gene\")"
   ]
  },
  {
   "cell_type": "markdown",
   "id": "940f2a81-f284-476b-b2f6-cec3aef3b015",
   "metadata": {},
   "source": [
    "It’s “L” because the resource used to be named “Locus Link”. Sigh… Don’t try to guess these codes. Use this function from BridgeDb (above) to get the correct code. By the way, all the systems supported by BridgeDb are here: https://github.com/bridgedb/datasources/blob/main/datasources.tsv\n",
    "\n",
    "## How to use bridgedbpy with pywikipathways\n",
    "Here are some specific combo functions that are useful. They let you skip worrying about system codes altogether!\n",
    "\n",
    "1. Getting all the pathways containing the HGNC symbol “TNF”:\n"
   ]
  },
  {
   "cell_type": "code",
   "execution_count": 9,
   "id": "602c1af0-98e4-4efc-a6c3-43634da10a09",
   "metadata": {},
   "outputs": [
    {
     "data": {
      "text/plain": [
       "0     WP5071\n",
       "1     WP5073\n",
       "2     WP5115\n",
       "3      WP176\n",
       "4     WP2328\n",
       "       ...  \n",
       "80    WP5088\n",
       "81    WP5093\n",
       "82    WP5094\n",
       "83    WP5098\n",
       "84    WP2513\n",
       "Name: id, Length: 85, dtype: object"
      ]
     },
     "execution_count": 9,
     "metadata": {},
     "output_type": "execute_result"
    }
   ],
   "source": [
    "tnf_pathways = pwpw.find_pathway_ids_by_xref('TNF', brdgdbp.get_system_code('HGNC'))\n",
    "tnf_pathways"
   ]
  },
  {
   "cell_type": "markdown",
   "id": "a1ff0bad-22e8-4893-a77a-cad331cb55d5",
   "metadata": {},
   "source": [
    "2. Getting all the genes from a pathway as Ensembl identifiers:"
   ]
  },
  {
   "cell_type": "code",
   "execution_count": 10,
   "id": "2cda4ffd-24b9-46f1-b291-a5357b8425ff",
   "metadata": {},
   "outputs": [
    {
     "data": {
      "text/plain": [
       "['ENSG00000092009',\n",
       " 'ENSG00000100448',\n",
       " 'ENSG00000100739',\n",
       " 'ENSG00000105329',\n",
       " 'ENSG00000113889',\n",
       " 'ENSG00000130234',\n",
       " 'ENSG00000130368',\n",
       " 'ENSG00000135744',\n",
       " 'ENSG00000143839',\n",
       " 'ENSG00000144891',\n",
       " 'ENSG00000151623',\n",
       " 'ENSG00000159640',\n",
       " 'ENSG00000164867',\n",
       " 'ENSG00000168398',\n",
       " 'ENSG00000179142',\n",
       " 'ENSG00000180772',\n",
       " 'ENSG00000182220']"
      ]
     },
     "execution_count": 10,
     "metadata": {},
     "output_type": "execute_result"
    }
   ],
   "source": [
    "pwpw.get_xref_list('WP554', brdgdbp.get_system_code('Ensembl'))"
   ]
  },
  {
   "cell_type": "markdown",
   "id": "4408a805-9147-4c12-9346-6d331fd6917b",
   "metadata": {},
   "source": [
    "3. Getting all the metabolites from a pathway as ChEBI identifiers:"
   ]
  },
  {
   "cell_type": "code",
   "execution_count": 12,
   "id": "f52e887c-a6de-4e67-b288-7a9f2030e22f",
   "metadata": {},
   "outputs": [
    {
     "data": {
      "text/plain": [
       "['16973',\n",
       " '2718',\n",
       " '2719',\n",
       " '27584',\n",
       " '29108',\n",
       " '3165',\n",
       " '35457',\n",
       " '55438',\n",
       " '80128',\n",
       " '80129',\n",
       " 'CHEBI:16973',\n",
       " 'CHEBI:2718',\n",
       " 'CHEBI:2719',\n",
       " 'CHEBI:27584',\n",
       " 'CHEBI:29108',\n",
       " 'CHEBI:3165',\n",
       " 'CHEBI:35457',\n",
       " 'CHEBI:55438',\n",
       " 'CHEBI:80128',\n",
       " 'CHEBI:80129']"
      ]
     },
     "execution_count": 12,
     "metadata": {},
     "output_type": "execute_result"
    }
   ],
   "source": [
    "pwpw.get_xref_list('WP554', brdgdbp.get_system_code('ChEBI'))"
   ]
  },
  {
   "cell_type": "markdown",
   "id": "4c959638-9c4a-40db-b680-922c95533d11",
   "metadata": {},
   "source": [
    "## Other tips\n",
    "And if you ever find yourself with a system code, e.g., from a pywikipathways return result and you’re not sure what it is, then you can use this function:"
   ]
  },
  {
   "cell_type": "code",
   "execution_count": 13,
   "id": "39b3b2f5-48f3-44ff-a5ff-cada8dc35aba",
   "metadata": {},
   "outputs": [
    {
     "data": {
      "text/plain": [
       "'ChEBI'"
      ]
     },
     "execution_count": 13,
     "metadata": {},
     "output_type": "execute_result"
    }
   ],
   "source": [
    "brdgdbp.get_full_name('Ce')"
   ]
  },
  {
   "cell_type": "markdown",
   "id": "4f2012c2-84f8-46b1-a5b3-3f620b122b86",
   "metadata": {},
   "source": [
    "## References\n",
    "1. Pico AR, Kelder T, Iersel MP van, Hanspers K, Conklin BR, Evelo C: **WikiPathways: Pathway editing for the people.** *PLoS Biol* 2008, **6:**e184+.\n",
    "\n",
    "2. Iersel M van, Pico A, Kelder T, Gao J, Ho I, Hanspers K, Conklin B, Evelo C: **The BridgeDb framework: Standardized access to gene, protein and metabolite identifier mapping services.** *BMC Bioinformatics* 2010, **11:**5+."
   ]
  }
 ],
 "metadata": {
  "kernelspec": {
   "display_name": "Python 3 (ipykernel)",
   "language": "python",
   "name": "python3"
  },
  "language_info": {
   "codemirror_mode": {
    "name": "ipython",
    "version": 3
   },
   "file_extension": ".py",
   "mimetype": "text/x-python",
   "name": "python",
   "nbconvert_exporter": "python",
   "pygments_lexer": "ipython3",
   "version": "3.9.6"
  }
 },
 "nbformat": 4,
 "nbformat_minor": 5
}
